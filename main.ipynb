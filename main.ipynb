{
 "cells": [
  {
   "cell_type": "markdown",
   "metadata": {},
   "source": [
    "# Food Delivery Time Predictor"
   ]
  },
  {
   "cell_type": "markdown",
   "metadata": {},
   "source": [
    "### Inspiration\n",
    "\n",
    "I use food delivery apps all the time! There are times when my food arrives quick and times when my food arrives slow, so I wanted to explore which factors affect the delivery time for food, and I wanted to predict delivery times based on these factors through an ML model."
   ]
  },
  {
   "cell_type": "markdown",
   "metadata": {},
   "source": [
    "#### Import Libraries & Read Data"
   ]
  },
  {
   "cell_type": "code",
   "execution_count": 1422,
   "metadata": {},
   "outputs": [],
   "source": [
    "import pandas as pd\n",
    "import numpy as np\n",
    "import matplotlib.pyplot as plt"
   ]
  },
  {
   "cell_type": "code",
   "execution_count": 1423,
   "metadata": {},
   "outputs": [],
   "source": [
    "train_data = pd.read_csv('train.csv')"
   ]
  },
  {
   "cell_type": "code",
   "execution_count": 1424,
   "metadata": {},
   "outputs": [
    {
     "name": "stdout",
     "output_type": "stream",
     "text": [
      "Train data length is 4.00 times the length of test data.\n",
      "This means that the data has 80/20 train/test split.\n"
     ]
    }
   ],
   "source": [
    "from sklearn.model_selection import train_test_split\n",
    "\n",
    "train_data, test_data = train_test_split(train_data, test_size=0.2, random_state=1)\n",
    "\n",
    "times = len(train_data) / len(test_data)\n",
    "print('Train data length is', '%.2f' % times, 'times the length of test data.')\n",
    "train_percent = (100 / (times + 1)) * times\n",
    "test_percent = 100 - train_percent\n",
    "print('This means that the data has', '%.0f' % train_percent + '/' + '%.0f' % test_percent, 'train/test split.')\n",
    "\n",
    "train_indices = train_data.index\n",
    "test_indices = test_data.index"
   ]
  },
  {
   "cell_type": "markdown",
   "metadata": {},
   "source": [
    "#### EDA and Feature Engineering"
   ]
  },
  {
   "cell_type": "code",
   "execution_count": 1425,
   "metadata": {},
   "outputs": [
    {
     "data": {
      "text/html": [
       "<div>\n",
       "<style scoped>\n",
       "    .dataframe tbody tr th:only-of-type {\n",
       "        vertical-align: middle;\n",
       "    }\n",
       "\n",
       "    .dataframe tbody tr th {\n",
       "        vertical-align: top;\n",
       "    }\n",
       "\n",
       "    .dataframe thead th {\n",
       "        text-align: right;\n",
       "    }\n",
       "</style>\n",
       "<table border=\"1\" class=\"dataframe\">\n",
       "  <thead>\n",
       "    <tr style=\"text-align: right;\">\n",
       "      <th></th>\n",
       "      <th>ID</th>\n",
       "      <th>Delivery_person_ID</th>\n",
       "      <th>Delivery_person_Age</th>\n",
       "      <th>Delivery_person_Ratings</th>\n",
       "      <th>Restaurant_latitude</th>\n",
       "      <th>Restaurant_longitude</th>\n",
       "      <th>Delivery_location_latitude</th>\n",
       "      <th>Delivery_location_longitude</th>\n",
       "      <th>Order_Date</th>\n",
       "      <th>Time_Orderd</th>\n",
       "      <th>Time_Order_picked</th>\n",
       "      <th>Weatherconditions</th>\n",
       "      <th>Road_traffic_density</th>\n",
       "      <th>Vehicle_condition</th>\n",
       "      <th>Type_of_order</th>\n",
       "      <th>Type_of_vehicle</th>\n",
       "      <th>multiple_deliveries</th>\n",
       "      <th>Festival</th>\n",
       "      <th>City</th>\n",
       "      <th>Time_taken(min)</th>\n",
       "    </tr>\n",
       "  </thead>\n",
       "  <tbody>\n",
       "    <tr>\n",
       "      <th>25857</th>\n",
       "      <td>0x6337</td>\n",
       "      <td>PUNERES08DEL01</td>\n",
       "      <td>27</td>\n",
       "      <td>4.9</td>\n",
       "      <td>18.534080</td>\n",
       "      <td>73.898520</td>\n",
       "      <td>18.544080</td>\n",
       "      <td>73.908520</td>\n",
       "      <td>15-03-2022</td>\n",
       "      <td>11:55:00</td>\n",
       "      <td>12:00:00</td>\n",
       "      <td>conditions Sunny</td>\n",
       "      <td>High</td>\n",
       "      <td>1</td>\n",
       "      <td>Meal</td>\n",
       "      <td>motorcycle</td>\n",
       "      <td>0</td>\n",
       "      <td>No</td>\n",
       "      <td>Urban</td>\n",
       "      <td>(min) 19</td>\n",
       "    </tr>\n",
       "    <tr>\n",
       "      <th>2575</th>\n",
       "      <td>0x1b33</td>\n",
       "      <td>INDORES01DEL03</td>\n",
       "      <td>38</td>\n",
       "      <td>4.5</td>\n",
       "      <td>22.695207</td>\n",
       "      <td>75.866059</td>\n",
       "      <td>22.725207</td>\n",
       "      <td>75.896059</td>\n",
       "      <td>13-03-2022</td>\n",
       "      <td>19:50:00</td>\n",
       "      <td>20:05:00</td>\n",
       "      <td>conditions Sunny</td>\n",
       "      <td>Jam</td>\n",
       "      <td>1</td>\n",
       "      <td>Buffet</td>\n",
       "      <td>motorcycle</td>\n",
       "      <td>1</td>\n",
       "      <td>No</td>\n",
       "      <td>NaN</td>\n",
       "      <td>(min) 17</td>\n",
       "    </tr>\n",
       "  </tbody>\n",
       "</table>\n",
       "</div>"
      ],
      "text/plain": [
       "            ID Delivery_person_ID Delivery_person_Age Delivery_person_Ratings  \\\n",
       "25857  0x6337     PUNERES08DEL01                   27                     4.9   \n",
       "2575   0x1b33     INDORES01DEL03                   38                     4.5   \n",
       "\n",
       "       Restaurant_latitude  Restaurant_longitude  Delivery_location_latitude  \\\n",
       "25857            18.534080             73.898520                   18.544080   \n",
       "2575             22.695207             75.866059                   22.725207   \n",
       "\n",
       "       Delivery_location_longitude  Order_Date Time_Orderd Time_Order_picked  \\\n",
       "25857                    73.908520  15-03-2022    11:55:00          12:00:00   \n",
       "2575                     75.896059  13-03-2022    19:50:00          20:05:00   \n",
       "\n",
       "      Weatherconditions Road_traffic_density  Vehicle_condition Type_of_order  \\\n",
       "25857  conditions Sunny                High                   1         Meal    \n",
       "2575   conditions Sunny                 Jam                   1       Buffet    \n",
       "\n",
       "      Type_of_vehicle multiple_deliveries Festival    City Time_taken(min)  \n",
       "25857     motorcycle                    0      No   Urban         (min) 19  \n",
       "2575      motorcycle                    1      No     NaN         (min) 17  "
      ]
     },
     "execution_count": 1425,
     "metadata": {},
     "output_type": "execute_result"
    }
   ],
   "source": [
    "# take a look at our data\n",
    "train_data.head(2)"
   ]
  },
  {
   "cell_type": "code",
   "execution_count": 1426,
   "metadata": {},
   "outputs": [
    {
     "data": {
      "text/html": [
       "<div>\n",
       "<style scoped>\n",
       "    .dataframe tbody tr th:only-of-type {\n",
       "        vertical-align: middle;\n",
       "    }\n",
       "\n",
       "    .dataframe tbody tr th {\n",
       "        vertical-align: top;\n",
       "    }\n",
       "\n",
       "    .dataframe thead th {\n",
       "        text-align: right;\n",
       "    }\n",
       "</style>\n",
       "<table border=\"1\" class=\"dataframe\">\n",
       "  <thead>\n",
       "    <tr style=\"text-align: right;\">\n",
       "      <th></th>\n",
       "      <th>ID</th>\n",
       "      <th>Delivery_person_ID</th>\n",
       "      <th>Delivery_person_Age</th>\n",
       "      <th>Delivery_person_Ratings</th>\n",
       "      <th>Restaurant_latitude</th>\n",
       "      <th>Restaurant_longitude</th>\n",
       "      <th>Delivery_location_latitude</th>\n",
       "      <th>Delivery_location_longitude</th>\n",
       "      <th>Order_Date</th>\n",
       "      <th>Time_Orderd</th>\n",
       "      <th>Time_Order_picked</th>\n",
       "      <th>Weatherconditions</th>\n",
       "      <th>Road_traffic_density</th>\n",
       "      <th>Vehicle_condition</th>\n",
       "      <th>Type_of_order</th>\n",
       "      <th>Type_of_vehicle</th>\n",
       "      <th>multiple_deliveries</th>\n",
       "      <th>Festival</th>\n",
       "      <th>City</th>\n",
       "      <th>Time_taken(min)</th>\n",
       "    </tr>\n",
       "  </thead>\n",
       "  <tbody>\n",
       "    <tr>\n",
       "      <th>22766</th>\n",
       "      <td>0x8c53</td>\n",
       "      <td>INDORES16DEL01</td>\n",
       "      <td>23</td>\n",
       "      <td>4.6</td>\n",
       "      <td>22.744648</td>\n",
       "      <td>75.894377</td>\n",
       "      <td>22.784648</td>\n",
       "      <td>75.934377</td>\n",
       "      <td>05-03-2022</td>\n",
       "      <td>13:15:00</td>\n",
       "      <td>13:25:00</td>\n",
       "      <td>conditions Cloudy</td>\n",
       "      <td>High</td>\n",
       "      <td>1</td>\n",
       "      <td>Snack</td>\n",
       "      <td>scooter</td>\n",
       "      <td>1</td>\n",
       "      <td>No</td>\n",
       "      <td>Metropolitian</td>\n",
       "      <td>(min) 23</td>\n",
       "    </tr>\n",
       "    <tr>\n",
       "      <th>26061</th>\n",
       "      <td>0xc8b4</td>\n",
       "      <td>AURGRES20DEL01</td>\n",
       "      <td>28</td>\n",
       "      <td>4.9</td>\n",
       "      <td>0.000000</td>\n",
       "      <td>0.000000</td>\n",
       "      <td>0.070000</td>\n",
       "      <td>0.070000</td>\n",
       "      <td>14-02-2022</td>\n",
       "      <td>23:50:00</td>\n",
       "      <td>23:55:00</td>\n",
       "      <td>conditions Sunny</td>\n",
       "      <td>Low</td>\n",
       "      <td>0</td>\n",
       "      <td>Drinks</td>\n",
       "      <td>motorcycle</td>\n",
       "      <td>0</td>\n",
       "      <td>No</td>\n",
       "      <td>Metropolitian</td>\n",
       "      <td>(min) 25</td>\n",
       "    </tr>\n",
       "  </tbody>\n",
       "</table>\n",
       "</div>"
      ],
      "text/plain": [
       "            ID Delivery_person_ID Delivery_person_Age Delivery_person_Ratings  \\\n",
       "22766  0x8c53     INDORES16DEL01                   23                     4.6   \n",
       "26061  0xc8b4     AURGRES20DEL01                   28                     4.9   \n",
       "\n",
       "       Restaurant_latitude  Restaurant_longitude  Delivery_location_latitude  \\\n",
       "22766            22.744648             75.894377                   22.784648   \n",
       "26061             0.000000              0.000000                    0.070000   \n",
       "\n",
       "       Delivery_location_longitude  Order_Date Time_Orderd Time_Order_picked  \\\n",
       "22766                    75.934377  05-03-2022    13:15:00          13:25:00   \n",
       "26061                     0.070000  14-02-2022    23:50:00          23:55:00   \n",
       "\n",
       "       Weatherconditions Road_traffic_density  Vehicle_condition  \\\n",
       "22766  conditions Cloudy                High                   1   \n",
       "26061   conditions Sunny                 Low                   0   \n",
       "\n",
       "      Type_of_order Type_of_vehicle multiple_deliveries Festival  \\\n",
       "22766        Snack         scooter                    1      No    \n",
       "26061       Drinks      motorcycle                    0      No    \n",
       "\n",
       "                 City Time_taken(min)  \n",
       "22766  Metropolitian         (min) 23  \n",
       "26061  Metropolitian         (min) 25  "
      ]
     },
     "execution_count": 1426,
     "metadata": {},
     "output_type": "execute_result"
    }
   ],
   "source": [
    "test_data.head(2)"
   ]
  },
  {
   "cell_type": "code",
   "execution_count": 1427,
   "metadata": {},
   "outputs": [
    {
     "data": {
      "text/plain": [
       "Delivery_person_Age        1490\n",
       "Delivery_person_Ratings    1536\n",
       "Time_Orderd                1388\n",
       "Weatherconditions           487\n",
       "Road_traffic_density        476\n",
       "multiple_deliveries         794\n",
       "Festival                    181\n",
       "City                        953\n",
       "dtype: int64"
      ]
     },
     "execution_count": 1427,
     "metadata": {},
     "output_type": "execute_result"
    }
   ],
   "source": [
    "# the NaN values in the dataset currently are strings, so let's replace them with the actual np.nan value\n",
    "train_data = train_data.replace('NaN', np.nan, regex=True)\n",
    "test_data = test_data.replace('NaN', np.nan, regex=True)\n",
    "\n",
    "# let's see how many nan values are present\n",
    "nan_count = train_data.isna().sum()\n",
    "nan_count[nan_count > 0]"
   ]
  },
  {
   "cell_type": "code",
   "execution_count": 1428,
   "metadata": {},
   "outputs": [
    {
     "data": {
      "text/plain": [
       "Delivery_person_Age            1490\n",
       "Delivery_person_Ratings        1536\n",
       "Restaurant_latitude               0\n",
       "Restaurant_longitude              0\n",
       "Delivery_location_latitude        0\n",
       "Delivery_location_longitude       0\n",
       "Time_Orderd                    1388\n",
       "Weatherconditions               487\n",
       "Road_traffic_density            476\n",
       "Type_of_order                     0\n",
       "Type_of_vehicle                   0\n",
       "multiple_deliveries             794\n",
       "Festival                        181\n",
       "City                            953\n",
       "Time_taken(min)                   0\n",
       "dtype: int64"
      ]
     },
     "execution_count": 1428,
     "metadata": {},
     "output_type": "execute_result"
    }
   ],
   "source": [
    "# remove useless columns\n",
    "\n",
    "# ID of the driver does not affect the delivery time in every way, as the ID's are assigned at random\n",
    "# order date is very very unlikely to affect the delivery time (potentially holidays, but still unlikely to affect too much)\n",
    "# vehicle condition likely won't affect since older and newer types of the same vehicle would travel about the same speed\n",
    "# we already have time ordered so we don't need to keep time order picked up\n",
    "useless_cols = ['ID', 'Delivery_person_ID', 'Order_Date', 'Vehicle_condition', 'Time_Order_picked']\n",
    "train_data.drop(useless_cols, axis=1, inplace=True)\n",
    "test_data.drop(useless_cols, axis=1, inplace=True)\n",
    "train_data.isna().sum()"
   ]
  },
  {
   "cell_type": "code",
   "execution_count": 1429,
   "metadata": {},
   "outputs": [
    {
     "data": {
      "text/html": [
       "<div>\n",
       "<style scoped>\n",
       "    .dataframe tbody tr th:only-of-type {\n",
       "        vertical-align: middle;\n",
       "    }\n",
       "\n",
       "    .dataframe tbody tr th {\n",
       "        vertical-align: top;\n",
       "    }\n",
       "\n",
       "    .dataframe thead th {\n",
       "        text-align: right;\n",
       "    }\n",
       "</style>\n",
       "<table border=\"1\" class=\"dataframe\">\n",
       "  <thead>\n",
       "    <tr style=\"text-align: right;\">\n",
       "      <th></th>\n",
       "      <th>Delivery_person_Age</th>\n",
       "      <th>Delivery_person_Ratings</th>\n",
       "      <th>Restaurant_latitude</th>\n",
       "      <th>Restaurant_longitude</th>\n",
       "      <th>Delivery_location_latitude</th>\n",
       "      <th>Delivery_location_longitude</th>\n",
       "      <th>Time_Orderd</th>\n",
       "      <th>Weatherconditions</th>\n",
       "      <th>Road_traffic_density</th>\n",
       "      <th>Type_of_order</th>\n",
       "      <th>Type_of_vehicle</th>\n",
       "      <th>multiple_deliveries</th>\n",
       "      <th>Festival</th>\n",
       "      <th>City</th>\n",
       "      <th>Time_taken(min)</th>\n",
       "    </tr>\n",
       "  </thead>\n",
       "  <tbody>\n",
       "    <tr>\n",
       "      <th>25857</th>\n",
       "      <td>27</td>\n",
       "      <td>4.9</td>\n",
       "      <td>18.534080</td>\n",
       "      <td>73.898520</td>\n",
       "      <td>18.544080</td>\n",
       "      <td>73.908520</td>\n",
       "      <td>11:55:00</td>\n",
       "      <td>conditions Sunny</td>\n",
       "      <td>High</td>\n",
       "      <td>Meal</td>\n",
       "      <td>motorcycle</td>\n",
       "      <td>0</td>\n",
       "      <td>No</td>\n",
       "      <td>Urban</td>\n",
       "      <td>(min) 19</td>\n",
       "    </tr>\n",
       "    <tr>\n",
       "      <th>2575</th>\n",
       "      <td>38</td>\n",
       "      <td>4.5</td>\n",
       "      <td>22.695207</td>\n",
       "      <td>75.866059</td>\n",
       "      <td>22.725207</td>\n",
       "      <td>75.896059</td>\n",
       "      <td>19:50:00</td>\n",
       "      <td>conditions Sunny</td>\n",
       "      <td>Jam</td>\n",
       "      <td>Buffet</td>\n",
       "      <td>motorcycle</td>\n",
       "      <td>1</td>\n",
       "      <td>No</td>\n",
       "      <td>NaN</td>\n",
       "      <td>(min) 17</td>\n",
       "    </tr>\n",
       "  </tbody>\n",
       "</table>\n",
       "</div>"
      ],
      "text/plain": [
       "      Delivery_person_Age Delivery_person_Ratings  Restaurant_latitude  \\\n",
       "25857                  27                     4.9            18.534080   \n",
       "2575                   38                     4.5            22.695207   \n",
       "\n",
       "       Restaurant_longitude  Delivery_location_latitude  \\\n",
       "25857             73.898520                   18.544080   \n",
       "2575              75.866059                   22.725207   \n",
       "\n",
       "       Delivery_location_longitude Time_Orderd Weatherconditions  \\\n",
       "25857                    73.908520    11:55:00  conditions Sunny   \n",
       "2575                     75.896059    19:50:00  conditions Sunny   \n",
       "\n",
       "      Road_traffic_density Type_of_order Type_of_vehicle multiple_deliveries  \\\n",
       "25857                High          Meal      motorcycle                    0   \n",
       "2575                  Jam        Buffet      motorcycle                    1   \n",
       "\n",
       "      Festival    City Time_taken(min)  \n",
       "25857      No   Urban         (min) 19  \n",
       "2575       No      NaN        (min) 17  "
      ]
     },
     "execution_count": 1429,
     "metadata": {},
     "output_type": "execute_result"
    }
   ],
   "source": [
    "train_data.head(2)"
   ]
  },
  {
   "cell_type": "code",
   "execution_count": 1430,
   "metadata": {},
   "outputs": [
    {
     "data": {
      "text/html": [
       "<div>\n",
       "<style scoped>\n",
       "    .dataframe tbody tr th:only-of-type {\n",
       "        vertical-align: middle;\n",
       "    }\n",
       "\n",
       "    .dataframe tbody tr th {\n",
       "        vertical-align: top;\n",
       "    }\n",
       "\n",
       "    .dataframe thead th {\n",
       "        text-align: right;\n",
       "    }\n",
       "</style>\n",
       "<table border=\"1\" class=\"dataframe\">\n",
       "  <thead>\n",
       "    <tr style=\"text-align: right;\">\n",
       "      <th></th>\n",
       "      <th>Delivery_person_Age</th>\n",
       "      <th>Delivery_person_Ratings</th>\n",
       "      <th>Restaurant_latitude</th>\n",
       "      <th>Restaurant_longitude</th>\n",
       "      <th>Delivery_location_latitude</th>\n",
       "      <th>Delivery_location_longitude</th>\n",
       "      <th>Time_Orderd</th>\n",
       "      <th>Weatherconditions</th>\n",
       "      <th>Road_traffic_density</th>\n",
       "      <th>Type_of_order</th>\n",
       "      <th>Type_of_vehicle</th>\n",
       "      <th>multiple_deliveries</th>\n",
       "      <th>Festival</th>\n",
       "      <th>City</th>\n",
       "      <th>Time_taken(min)</th>\n",
       "    </tr>\n",
       "  </thead>\n",
       "  <tbody>\n",
       "    <tr>\n",
       "      <th>22766</th>\n",
       "      <td>23</td>\n",
       "      <td>4.6</td>\n",
       "      <td>22.744648</td>\n",
       "      <td>75.894377</td>\n",
       "      <td>22.784648</td>\n",
       "      <td>75.934377</td>\n",
       "      <td>13:15:00</td>\n",
       "      <td>conditions Cloudy</td>\n",
       "      <td>High</td>\n",
       "      <td>Snack</td>\n",
       "      <td>scooter</td>\n",
       "      <td>1</td>\n",
       "      <td>No</td>\n",
       "      <td>Metropolitian</td>\n",
       "      <td>(min) 23</td>\n",
       "    </tr>\n",
       "    <tr>\n",
       "      <th>26061</th>\n",
       "      <td>28</td>\n",
       "      <td>4.9</td>\n",
       "      <td>0.000000</td>\n",
       "      <td>0.000000</td>\n",
       "      <td>0.070000</td>\n",
       "      <td>0.070000</td>\n",
       "      <td>23:50:00</td>\n",
       "      <td>conditions Sunny</td>\n",
       "      <td>Low</td>\n",
       "      <td>Drinks</td>\n",
       "      <td>motorcycle</td>\n",
       "      <td>0</td>\n",
       "      <td>No</td>\n",
       "      <td>Metropolitian</td>\n",
       "      <td>(min) 25</td>\n",
       "    </tr>\n",
       "  </tbody>\n",
       "</table>\n",
       "</div>"
      ],
      "text/plain": [
       "      Delivery_person_Age Delivery_person_Ratings  Restaurant_latitude  \\\n",
       "22766                  23                     4.6            22.744648   \n",
       "26061                  28                     4.9             0.000000   \n",
       "\n",
       "       Restaurant_longitude  Delivery_location_latitude  \\\n",
       "22766             75.894377                   22.784648   \n",
       "26061              0.000000                    0.070000   \n",
       "\n",
       "       Delivery_location_longitude Time_Orderd  Weatherconditions  \\\n",
       "22766                    75.934377    13:15:00  conditions Cloudy   \n",
       "26061                     0.070000    23:50:00   conditions Sunny   \n",
       "\n",
       "      Road_traffic_density Type_of_order Type_of_vehicle multiple_deliveries  \\\n",
       "22766                High         Snack         scooter                    1   \n",
       "26061                 Low        Drinks      motorcycle                    0   \n",
       "\n",
       "      Festival            City Time_taken(min)  \n",
       "22766      No   Metropolitian         (min) 23  \n",
       "26061      No   Metropolitian         (min) 25  "
      ]
     },
     "execution_count": 1430,
     "metadata": {},
     "output_type": "execute_result"
    }
   ],
   "source": [
    "test_data.head(2)"
   ]
  },
  {
   "cell_type": "markdown",
   "metadata": {},
   "source": [
    "### Begin Engineering Columns"
   ]
  },
  {
   "cell_type": "markdown",
   "metadata": {},
   "source": [
    "#### Weather Conditions"
   ]
  },
  {
   "cell_type": "code",
   "execution_count": 1431,
   "metadata": {},
   "outputs": [
    {
     "name": "stdout",
     "output_type": "stream",
     "text": [
      "Old Weather Conditions: ['conditions Sunny' 'conditions Windy' 'conditions Sandstorms'\n",
      " 'conditions Stormy' 'conditions Fog' 'conditions Cloudy' nan]\n",
      "New Weather Conditions ['Sunny' 'Windy' 'Sandstorms' 'Stormy' 'Fog' 'Cloudy' nan]\n"
     ]
    }
   ],
   "source": [
    "print('Old Weather Conditions:', train_data.Weatherconditions.unique())\n",
    "\n",
    "# we can see that all the weather conditions contain \"conditions\" in the name so we can remove that\n",
    "# we can then one hot encode the weather conditions\n",
    "train_data['Weatherconditions'] = train_data['Weatherconditions'].str.replace(\"conditions \", \"\")\n",
    "print('New Weather Conditions', train_data.Weatherconditions.unique())\n",
    "test_data['Weatherconditions'] = test_data['Weatherconditions'].str.replace(\"conditions \", \"\")"
   ]
  },
  {
   "cell_type": "code",
   "execution_count": 1432,
   "metadata": {},
   "outputs": [
    {
     "data": {
      "text/html": [
       "<div>\n",
       "<style scoped>\n",
       "    .dataframe tbody tr th:only-of-type {\n",
       "        vertical-align: middle;\n",
       "    }\n",
       "\n",
       "    .dataframe tbody tr th {\n",
       "        vertical-align: top;\n",
       "    }\n",
       "\n",
       "    .dataframe thead th {\n",
       "        text-align: right;\n",
       "    }\n",
       "</style>\n",
       "<table border=\"1\" class=\"dataframe\">\n",
       "  <thead>\n",
       "    <tr style=\"text-align: right;\">\n",
       "      <th></th>\n",
       "      <th>Cloudy</th>\n",
       "      <th>Fog</th>\n",
       "      <th>Sandstorms</th>\n",
       "      <th>Stormy</th>\n",
       "      <th>Sunny</th>\n",
       "      <th>Windy</th>\n",
       "    </tr>\n",
       "  </thead>\n",
       "  <tbody>\n",
       "    <tr>\n",
       "      <th>25857</th>\n",
       "      <td>0.0</td>\n",
       "      <td>0.0</td>\n",
       "      <td>0.0</td>\n",
       "      <td>0.0</td>\n",
       "      <td>1.0</td>\n",
       "      <td>0.0</td>\n",
       "    </tr>\n",
       "    <tr>\n",
       "      <th>2575</th>\n",
       "      <td>0.0</td>\n",
       "      <td>0.0</td>\n",
       "      <td>0.0</td>\n",
       "      <td>0.0</td>\n",
       "      <td>1.0</td>\n",
       "      <td>0.0</td>\n",
       "    </tr>\n",
       "  </tbody>\n",
       "</table>\n",
       "</div>"
      ],
      "text/plain": [
       "       Cloudy  Fog  Sandstorms  Stormy  Sunny  Windy\n",
       "25857     0.0  0.0         0.0     0.0    1.0    0.0\n",
       "2575      0.0  0.0         0.0     0.0    1.0    0.0"
      ]
     },
     "execution_count": 1432,
     "metadata": {},
     "output_type": "execute_result"
    }
   ],
   "source": [
    "from sklearn.preprocessing import OneHotEncoder\n",
    "\n",
    "ohe = OneHotEncoder()\n",
    "weather_arr = ohe.fit_transform(train_data[['Weatherconditions']]).toarray()\n",
    "weather_labels = ohe.categories_[0]\n",
    "weather = pd.DataFrame(weather_arr, columns=weather_labels)\n",
    "weather = weather.loc[:, weather.columns.notna()]\n",
    "weather.index = train_indices\n",
    "train_data = pd.concat([train_data, weather], axis=1)\n",
    "weather.head(2)"
   ]
  },
  {
   "cell_type": "code",
   "execution_count": 1433,
   "metadata": {},
   "outputs": [
    {
     "data": {
      "text/html": [
       "<div>\n",
       "<style scoped>\n",
       "    .dataframe tbody tr th:only-of-type {\n",
       "        vertical-align: middle;\n",
       "    }\n",
       "\n",
       "    .dataframe tbody tr th {\n",
       "        vertical-align: top;\n",
       "    }\n",
       "\n",
       "    .dataframe thead th {\n",
       "        text-align: right;\n",
       "    }\n",
       "</style>\n",
       "<table border=\"1\" class=\"dataframe\">\n",
       "  <thead>\n",
       "    <tr style=\"text-align: right;\">\n",
       "      <th></th>\n",
       "      <th>Cloudy</th>\n",
       "      <th>Fog</th>\n",
       "      <th>Sandstorms</th>\n",
       "      <th>Stormy</th>\n",
       "      <th>Sunny</th>\n",
       "      <th>Windy</th>\n",
       "    </tr>\n",
       "  </thead>\n",
       "  <tbody>\n",
       "    <tr>\n",
       "      <th>22766</th>\n",
       "      <td>1.0</td>\n",
       "      <td>0.0</td>\n",
       "      <td>0.0</td>\n",
       "      <td>0.0</td>\n",
       "      <td>0.0</td>\n",
       "      <td>0.0</td>\n",
       "    </tr>\n",
       "    <tr>\n",
       "      <th>26061</th>\n",
       "      <td>0.0</td>\n",
       "      <td>0.0</td>\n",
       "      <td>0.0</td>\n",
       "      <td>0.0</td>\n",
       "      <td>1.0</td>\n",
       "      <td>0.0</td>\n",
       "    </tr>\n",
       "  </tbody>\n",
       "</table>\n",
       "</div>"
      ],
      "text/plain": [
       "       Cloudy  Fog  Sandstorms  Stormy  Sunny  Windy\n",
       "22766     1.0  0.0         0.0     0.0    0.0    0.0\n",
       "26061     0.0  0.0         0.0     0.0    1.0    0.0"
      ]
     },
     "execution_count": 1433,
     "metadata": {},
     "output_type": "execute_result"
    }
   ],
   "source": [
    "ohe = OneHotEncoder()\n",
    "weather_arr = ohe.fit_transform(test_data[['Weatherconditions']]).toarray()\n",
    "weather_labels = ohe.categories_[0]\n",
    "weather = pd.DataFrame(weather_arr, columns=weather_labels)\n",
    "weather = weather.loc[:, weather.columns.notna()]\n",
    "weather.index = test_indices\n",
    "test_data = pd.concat([test_data, weather], axis=1)\n",
    "weather.head(2)"
   ]
  },
  {
   "cell_type": "code",
   "execution_count": 1434,
   "metadata": {},
   "outputs": [
    {
     "data": {
      "text/html": [
       "<div>\n",
       "<style scoped>\n",
       "    .dataframe tbody tr th:only-of-type {\n",
       "        vertical-align: middle;\n",
       "    }\n",
       "\n",
       "    .dataframe tbody tr th {\n",
       "        vertical-align: top;\n",
       "    }\n",
       "\n",
       "    .dataframe thead th {\n",
       "        text-align: right;\n",
       "    }\n",
       "</style>\n",
       "<table border=\"1\" class=\"dataframe\">\n",
       "  <thead>\n",
       "    <tr style=\"text-align: right;\">\n",
       "      <th></th>\n",
       "      <th>Delivery_person_Age</th>\n",
       "      <th>Delivery_person_Ratings</th>\n",
       "      <th>Restaurant_latitude</th>\n",
       "      <th>Restaurant_longitude</th>\n",
       "      <th>Delivery_location_latitude</th>\n",
       "      <th>Delivery_location_longitude</th>\n",
       "      <th>Time_Orderd</th>\n",
       "      <th>Weatherconditions</th>\n",
       "      <th>Road_traffic_density</th>\n",
       "      <th>Type_of_order</th>\n",
       "      <th>...</th>\n",
       "      <th>multiple_deliveries</th>\n",
       "      <th>Festival</th>\n",
       "      <th>City</th>\n",
       "      <th>Time_taken(min)</th>\n",
       "      <th>Cloudy</th>\n",
       "      <th>Fog</th>\n",
       "      <th>Sandstorms</th>\n",
       "      <th>Stormy</th>\n",
       "      <th>Sunny</th>\n",
       "      <th>Windy</th>\n",
       "    </tr>\n",
       "  </thead>\n",
       "  <tbody>\n",
       "    <tr>\n",
       "      <th>25857</th>\n",
       "      <td>27</td>\n",
       "      <td>4.9</td>\n",
       "      <td>18.534080</td>\n",
       "      <td>73.898520</td>\n",
       "      <td>18.544080</td>\n",
       "      <td>73.908520</td>\n",
       "      <td>11:55:00</td>\n",
       "      <td>Sunny</td>\n",
       "      <td>High</td>\n",
       "      <td>Meal</td>\n",
       "      <td>...</td>\n",
       "      <td>0</td>\n",
       "      <td>No</td>\n",
       "      <td>Urban</td>\n",
       "      <td>(min) 19</td>\n",
       "      <td>0.0</td>\n",
       "      <td>0.0</td>\n",
       "      <td>0.0</td>\n",
       "      <td>0.0</td>\n",
       "      <td>1.0</td>\n",
       "      <td>0.0</td>\n",
       "    </tr>\n",
       "    <tr>\n",
       "      <th>2575</th>\n",
       "      <td>38</td>\n",
       "      <td>4.5</td>\n",
       "      <td>22.695207</td>\n",
       "      <td>75.866059</td>\n",
       "      <td>22.725207</td>\n",
       "      <td>75.896059</td>\n",
       "      <td>19:50:00</td>\n",
       "      <td>Sunny</td>\n",
       "      <td>Jam</td>\n",
       "      <td>Buffet</td>\n",
       "      <td>...</td>\n",
       "      <td>1</td>\n",
       "      <td>No</td>\n",
       "      <td>NaN</td>\n",
       "      <td>(min) 17</td>\n",
       "      <td>0.0</td>\n",
       "      <td>0.0</td>\n",
       "      <td>0.0</td>\n",
       "      <td>0.0</td>\n",
       "      <td>1.0</td>\n",
       "      <td>0.0</td>\n",
       "    </tr>\n",
       "  </tbody>\n",
       "</table>\n",
       "<p>2 rows × 21 columns</p>\n",
       "</div>"
      ],
      "text/plain": [
       "      Delivery_person_Age Delivery_person_Ratings  Restaurant_latitude  \\\n",
       "25857                  27                     4.9            18.534080   \n",
       "2575                   38                     4.5            22.695207   \n",
       "\n",
       "       Restaurant_longitude  Delivery_location_latitude  \\\n",
       "25857             73.898520                   18.544080   \n",
       "2575              75.866059                   22.725207   \n",
       "\n",
       "       Delivery_location_longitude Time_Orderd Weatherconditions  \\\n",
       "25857                    73.908520    11:55:00             Sunny   \n",
       "2575                     75.896059    19:50:00             Sunny   \n",
       "\n",
       "      Road_traffic_density Type_of_order  ... multiple_deliveries Festival  \\\n",
       "25857                High          Meal   ...                   0      No    \n",
       "2575                  Jam        Buffet   ...                   1      No    \n",
       "\n",
       "         City Time_taken(min) Cloudy  Fog  Sandstorms  Stormy  Sunny  Windy  \n",
       "25857  Urban         (min) 19    0.0  0.0         0.0     0.0    1.0    0.0  \n",
       "2575      NaN        (min) 17    0.0  0.0         0.0     0.0    1.0    0.0  \n",
       "\n",
       "[2 rows x 21 columns]"
      ]
     },
     "execution_count": 1434,
     "metadata": {},
     "output_type": "execute_result"
    }
   ],
   "source": [
    "train_data.head(2)"
   ]
  },
  {
   "cell_type": "code",
   "execution_count": 1435,
   "metadata": {},
   "outputs": [
    {
     "data": {
      "text/plain": [
       "Delivery_person_Age            1490\n",
       "Delivery_person_Ratings        1536\n",
       "Restaurant_latitude               0\n",
       "Restaurant_longitude              0\n",
       "Delivery_location_latitude        0\n",
       "Delivery_location_longitude       0\n",
       "Time_Orderd                    1388\n",
       "Weatherconditions               487\n",
       "Road_traffic_density            476\n",
       "Type_of_order                     0\n",
       "Type_of_vehicle                   0\n",
       "multiple_deliveries             794\n",
       "Festival                        181\n",
       "City                            953\n",
       "Time_taken(min)                   0\n",
       "Cloudy                            0\n",
       "Fog                               0\n",
       "Sandstorms                        0\n",
       "Stormy                            0\n",
       "Sunny                             0\n",
       "Windy                             0\n",
       "dtype: int64"
      ]
     },
     "execution_count": 1435,
     "metadata": {},
     "output_type": "execute_result"
    }
   ],
   "source": [
    "train_data.isna().sum()"
   ]
  },
  {
   "cell_type": "markdown",
   "metadata": {},
   "source": [
    "#### Traffic Conditions"
   ]
  },
  {
   "cell_type": "code",
   "execution_count": 1436,
   "metadata": {},
   "outputs": [
    {
     "name": "stdout",
     "output_type": "stream",
     "text": [
      "Traffic: ['High ' 'Jam ' 'Low ' 'Medium ' nan]\n",
      "Traffic: ['High' 'Jam' 'Low' 'Medium' nan]\n"
     ]
    }
   ],
   "source": [
    "print('Traffic:', train_data.Road_traffic_density.unique())\n",
    "train_data['Road_traffic_density'] = train_data['Road_traffic_density'].str.replace(\" \", \"\")\n",
    "print('Traffic:', train_data.Road_traffic_density.unique())\n",
    "test_data['Road_traffic_density'] = test_data['Road_traffic_density'].str.replace(\" \", \"\")"
   ]
  },
  {
   "cell_type": "code",
   "execution_count": 1437,
   "metadata": {},
   "outputs": [
    {
     "name": "stdout",
     "output_type": "stream",
     "text": [
      "True\n"
     ]
    }
   ],
   "source": [
    "# use ordinal encoder\n",
    "from sklearn.preprocessing import OrdinalEncoder\n",
    "\n",
    "\n",
    "# save to later check if the same rows have NaN\n",
    "orig_ind = np.where(train_data['Road_traffic_density'].isna())[0]\n",
    "\n",
    "oe = OrdinalEncoder(categories=[['Low', 'Medium', 'High', 'Jam']])\n",
    "train_data.loc[train_data.Road_traffic_density.notna(), ['Road_traffic_density']] = oe.fit_transform(train_data['Road_traffic_density'].dropna().values.reshape(-1,1))\n",
    "\n",
    "# show that our ordinal encoding did not change the NaN values\n",
    "new_ind = np.where(train_data['Road_traffic_density'].isna())[0]\n",
    "print((orig_ind == new_ind).all())\n",
    "\n",
    "# we can also map the values ourselves instead of using the ordinal encoder\n",
    "# Even though mapping is much easier here, I wanted to use OrdinalEncoder for this task because it's much more scalable\n",
    "\n",
    "# traffic_map = {'Low': 0, 'Medium': 1, 'High': 2, 'Jam': 3}\n",
    "# train_data['Road_traffic_density'] = train_data['Road_traffic_density'].map(traffic_map).fillna(train_data['Road_traffic_density'])"
   ]
  },
  {
   "cell_type": "code",
   "execution_count": 1438,
   "metadata": {},
   "outputs": [],
   "source": [
    "oe = OrdinalEncoder(categories=[['Low', 'Medium', 'High', 'Jam']])\n",
    "test_data.loc[test_data.Road_traffic_density.notna(), ['Road_traffic_density']] = oe.fit_transform(test_data['Road_traffic_density'].dropna().values.reshape(-1,1))"
   ]
  },
  {
   "cell_type": "code",
   "execution_count": 1439,
   "metadata": {},
   "outputs": [
    {
     "data": {
      "text/html": [
       "<div>\n",
       "<style scoped>\n",
       "    .dataframe tbody tr th:only-of-type {\n",
       "        vertical-align: middle;\n",
       "    }\n",
       "\n",
       "    .dataframe tbody tr th {\n",
       "        vertical-align: top;\n",
       "    }\n",
       "\n",
       "    .dataframe thead th {\n",
       "        text-align: right;\n",
       "    }\n",
       "</style>\n",
       "<table border=\"1\" class=\"dataframe\">\n",
       "  <thead>\n",
       "    <tr style=\"text-align: right;\">\n",
       "      <th></th>\n",
       "      <th>Delivery_person_Age</th>\n",
       "      <th>Delivery_person_Ratings</th>\n",
       "      <th>Restaurant_latitude</th>\n",
       "      <th>Restaurant_longitude</th>\n",
       "      <th>Delivery_location_latitude</th>\n",
       "      <th>Delivery_location_longitude</th>\n",
       "      <th>Time_Orderd</th>\n",
       "      <th>Weatherconditions</th>\n",
       "      <th>Road_traffic_density</th>\n",
       "      <th>Type_of_order</th>\n",
       "      <th>...</th>\n",
       "      <th>multiple_deliveries</th>\n",
       "      <th>Festival</th>\n",
       "      <th>City</th>\n",
       "      <th>Time_taken(min)</th>\n",
       "      <th>Cloudy</th>\n",
       "      <th>Fog</th>\n",
       "      <th>Sandstorms</th>\n",
       "      <th>Stormy</th>\n",
       "      <th>Sunny</th>\n",
       "      <th>Windy</th>\n",
       "    </tr>\n",
       "  </thead>\n",
       "  <tbody>\n",
       "    <tr>\n",
       "      <th>25857</th>\n",
       "      <td>27</td>\n",
       "      <td>4.9</td>\n",
       "      <td>18.534080</td>\n",
       "      <td>73.898520</td>\n",
       "      <td>18.544080</td>\n",
       "      <td>73.908520</td>\n",
       "      <td>11:55:00</td>\n",
       "      <td>Sunny</td>\n",
       "      <td>2.0</td>\n",
       "      <td>Meal</td>\n",
       "      <td>...</td>\n",
       "      <td>0</td>\n",
       "      <td>No</td>\n",
       "      <td>Urban</td>\n",
       "      <td>(min) 19</td>\n",
       "      <td>0.0</td>\n",
       "      <td>0.0</td>\n",
       "      <td>0.0</td>\n",
       "      <td>0.0</td>\n",
       "      <td>1.0</td>\n",
       "      <td>0.0</td>\n",
       "    </tr>\n",
       "    <tr>\n",
       "      <th>2575</th>\n",
       "      <td>38</td>\n",
       "      <td>4.5</td>\n",
       "      <td>22.695207</td>\n",
       "      <td>75.866059</td>\n",
       "      <td>22.725207</td>\n",
       "      <td>75.896059</td>\n",
       "      <td>19:50:00</td>\n",
       "      <td>Sunny</td>\n",
       "      <td>3.0</td>\n",
       "      <td>Buffet</td>\n",
       "      <td>...</td>\n",
       "      <td>1</td>\n",
       "      <td>No</td>\n",
       "      <td>NaN</td>\n",
       "      <td>(min) 17</td>\n",
       "      <td>0.0</td>\n",
       "      <td>0.0</td>\n",
       "      <td>0.0</td>\n",
       "      <td>0.0</td>\n",
       "      <td>1.0</td>\n",
       "      <td>0.0</td>\n",
       "    </tr>\n",
       "  </tbody>\n",
       "</table>\n",
       "<p>2 rows × 21 columns</p>\n",
       "</div>"
      ],
      "text/plain": [
       "      Delivery_person_Age Delivery_person_Ratings  Restaurant_latitude  \\\n",
       "25857                  27                     4.9            18.534080   \n",
       "2575                   38                     4.5            22.695207   \n",
       "\n",
       "       Restaurant_longitude  Delivery_location_latitude  \\\n",
       "25857             73.898520                   18.544080   \n",
       "2575              75.866059                   22.725207   \n",
       "\n",
       "       Delivery_location_longitude Time_Orderd Weatherconditions  \\\n",
       "25857                    73.908520    11:55:00             Sunny   \n",
       "2575                     75.896059    19:50:00             Sunny   \n",
       "\n",
       "      Road_traffic_density Type_of_order  ... multiple_deliveries Festival  \\\n",
       "25857                  2.0         Meal   ...                   0      No    \n",
       "2575                   3.0       Buffet   ...                   1      No    \n",
       "\n",
       "         City Time_taken(min) Cloudy  Fog  Sandstorms  Stormy  Sunny  Windy  \n",
       "25857  Urban         (min) 19    0.0  0.0         0.0     0.0    1.0    0.0  \n",
       "2575      NaN        (min) 17    0.0  0.0         0.0     0.0    1.0    0.0  \n",
       "\n",
       "[2 rows x 21 columns]"
      ]
     },
     "execution_count": 1439,
     "metadata": {},
     "output_type": "execute_result"
    }
   ],
   "source": [
    "train_data.head(2)"
   ]
  },
  {
   "cell_type": "code",
   "execution_count": 1440,
   "metadata": {},
   "outputs": [],
   "source": [
    "# remove the min from time taken so that it can be converted to numeric\n",
    "train_data['Time_taken(min)'] = train_data['Time_taken(min)'].str.replace(\"(min) \", \"\")\n",
    "test_data['Time_taken(min)'] = test_data['Time_taken(min)'].str.replace(\"(min) \", \"\")\n",
    "\n",
    "# convert columns to floats, ignore any errors such as trying to convert strings\n",
    "train_data = train_data.apply(pd.to_numeric, errors='ignore')\n",
    "test_data = test_data.apply(pd.to_numeric, errors='ignore')"
   ]
  },
  {
   "cell_type": "markdown",
   "metadata": {},
   "source": [
    "#### Age"
   ]
  },
  {
   "cell_type": "code",
   "execution_count": 1441,
   "metadata": {},
   "outputs": [
    {
     "data": {
      "text/plain": [
       "Delivery_person_Age\n",
       "35.0    1834\n",
       "36.0    1814\n",
       "22.0    1790\n",
       "30.0    1790\n",
       "37.0    1789\n",
       "38.0    1780\n",
       "28.0    1762\n",
       "24.0    1756\n",
       "33.0    1747\n",
       "25.0    1742\n",
       "27.0    1736\n",
       "32.0    1734\n",
       "26.0    1734\n",
       "29.0    1724\n",
       "34.0    1723\n",
       "21.0    1720\n",
       "20.0    1707\n",
       "39.0    1695\n",
       "23.0    1677\n",
       "31.0    1661\n",
       "50.0      39\n",
       "15.0      30\n",
       "Name: count, dtype: int64"
      ]
     },
     "execution_count": 1441,
     "metadata": {},
     "output_type": "execute_result"
    }
   ],
   "source": [
    "train_data.Delivery_person_Age.value_counts()"
   ]
  },
  {
   "cell_type": "markdown",
   "metadata": {},
   "source": [
    "We notice here that ages 15 and 50 have significantly less data than the other ages."
   ]
  },
  {
   "cell_type": "code",
   "execution_count": 1442,
   "metadata": {},
   "outputs": [
    {
     "data": {
      "text/plain": [
       "Delivery_person_Age\n",
       "32.0    468\n",
       "29.0    467\n",
       "31.0    459\n",
       "24.0    454\n",
       "39.0    449\n",
       "36.0    446\n",
       "34.0    443\n",
       "33.0    440\n",
       "38.0    439\n",
       "37.0    438\n",
       "30.0    436\n",
       "21.0    433\n",
       "25.0    432\n",
       "20.0    429\n",
       "35.0    428\n",
       "26.0    425\n",
       "28.0    417\n",
       "27.0    414\n",
       "23.0    410\n",
       "22.0    406\n",
       "50.0     14\n",
       "15.0      8\n",
       "Name: count, dtype: int64"
      ]
     },
     "execution_count": 1442,
     "metadata": {},
     "output_type": "execute_result"
    }
   ],
   "source": [
    "test_data.Delivery_person_Age.value_counts()"
   ]
  },
  {
   "cell_type": "code",
   "execution_count": 1443,
   "metadata": {},
   "outputs": [
    {
     "data": {
      "image/png": "[encoded data removed]",
      "text/plain": [
       "<Figure size 640x480 with 1 Axes>"
      ]
     },
     "metadata": {},
     "output_type": "display_data"
    }
   ],
   "source": [
    "mean_time_age = train_data.groupby('Delivery_person_Age', as_index=False)['Time_taken(min)'].mean()\n",
    "mean_time_plot = mean_time_age.plot(x='Delivery_person_Age', y='Time_taken(min)', kind='bar', label='Time to Deliver')\n",
    "mean_time_plot.set_xlabel('Age')\n",
    "mean_time_plot.set_ylabel('Time to Deliver')\n",
    "mean_time_plot.set_title('Age vs Time to Deliver');"
   ]
  },
  {
   "cell_type": "markdown",
   "metadata": {},
   "source": [
    "We see here that delivery drivers of age 20 to 29 all take roughly the same time to deliver food, drivers of age 30 to 39 all take roughly the same time to deliver food and ages 15 and 50 have more unique values. Although the mean time to deliver for a 50 year old is only slightly above that of the highest mean amongst 20-29 year olds, we will leave 50 year olds in their own category since if we are thinking rationally, there shouldn't be any correlation between the speed of a 20-29 year old and a 50 year old.\n",
    "\n",
    "Note: the reason we want to group those age groups together is to prevent the model from overfitting the training data."
   ]
  },
  {
   "cell_type": "code",
   "execution_count": 1444,
   "metadata": {},
   "outputs": [
    {
     "data": {
      "text/plain": [
       "array(['20-29', '30-39', nan, '15', '50'], dtype=object)"
      ]
     },
     "execution_count": 1444,
     "metadata": {},
     "output_type": "execute_result"
    }
   ],
   "source": [
    "# first change values so that age 20 to 29 have same value (maybe string '20s') and same with 30 to 39 ('30s')\n",
    "\n",
    "# group ages 20 to 29, and ages 30 to 39, we'll use one hot encoding\n",
    "# i will not be using ordinal encoding here out of the fear that the model may place significance on the order\n",
    "# it is unlikely that order should have significance here, since there's no clear reason why a 50 year old takes less time than a 30-39 year old etc\n",
    "\n",
    "ohe = OneHotEncoder()\n",
    "\n",
    "age_dict = {15: '15', 50: '50'}\n",
    "keys_20 = [20, 21, 22, 23, 24, 25, 26, 27, 28, 29]\n",
    "keys_30 = [30, 31, 32, 33, 34, 35, 36, 37, 38, 39]\n",
    "\n",
    "for key in keys_20:\n",
    "    age_dict[key] = '20-29'\n",
    "\n",
    "for key in keys_30:\n",
    "    age_dict[key] = '30-39'\n",
    "\n",
    "train_data['Delivery_person_Age'] = train_data['Delivery_person_Age'].map(age_dict).fillna(train_data['Delivery_person_Age'])\n",
    "train_data['Delivery_person_Age'].unique()"
   ]
  },
  {
   "cell_type": "code",
   "execution_count": 1445,
   "metadata": {},
   "outputs": [
    {
     "data": {
      "text/html": [
       "<div>\n",
       "<style scoped>\n",
       "    .dataframe tbody tr th:only-of-type {\n",
       "        vertical-align: middle;\n",
       "    }\n",
       "\n",
       "    .dataframe tbody tr th {\n",
       "        vertical-align: top;\n",
       "    }\n",
       "\n",
       "    .dataframe thead th {\n",
       "        text-align: right;\n",
       "    }\n",
       "</style>\n",
       "<table border=\"1\" class=\"dataframe\">\n",
       "  <thead>\n",
       "    <tr style=\"text-align: right;\">\n",
       "      <th></th>\n",
       "      <th>15</th>\n",
       "      <th>20-29</th>\n",
       "      <th>30-39</th>\n",
       "      <th>50</th>\n",
       "    </tr>\n",
       "  </thead>\n",
       "  <tbody>\n",
       "    <tr>\n",
       "      <th>25857</th>\n",
       "      <td>0.0</td>\n",
       "      <td>1.0</td>\n",
       "      <td>0.0</td>\n",
       "      <td>0.0</td>\n",
       "    </tr>\n",
       "    <tr>\n",
       "      <th>2575</th>\n",
       "      <td>0.0</td>\n",
       "      <td>0.0</td>\n",
       "      <td>1.0</td>\n",
       "      <td>0.0</td>\n",
       "    </tr>\n",
       "  </tbody>\n",
       "</table>\n",
       "</div>"
      ],
      "text/plain": [
       "        15  20-29  30-39   50\n",
       "25857  0.0    1.0    0.0  0.0\n",
       "2575   0.0    0.0    1.0  0.0"
      ]
     },
     "execution_count": 1445,
     "metadata": {},
     "output_type": "execute_result"
    }
   ],
   "source": [
    "age_arr = ohe.fit_transform(train_data[['Delivery_person_Age']]).toarray()\n",
    "age_labels = ohe.categories_[0]\n",
    "age = pd.DataFrame(age_arr, columns=age_labels)\n",
    "age = age.loc[:, age.columns.notna()]\n",
    "age.index = train_indices\n",
    "age.head(2)"
   ]
  },
  {
   "cell_type": "code",
   "execution_count": 1446,
   "metadata": {},
   "outputs": [
    {
     "data": {
      "text/html": [
       "<div>\n",
       "<style scoped>\n",
       "    .dataframe tbody tr th:only-of-type {\n",
       "        vertical-align: middle;\n",
       "    }\n",
       "\n",
       "    .dataframe tbody tr th {\n",
       "        vertical-align: top;\n",
       "    }\n",
       "\n",
       "    .dataframe thead th {\n",
       "        text-align: right;\n",
       "    }\n",
       "</style>\n",
       "<table border=\"1\" class=\"dataframe\">\n",
       "  <thead>\n",
       "    <tr style=\"text-align: right;\">\n",
       "      <th></th>\n",
       "      <th>Delivery_person_Age</th>\n",
       "      <th>Delivery_person_Ratings</th>\n",
       "      <th>Restaurant_latitude</th>\n",
       "      <th>Restaurant_longitude</th>\n",
       "      <th>Delivery_location_latitude</th>\n",
       "      <th>Delivery_location_longitude</th>\n",
       "      <th>Time_Orderd</th>\n",
       "      <th>Weatherconditions</th>\n",
       "      <th>Road_traffic_density</th>\n",
       "      <th>Type_of_order</th>\n",
       "      <th>...</th>\n",
       "      <th>Cloudy</th>\n",
       "      <th>Fog</th>\n",
       "      <th>Sandstorms</th>\n",
       "      <th>Stormy</th>\n",
       "      <th>Sunny</th>\n",
       "      <th>Windy</th>\n",
       "      <th>15</th>\n",
       "      <th>20-29</th>\n",
       "      <th>30-39</th>\n",
       "      <th>50</th>\n",
       "    </tr>\n",
       "  </thead>\n",
       "  <tbody>\n",
       "    <tr>\n",
       "      <th>25857</th>\n",
       "      <td>20-29</td>\n",
       "      <td>4.9</td>\n",
       "      <td>18.534080</td>\n",
       "      <td>73.898520</td>\n",
       "      <td>18.544080</td>\n",
       "      <td>73.908520</td>\n",
       "      <td>11:55:00</td>\n",
       "      <td>Sunny</td>\n",
       "      <td>2.0</td>\n",
       "      <td>Meal</td>\n",
       "      <td>...</td>\n",
       "      <td>0.0</td>\n",
       "      <td>0.0</td>\n",
       "      <td>0.0</td>\n",
       "      <td>0.0</td>\n",
       "      <td>1.0</td>\n",
       "      <td>0.0</td>\n",
       "      <td>0.0</td>\n",
       "      <td>1.0</td>\n",
       "      <td>0.0</td>\n",
       "      <td>0.0</td>\n",
       "    </tr>\n",
       "    <tr>\n",
       "      <th>2575</th>\n",
       "      <td>30-39</td>\n",
       "      <td>4.5</td>\n",
       "      <td>22.695207</td>\n",
       "      <td>75.866059</td>\n",
       "      <td>22.725207</td>\n",
       "      <td>75.896059</td>\n",
       "      <td>19:50:00</td>\n",
       "      <td>Sunny</td>\n",
       "      <td>3.0</td>\n",
       "      <td>Buffet</td>\n",
       "      <td>...</td>\n",
       "      <td>0.0</td>\n",
       "      <td>0.0</td>\n",
       "      <td>0.0</td>\n",
       "      <td>0.0</td>\n",
       "      <td>1.0</td>\n",
       "      <td>0.0</td>\n",
       "      <td>0.0</td>\n",
       "      <td>0.0</td>\n",
       "      <td>1.0</td>\n",
       "      <td>0.0</td>\n",
       "    </tr>\n",
       "  </tbody>\n",
       "</table>\n",
       "<p>2 rows × 25 columns</p>\n",
       "</div>"
      ],
      "text/plain": [
       "      Delivery_person_Age  Delivery_person_Ratings  Restaurant_latitude  \\\n",
       "25857               20-29                      4.9            18.534080   \n",
       "2575                30-39                      4.5            22.695207   \n",
       "\n",
       "       Restaurant_longitude  Delivery_location_latitude  \\\n",
       "25857             73.898520                   18.544080   \n",
       "2575              75.866059                   22.725207   \n",
       "\n",
       "       Delivery_location_longitude Time_Orderd Weatherconditions  \\\n",
       "25857                    73.908520    11:55:00             Sunny   \n",
       "2575                     75.896059    19:50:00             Sunny   \n",
       "\n",
       "       Road_traffic_density Type_of_order  ... Cloudy  Fog Sandstorms Stormy  \\\n",
       "25857                   2.0         Meal   ...    0.0  0.0        0.0    0.0   \n",
       "2575                    3.0       Buffet   ...    0.0  0.0        0.0    0.0   \n",
       "\n",
       "       Sunny  Windy   15  20-29  30-39   50  \n",
       "25857    1.0    0.0  0.0    1.0    0.0  0.0  \n",
       "2575     1.0    0.0  0.0    0.0    1.0  0.0  \n",
       "\n",
       "[2 rows x 25 columns]"
      ]
     },
     "execution_count": 1446,
     "metadata": {},
     "output_type": "execute_result"
    }
   ],
   "source": [
    "train_data = pd.concat([train_data, age], axis=1)\n",
    "train_data.head(2)"
   ]
  },
  {
   "cell_type": "code",
   "execution_count": 1447,
   "metadata": {},
   "outputs": [],
   "source": [
    "ohe = OneHotEncoder()\n",
    "\n",
    "age_dict = {15: '15', 50: '50'}\n",
    "keys_20 = [20, 21, 22, 23, 24, 25, 26, 27, 28, 29]\n",
    "keys_30 = [30, 31, 32, 33, 34, 35, 36, 37, 38, 39]\n",
    "\n",
    "for key in keys_20:\n",
    "    age_dict[key] = '20-29'\n",
    "\n",
    "for key in keys_30:\n",
    "    age_dict[key] = '30-39'\n",
    "\n",
    "test_data['Delivery_person_Age'] = test_data['Delivery_person_Age'].map(age_dict).fillna(test_data['Delivery_person_Age'])\n",
    "\n",
    "age_arr = ohe.fit_transform(test_data[['Delivery_person_Age']]).toarray()\n",
    "age_labels = ohe.categories_[0]\n",
    "age = pd.DataFrame(age_arr, columns=age_labels)\n",
    "age = age.loc[:, age.columns.notna()]\n",
    "age.index = test_indices\n",
    "\n",
    "test_data = pd.concat([test_data, age], axis=1)"
   ]
  },
  {
   "cell_type": "markdown",
   "metadata": {},
   "source": [
    "#### Time Ordered"
   ]
  },
  {
   "cell_type": "code",
   "execution_count": 1448,
   "metadata": {},
   "outputs": [
    {
     "data": {
      "text/plain": [
       "array(['11', '19', '12', nan, '22', '21', '08', '20', '10', '17', '23',\n",
       "       '09', '18', '16', '14', '15', '13', '00'], dtype=object)"
      ]
     },
     "execution_count": 1448,
     "metadata": {},
     "output_type": "execute_result"
    }
   ],
   "source": [
    "# minutes don't have much significance to time ordered but the hour might so slice to only the hour\n",
    "train_data['Time_Orderd'] = train_data['Time_Orderd'].str[:2]\n",
    "test_data['Time_Orderd'] = test_data['Time_Orderd'].str[:2]\n",
    "train_data['Time_Orderd'].unique()"
   ]
  },
  {
   "cell_type": "code",
   "execution_count": 1449,
   "metadata": {},
   "outputs": [
    {
     "data": {
      "image/png": "[encoded data removed]",
      "text/plain": [
       "<Figure size 640x480 with 1 Axes>"
      ]
     },
     "metadata": {},
     "output_type": "display_data"
    }
   ],
   "source": [
    "# plot it\n",
    "mean_time_hour = train_data.groupby('Time_Orderd', as_index=False)['Time_taken(min)'].mean()\n",
    "mean_time_plot = mean_time_hour.plot(x='Time_Orderd', y='Time_taken(min)', kind='bar', label='Time to Deliver')\n",
    "mean_time_plot.set_xlabel('Hour Ordered')\n",
    "mean_time_plot.set_ylabel('Time to Deliver')\n",
    "mean_time_plot.set_title('Hour Ordered vs Time to Deliver');"
   ]
  },
  {
   "cell_type": "markdown",
   "metadata": {},
   "source": [
    "We see that it takes longer around lunch time and dinner time to deliver food so we can group between meal times vs non meal times."
   ]
  },
  {
   "cell_type": "code",
   "execution_count": 1450,
   "metadata": {},
   "outputs": [
    {
     "data": {
      "text/plain": [
       "array(['Meal_Time', nan, 'Not_Meal_Time'], dtype=object)"
      ]
     },
     "execution_count": 1450,
     "metadata": {},
     "output_type": "execute_result"
    }
   ],
   "source": [
    "meal_dict = {}\n",
    "meal_times = ['11', '12', '13', '14', '17', '18', '19', '20', '21']\n",
    "non_meal_times = ['00', '08', '09', '10', '15', '16', '22', '23']\n",
    "\n",
    "for key in meal_times:\n",
    "    meal_dict[key] = 'Meal_Time'\n",
    "\n",
    "for key in non_meal_times:\n",
    "    meal_dict[key] = 'Not_Meal_Time'\n",
    "\n",
    "train_data['Time_Orderd'] = train_data['Time_Orderd'].map(meal_dict).fillna(train_data['Time_Orderd'])\n",
    "train_data['Time_Orderd'].unique()"
   ]
  },
  {
   "cell_type": "code",
   "execution_count": 1451,
   "metadata": {},
   "outputs": [
    {
     "data": {
      "text/html": [
       "<div>\n",
       "<style scoped>\n",
       "    .dataframe tbody tr th:only-of-type {\n",
       "        vertical-align: middle;\n",
       "    }\n",
       "\n",
       "    .dataframe tbody tr th {\n",
       "        vertical-align: top;\n",
       "    }\n",
       "\n",
       "    .dataframe thead th {\n",
       "        text-align: right;\n",
       "    }\n",
       "</style>\n",
       "<table border=\"1\" class=\"dataframe\">\n",
       "  <thead>\n",
       "    <tr style=\"text-align: right;\">\n",
       "      <th></th>\n",
       "      <th>Meal_Time</th>\n",
       "      <th>Not_Meal_Time</th>\n",
       "    </tr>\n",
       "  </thead>\n",
       "  <tbody>\n",
       "    <tr>\n",
       "      <th>25857</th>\n",
       "      <td>1.0</td>\n",
       "      <td>0.0</td>\n",
       "    </tr>\n",
       "    <tr>\n",
       "      <th>2575</th>\n",
       "      <td>1.0</td>\n",
       "      <td>0.0</td>\n",
       "    </tr>\n",
       "  </tbody>\n",
       "</table>\n",
       "</div>"
      ],
      "text/plain": [
       "       Meal_Time  Not_Meal_Time\n",
       "25857        1.0            0.0\n",
       "2575         1.0            0.0"
      ]
     },
     "execution_count": 1451,
     "metadata": {},
     "output_type": "execute_result"
    }
   ],
   "source": [
    "ohe = OneHotEncoder()\n",
    "meal_arr = ohe.fit_transform(train_data[['Time_Orderd']]).toarray()\n",
    "meal_labels = ohe.categories_[0]\n",
    "meal = pd.DataFrame(meal_arr, columns=meal_labels)\n",
    "meal = meal.loc[:, meal.columns.notna()]\n",
    "meal.index = train_indices\n",
    "meal.head(2)"
   ]
  },
  {
   "cell_type": "code",
   "execution_count": 1452,
   "metadata": {},
   "outputs": [
    {
     "data": {
      "text/html": [
       "<div>\n",
       "<style scoped>\n",
       "    .dataframe tbody tr th:only-of-type {\n",
       "        vertical-align: middle;\n",
       "    }\n",
       "\n",
       "    .dataframe tbody tr th {\n",
       "        vertical-align: top;\n",
       "    }\n",
       "\n",
       "    .dataframe thead th {\n",
       "        text-align: right;\n",
       "    }\n",
       "</style>\n",
       "<table border=\"1\" class=\"dataframe\">\n",
       "  <thead>\n",
       "    <tr style=\"text-align: right;\">\n",
       "      <th></th>\n",
       "      <th>Delivery_person_Age</th>\n",
       "      <th>Delivery_person_Ratings</th>\n",
       "      <th>Restaurant_latitude</th>\n",
       "      <th>Restaurant_longitude</th>\n",
       "      <th>Delivery_location_latitude</th>\n",
       "      <th>Delivery_location_longitude</th>\n",
       "      <th>Time_Orderd</th>\n",
       "      <th>Weatherconditions</th>\n",
       "      <th>Road_traffic_density</th>\n",
       "      <th>Type_of_order</th>\n",
       "      <th>...</th>\n",
       "      <th>Sandstorms</th>\n",
       "      <th>Stormy</th>\n",
       "      <th>Sunny</th>\n",
       "      <th>Windy</th>\n",
       "      <th>15</th>\n",
       "      <th>20-29</th>\n",
       "      <th>30-39</th>\n",
       "      <th>50</th>\n",
       "      <th>Meal_Time</th>\n",
       "      <th>Not_Meal_Time</th>\n",
       "    </tr>\n",
       "  </thead>\n",
       "  <tbody>\n",
       "    <tr>\n",
       "      <th>25857</th>\n",
       "      <td>20-29</td>\n",
       "      <td>4.9</td>\n",
       "      <td>18.534080</td>\n",
       "      <td>73.898520</td>\n",
       "      <td>18.544080</td>\n",
       "      <td>73.908520</td>\n",
       "      <td>Meal_Time</td>\n",
       "      <td>Sunny</td>\n",
       "      <td>2.0</td>\n",
       "      <td>Meal</td>\n",
       "      <td>...</td>\n",
       "      <td>0.0</td>\n",
       "      <td>0.0</td>\n",
       "      <td>1.0</td>\n",
       "      <td>0.0</td>\n",
       "      <td>0.0</td>\n",
       "      <td>1.0</td>\n",
       "      <td>0.0</td>\n",
       "      <td>0.0</td>\n",
       "      <td>1.0</td>\n",
       "      <td>0.0</td>\n",
       "    </tr>\n",
       "    <tr>\n",
       "      <th>2575</th>\n",
       "      <td>30-39</td>\n",
       "      <td>4.5</td>\n",
       "      <td>22.695207</td>\n",
       "      <td>75.866059</td>\n",
       "      <td>22.725207</td>\n",
       "      <td>75.896059</td>\n",
       "      <td>Meal_Time</td>\n",
       "      <td>Sunny</td>\n",
       "      <td>3.0</td>\n",
       "      <td>Buffet</td>\n",
       "      <td>...</td>\n",
       "      <td>0.0</td>\n",
       "      <td>0.0</td>\n",
       "      <td>1.0</td>\n",
       "      <td>0.0</td>\n",
       "      <td>0.0</td>\n",
       "      <td>0.0</td>\n",
       "      <td>1.0</td>\n",
       "      <td>0.0</td>\n",
       "      <td>1.0</td>\n",
       "      <td>0.0</td>\n",
       "    </tr>\n",
       "    <tr>\n",
       "      <th>37903</th>\n",
       "      <td>20-29</td>\n",
       "      <td>4.1</td>\n",
       "      <td>17.450851</td>\n",
       "      <td>78.379347</td>\n",
       "      <td>17.460851</td>\n",
       "      <td>78.389347</td>\n",
       "      <td>Meal_Time</td>\n",
       "      <td>Sunny</td>\n",
       "      <td>2.0</td>\n",
       "      <td>Snack</td>\n",
       "      <td>...</td>\n",
       "      <td>0.0</td>\n",
       "      <td>0.0</td>\n",
       "      <td>1.0</td>\n",
       "      <td>0.0</td>\n",
       "      <td>0.0</td>\n",
       "      <td>1.0</td>\n",
       "      <td>0.0</td>\n",
       "      <td>0.0</td>\n",
       "      <td>1.0</td>\n",
       "      <td>0.0</td>\n",
       "    </tr>\n",
       "  </tbody>\n",
       "</table>\n",
       "<p>3 rows × 27 columns</p>\n",
       "</div>"
      ],
      "text/plain": [
       "      Delivery_person_Age  Delivery_person_Ratings  Restaurant_latitude  \\\n",
       "25857               20-29                      4.9            18.534080   \n",
       "2575                30-39                      4.5            22.695207   \n",
       "37903               20-29                      4.1            17.450851   \n",
       "\n",
       "       Restaurant_longitude  Delivery_location_latitude  \\\n",
       "25857             73.898520                   18.544080   \n",
       "2575              75.866059                   22.725207   \n",
       "37903             78.379347                   17.460851   \n",
       "\n",
       "       Delivery_location_longitude Time_Orderd Weatherconditions  \\\n",
       "25857                    73.908520   Meal_Time             Sunny   \n",
       "2575                     75.896059   Meal_Time             Sunny   \n",
       "37903                    78.389347   Meal_Time             Sunny   \n",
       "\n",
       "       Road_traffic_density Type_of_order  ... Sandstorms  Stormy Sunny Windy  \\\n",
       "25857                   2.0         Meal   ...        0.0     0.0   1.0   0.0   \n",
       "2575                    3.0       Buffet   ...        0.0     0.0   1.0   0.0   \n",
       "37903                   2.0        Snack   ...        0.0     0.0   1.0   0.0   \n",
       "\n",
       "        15  20-29  30-39   50  Meal_Time  Not_Meal_Time  \n",
       "25857  0.0    1.0    0.0  0.0        1.0            0.0  \n",
       "2575   0.0    0.0    1.0  0.0        1.0            0.0  \n",
       "37903  0.0    1.0    0.0  0.0        1.0            0.0  \n",
       "\n",
       "[3 rows x 27 columns]"
      ]
     },
     "execution_count": 1452,
     "metadata": {},
     "output_type": "execute_result"
    }
   ],
   "source": [
    "train_data = pd.concat([train_data, meal], axis=1)\n",
    "train_data.head(3)"
   ]
  },
  {
   "cell_type": "code",
   "execution_count": 1453,
   "metadata": {},
   "outputs": [],
   "source": [
    "meal_dict = {}\n",
    "meal_times = ['11', '12', '13', '14', '17', '18', '19', '20', '21']\n",
    "non_meal_times = ['00', '08', '09', '10', '15', '16', '22', '23']\n",
    "\n",
    "for key in meal_times:\n",
    "    meal_dict[key] = 'Meal_Time'\n",
    "\n",
    "for key in non_meal_times:\n",
    "    meal_dict[key] = 'Not_Meal_Time'\n",
    "\n",
    "test_data['Time_Orderd'] = test_data['Time_Orderd'].map(meal_dict).fillna(test_data['Time_Orderd'])\n",
    "\n",
    "ohe = OneHotEncoder()\n",
    "meal_arr = ohe.fit_transform(test_data[['Time_Orderd']]).toarray()\n",
    "meal_labels = ohe.categories_[0]\n",
    "meal = pd.DataFrame(meal_arr, columns=meal_labels)\n",
    "meal = meal.loc[:, meal.columns.notna()]\n",
    "meal.index = test_indices\n",
    "\n",
    "test_data = pd.concat([test_data, meal], axis=1)"
   ]
  },
  {
   "cell_type": "markdown",
   "metadata": {},
   "source": [
    "#### Distance from Restaurant to Customer Location\n",
    "\n",
    "We use the haversine formula for this, which calculates the distance between two places based on their latitude and longitude angles."
   ]
  },
  {
   "cell_type": "code",
   "execution_count": 1454,
   "metadata": {},
   "outputs": [],
   "source": [
    "def deg_to_rads(deg):\n",
    "    return deg * np.pi / 180\n",
    "\n",
    "def my_haversine(row):\n",
    "    r_lat1 = deg_to_rads(row['Restaurant_latitude'])\n",
    "    r_lat2 = deg_to_rads(row['Delivery_location_latitude'])\n",
    "    r_lon1 = deg_to_rads(row['Restaurant_longitude'])\n",
    "    r_lon2 = deg_to_rads(row['Delivery_location_longitude'])\n",
    "    dist_lat = r_lat2 - r_lat1\n",
    "    dist_lon = r_lon2 - r_lon1\n",
    "    calc_1 = np.sin(dist_lat / 2) ** 2 + np.cos(r_lat1) * np.cos(r_lat2) * (np.sin(dist_lon / 2) ** 2)\n",
    "    calc_2 = 2 * np.arctan2(np.sqrt(calc_1), np.sqrt(1 - calc_1))\n",
    "    earth_rad = 6371\n",
    "    return earth_rad * calc_2"
   ]
  },
  {
   "cell_type": "code",
   "execution_count": 1455,
   "metadata": {},
   "outputs": [],
   "source": [
    "train_data['Distance'] = train_data.apply(my_haversine, axis=1)\n",
    "train_data.drop(['Restaurant_latitude', 'Restaurant_longitude', 'Delivery_location_latitude', 'Delivery_location_longitude'], axis=1, inplace=True)\n",
    "\n",
    "test_data['Distance'] = test_data.apply(my_haversine, axis=1)\n",
    "test_data.drop(['Restaurant_latitude', 'Restaurant_longitude', 'Delivery_location_latitude', 'Delivery_location_longitude'], axis=1, inplace=True)"
   ]
  },
  {
   "cell_type": "code",
   "execution_count": 1456,
   "metadata": {},
   "outputs": [
    {
     "data": {
      "text/html": [
       "<div>\n",
       "<style scoped>\n",
       "    .dataframe tbody tr th:only-of-type {\n",
       "        vertical-align: middle;\n",
       "    }\n",
       "\n",
       "    .dataframe tbody tr th {\n",
       "        vertical-align: top;\n",
       "    }\n",
       "\n",
       "    .dataframe thead th {\n",
       "        text-align: right;\n",
       "    }\n",
       "</style>\n",
       "<table border=\"1\" class=\"dataframe\">\n",
       "  <thead>\n",
       "    <tr style=\"text-align: right;\">\n",
       "      <th></th>\n",
       "      <th>Delivery_person_Age</th>\n",
       "      <th>Delivery_person_Ratings</th>\n",
       "      <th>Time_Orderd</th>\n",
       "      <th>Weatherconditions</th>\n",
       "      <th>Road_traffic_density</th>\n",
       "      <th>Type_of_order</th>\n",
       "      <th>Type_of_vehicle</th>\n",
       "      <th>multiple_deliveries</th>\n",
       "      <th>Festival</th>\n",
       "      <th>City</th>\n",
       "      <th>...</th>\n",
       "      <th>Stormy</th>\n",
       "      <th>Sunny</th>\n",
       "      <th>Windy</th>\n",
       "      <th>15</th>\n",
       "      <th>20-29</th>\n",
       "      <th>30-39</th>\n",
       "      <th>50</th>\n",
       "      <th>Meal_Time</th>\n",
       "      <th>Not_Meal_Time</th>\n",
       "      <th>Distance</th>\n",
       "    </tr>\n",
       "  </thead>\n",
       "  <tbody>\n",
       "    <tr>\n",
       "      <th>25857</th>\n",
       "      <td>20-29</td>\n",
       "      <td>4.9</td>\n",
       "      <td>Meal_Time</td>\n",
       "      <td>Sunny</td>\n",
       "      <td>2.0</td>\n",
       "      <td>Meal</td>\n",
       "      <td>motorcycle</td>\n",
       "      <td>0.0</td>\n",
       "      <td>No</td>\n",
       "      <td>Urban</td>\n",
       "      <td>...</td>\n",
       "      <td>0.0</td>\n",
       "      <td>1.0</td>\n",
       "      <td>0.0</td>\n",
       "      <td>0.0</td>\n",
       "      <td>1.0</td>\n",
       "      <td>0.0</td>\n",
       "      <td>0.0</td>\n",
       "      <td>1.0</td>\n",
       "      <td>0.0</td>\n",
       "      <td>1.532275</td>\n",
       "    </tr>\n",
       "    <tr>\n",
       "      <th>2575</th>\n",
       "      <td>30-39</td>\n",
       "      <td>4.5</td>\n",
       "      <td>Meal_Time</td>\n",
       "      <td>Sunny</td>\n",
       "      <td>3.0</td>\n",
       "      <td>Buffet</td>\n",
       "      <td>motorcycle</td>\n",
       "      <td>1.0</td>\n",
       "      <td>No</td>\n",
       "      <td>NaN</td>\n",
       "      <td>...</td>\n",
       "      <td>0.0</td>\n",
       "      <td>1.0</td>\n",
       "      <td>0.0</td>\n",
       "      <td>0.0</td>\n",
       "      <td>0.0</td>\n",
       "      <td>1.0</td>\n",
       "      <td>0.0</td>\n",
       "      <td>1.0</td>\n",
       "      <td>0.0</td>\n",
       "      <td>4.538408</td>\n",
       "    </tr>\n",
       "  </tbody>\n",
       "</table>\n",
       "<p>2 rows × 24 columns</p>\n",
       "</div>"
      ],
      "text/plain": [
       "      Delivery_person_Age  Delivery_person_Ratings Time_Orderd  \\\n",
       "25857               20-29                      4.9   Meal_Time   \n",
       "2575                30-39                      4.5   Meal_Time   \n",
       "\n",
       "      Weatherconditions  Road_traffic_density Type_of_order Type_of_vehicle  \\\n",
       "25857             Sunny                   2.0         Meal      motorcycle    \n",
       "2575              Sunny                   3.0       Buffet      motorcycle    \n",
       "\n",
       "       multiple_deliveries Festival    City  ...  Stormy  Sunny  Windy   15  \\\n",
       "25857                  0.0      No   Urban   ...     0.0    1.0    0.0  0.0   \n",
       "2575                   1.0      No      NaN  ...     0.0    1.0    0.0  0.0   \n",
       "\n",
       "       20-29  30-39   50  Meal_Time  Not_Meal_Time  Distance  \n",
       "25857    1.0    0.0  0.0        1.0            0.0  1.532275  \n",
       "2575     0.0    1.0  0.0        1.0            0.0  4.538408  \n",
       "\n",
       "[2 rows x 24 columns]"
      ]
     },
     "execution_count": 1456,
     "metadata": {},
     "output_type": "execute_result"
    }
   ],
   "source": [
    "train_data.head(2)"
   ]
  },
  {
   "cell_type": "markdown",
   "metadata": {},
   "source": [
    "#### Type of Order"
   ]
  },
  {
   "cell_type": "code",
   "execution_count": 1457,
   "metadata": {},
   "outputs": [
    {
     "data": {
      "text/plain": [
       "array(['Meal ', 'Buffet ', 'Snack ', 'Drinks '], dtype=object)"
      ]
     },
     "execution_count": 1457,
     "metadata": {},
     "output_type": "execute_result"
    }
   ],
   "source": [
    "train_data['Type_of_order'].unique()"
   ]
  },
  {
   "cell_type": "code",
   "execution_count": 1458,
   "metadata": {},
   "outputs": [
    {
     "data": {
      "image/png": "[encoded data removed]",
      "text/plain": [
       "<Figure size 640x480 with 1 Axes>"
      ]
     },
     "metadata": {},
     "output_type": "display_data"
    }
   ],
   "source": [
    "mean_time_type = train_data.groupby('Type_of_order', as_index=False)['Time_taken(min)'].mean()\n",
    "mean_time_plot = mean_time_type.plot(x='Type_of_order', y='Time_taken(min)', kind='bar', label='Time to Deliver')\n",
    "mean_time_plot.set_xlabel('Type of Order')\n",
    "mean_time_plot.set_ylabel('Time to Deliver')\n",
    "mean_time_plot.set_title('Type of Order vs Time to Deliver');"
   ]
  },
  {
   "cell_type": "markdown",
   "metadata": {},
   "source": [
    "The type of order doesn't seem to affect the time to deliver at all! So we will just drop the column."
   ]
  },
  {
   "cell_type": "code",
   "execution_count": 1459,
   "metadata": {},
   "outputs": [],
   "source": [
    "train_data.drop('Type_of_order', axis=1, inplace=True)\n",
    "test_data.drop('Type_of_order', axis=1, inplace=True)"
   ]
  },
  {
   "cell_type": "markdown",
   "metadata": {},
   "source": [
    "#### Type of Vehicle"
   ]
  },
  {
   "cell_type": "code",
   "execution_count": 1460,
   "metadata": {},
   "outputs": [
    {
     "data": {
      "text/plain": [
       "array(['motorcycle ', 'scooter ', 'electric_scooter ', 'bicycle '],\n",
       "      dtype=object)"
      ]
     },
     "execution_count": 1460,
     "metadata": {},
     "output_type": "execute_result"
    }
   ],
   "source": [
    "train_data['Type_of_vehicle'].unique()"
   ]
  },
  {
   "cell_type": "code",
   "execution_count": 1461,
   "metadata": {},
   "outputs": [
    {
     "data": {
      "image/png": "[encoded data removed]",
      "text/plain": [
       "<Figure size 640x480 with 1 Axes>"
      ]
     },
     "metadata": {},
     "output_type": "display_data"
    }
   ],
   "source": [
    "mean_time_vehicle = train_data.groupby('Type_of_vehicle', as_index=False)['Time_taken(min)'].mean()\n",
    "mean_time_plot = mean_time_vehicle.plot(x='Type_of_vehicle', y='Time_taken(min)', kind='bar', label='Time to Deliver')\n",
    "mean_time_plot.set_xlabel('Type of Vehicle')\n",
    "mean_time_plot.set_ylabel('Time to Deliver')\n",
    "mean_time_plot.set_title('Type of Vehicle vs Time to Deliver');"
   ]
  },
  {
   "cell_type": "code",
   "execution_count": 1462,
   "metadata": {},
   "outputs": [
    {
     "data": {
      "text/html": [
       "<div>\n",
       "<style scoped>\n",
       "    .dataframe tbody tr th:only-of-type {\n",
       "        vertical-align: middle;\n",
       "    }\n",
       "\n",
       "    .dataframe tbody tr th {\n",
       "        vertical-align: top;\n",
       "    }\n",
       "\n",
       "    .dataframe thead th {\n",
       "        text-align: right;\n",
       "    }\n",
       "</style>\n",
       "<table border=\"1\" class=\"dataframe\">\n",
       "  <thead>\n",
       "    <tr style=\"text-align: right;\">\n",
       "      <th></th>\n",
       "      <th>Type_of_vehicle</th>\n",
       "      <th>Time_taken(min)</th>\n",
       "    </tr>\n",
       "  </thead>\n",
       "  <tbody>\n",
       "    <tr>\n",
       "      <th>0</th>\n",
       "      <td>bicycle</td>\n",
       "      <td>26.316667</td>\n",
       "    </tr>\n",
       "    <tr>\n",
       "      <th>1</th>\n",
       "      <td>electric_scooter</td>\n",
       "      <td>24.478076</td>\n",
       "    </tr>\n",
       "    <tr>\n",
       "      <th>2</th>\n",
       "      <td>motorcycle</td>\n",
       "      <td>27.627511</td>\n",
       "    </tr>\n",
       "    <tr>\n",
       "      <th>3</th>\n",
       "      <td>scooter</td>\n",
       "      <td>24.500773</td>\n",
       "    </tr>\n",
       "  </tbody>\n",
       "</table>\n",
       "</div>"
      ],
      "text/plain": [
       "     Type_of_vehicle  Time_taken(min)\n",
       "0           bicycle         26.316667\n",
       "1  electric_scooter         24.478076\n",
       "2        motorcycle         27.627511\n",
       "3           scooter         24.500773"
      ]
     },
     "execution_count": 1462,
     "metadata": {},
     "output_type": "execute_result"
    }
   ],
   "source": [
    "mean_time_vehicle"
   ]
  },
  {
   "cell_type": "markdown",
   "metadata": {},
   "source": [
    "It seems to be the case that scooters take less time than bikes and motorcycles! Likely because the scooter ubers probably deliver to shorter distances :)\n",
    "\n",
    "Let's group scooters, and then leave bikes and motorcycles alone."
   ]
  },
  {
   "cell_type": "code",
   "execution_count": 1463,
   "metadata": {},
   "outputs": [
    {
     "data": {
      "text/plain": [
       "array(['motorcycle', 'scooter', 'bicycle'], dtype=object)"
      ]
     },
     "execution_count": 1463,
     "metadata": {},
     "output_type": "execute_result"
    }
   ],
   "source": [
    "vehicle_dict = {'motorcycle ': 'motorcycle', 'electric_scooter ': 'scooter', 'bicycle ': 'bicycle', 'scooter ': 'scooter'}\n",
    "\n",
    "train_data['Type_of_vehicle'] = train_data['Type_of_vehicle'].map(vehicle_dict).fillna(train_data['Type_of_vehicle'])\n",
    "test_data['Type_of_vehicle'] = test_data['Type_of_vehicle'].map(vehicle_dict).fillna(test_data['Type_of_vehicle'])\n",
    "train_data['Type_of_vehicle'].unique()"
   ]
  },
  {
   "cell_type": "code",
   "execution_count": 1464,
   "metadata": {},
   "outputs": [
    {
     "data": {
      "text/html": [
       "<div>\n",
       "<style scoped>\n",
       "    .dataframe tbody tr th:only-of-type {\n",
       "        vertical-align: middle;\n",
       "    }\n",
       "\n",
       "    .dataframe tbody tr th {\n",
       "        vertical-align: top;\n",
       "    }\n",
       "\n",
       "    .dataframe thead th {\n",
       "        text-align: right;\n",
       "    }\n",
       "</style>\n",
       "<table border=\"1\" class=\"dataframe\">\n",
       "  <thead>\n",
       "    <tr style=\"text-align: right;\">\n",
       "      <th></th>\n",
       "      <th>bicycle</th>\n",
       "      <th>motorcycle</th>\n",
       "      <th>scooter</th>\n",
       "    </tr>\n",
       "  </thead>\n",
       "  <tbody>\n",
       "    <tr>\n",
       "      <th>25857</th>\n",
       "      <td>0.0</td>\n",
       "      <td>1.0</td>\n",
       "      <td>0.0</td>\n",
       "    </tr>\n",
       "    <tr>\n",
       "      <th>2575</th>\n",
       "      <td>0.0</td>\n",
       "      <td>1.0</td>\n",
       "      <td>0.0</td>\n",
       "    </tr>\n",
       "  </tbody>\n",
       "</table>\n",
       "</div>"
      ],
      "text/plain": [
       "       bicycle  motorcycle  scooter\n",
       "25857      0.0         1.0      0.0\n",
       "2575       0.0         1.0      0.0"
      ]
     },
     "execution_count": 1464,
     "metadata": {},
     "output_type": "execute_result"
    }
   ],
   "source": [
    "# one hot encode the vehicles\n",
    "ohe = OneHotEncoder()\n",
    "vehicle_arr = ohe.fit_transform(train_data[['Type_of_vehicle']]).toarray()\n",
    "vehicle_labels = ohe.categories_[0]\n",
    "vehicle = pd.DataFrame(vehicle_arr, columns=vehicle_labels)\n",
    "vehicle = vehicle.loc[:, vehicle.columns.notna()]\n",
    "vehicle.index = train_indices\n",
    "vehicle.head(2)"
   ]
  },
  {
   "cell_type": "code",
   "execution_count": 1465,
   "metadata": {},
   "outputs": [
    {
     "data": {
      "text/html": [
       "<div>\n",
       "<style scoped>\n",
       "    .dataframe tbody tr th:only-of-type {\n",
       "        vertical-align: middle;\n",
       "    }\n",
       "\n",
       "    .dataframe tbody tr th {\n",
       "        vertical-align: top;\n",
       "    }\n",
       "\n",
       "    .dataframe thead th {\n",
       "        text-align: right;\n",
       "    }\n",
       "</style>\n",
       "<table border=\"1\" class=\"dataframe\">\n",
       "  <thead>\n",
       "    <tr style=\"text-align: right;\">\n",
       "      <th></th>\n",
       "      <th>Delivery_person_Age</th>\n",
       "      <th>Delivery_person_Ratings</th>\n",
       "      <th>Time_Orderd</th>\n",
       "      <th>Weatherconditions</th>\n",
       "      <th>Road_traffic_density</th>\n",
       "      <th>Type_of_vehicle</th>\n",
       "      <th>multiple_deliveries</th>\n",
       "      <th>Festival</th>\n",
       "      <th>City</th>\n",
       "      <th>Time_taken(min)</th>\n",
       "      <th>...</th>\n",
       "      <th>15</th>\n",
       "      <th>20-29</th>\n",
       "      <th>30-39</th>\n",
       "      <th>50</th>\n",
       "      <th>Meal_Time</th>\n",
       "      <th>Not_Meal_Time</th>\n",
       "      <th>Distance</th>\n",
       "      <th>bicycle</th>\n",
       "      <th>motorcycle</th>\n",
       "      <th>scooter</th>\n",
       "    </tr>\n",
       "  </thead>\n",
       "  <tbody>\n",
       "    <tr>\n",
       "      <th>25857</th>\n",
       "      <td>20-29</td>\n",
       "      <td>4.9</td>\n",
       "      <td>Meal_Time</td>\n",
       "      <td>Sunny</td>\n",
       "      <td>2.0</td>\n",
       "      <td>motorcycle</td>\n",
       "      <td>0.0</td>\n",
       "      <td>No</td>\n",
       "      <td>Urban</td>\n",
       "      <td>19</td>\n",
       "      <td>...</td>\n",
       "      <td>0.0</td>\n",
       "      <td>1.0</td>\n",
       "      <td>0.0</td>\n",
       "      <td>0.0</td>\n",
       "      <td>1.0</td>\n",
       "      <td>0.0</td>\n",
       "      <td>1.532275</td>\n",
       "      <td>0.0</td>\n",
       "      <td>1.0</td>\n",
       "      <td>0.0</td>\n",
       "    </tr>\n",
       "    <tr>\n",
       "      <th>2575</th>\n",
       "      <td>30-39</td>\n",
       "      <td>4.5</td>\n",
       "      <td>Meal_Time</td>\n",
       "      <td>Sunny</td>\n",
       "      <td>3.0</td>\n",
       "      <td>motorcycle</td>\n",
       "      <td>1.0</td>\n",
       "      <td>No</td>\n",
       "      <td>NaN</td>\n",
       "      <td>17</td>\n",
       "      <td>...</td>\n",
       "      <td>0.0</td>\n",
       "      <td>0.0</td>\n",
       "      <td>1.0</td>\n",
       "      <td>0.0</td>\n",
       "      <td>1.0</td>\n",
       "      <td>0.0</td>\n",
       "      <td>4.538408</td>\n",
       "      <td>0.0</td>\n",
       "      <td>1.0</td>\n",
       "      <td>0.0</td>\n",
       "    </tr>\n",
       "  </tbody>\n",
       "</table>\n",
       "<p>2 rows × 26 columns</p>\n",
       "</div>"
      ],
      "text/plain": [
       "      Delivery_person_Age  Delivery_person_Ratings Time_Orderd  \\\n",
       "25857               20-29                      4.9   Meal_Time   \n",
       "2575                30-39                      4.5   Meal_Time   \n",
       "\n",
       "      Weatherconditions  Road_traffic_density Type_of_vehicle  \\\n",
       "25857             Sunny                   2.0      motorcycle   \n",
       "2575              Sunny                   3.0      motorcycle   \n",
       "\n",
       "       multiple_deliveries Festival    City  Time_taken(min)  ...   15  20-29  \\\n",
       "25857                  0.0      No   Urban                19  ...  0.0    1.0   \n",
       "2575                   1.0      No      NaN               17  ...  0.0    0.0   \n",
       "\n",
       "       30-39   50  Meal_Time  Not_Meal_Time  Distance  bicycle  motorcycle  \\\n",
       "25857    0.0  0.0        1.0            0.0  1.532275      0.0         1.0   \n",
       "2575     1.0  0.0        1.0            0.0  4.538408      0.0         1.0   \n",
       "\n",
       "       scooter  \n",
       "25857      0.0  \n",
       "2575       0.0  \n",
       "\n",
       "[2 rows x 26 columns]"
      ]
     },
     "execution_count": 1465,
     "metadata": {},
     "output_type": "execute_result"
    }
   ],
   "source": [
    "train_data = pd.concat([train_data, vehicle], axis=1)\n",
    "train_data.head(2)"
   ]
  },
  {
   "cell_type": "code",
   "execution_count": 1466,
   "metadata": {},
   "outputs": [],
   "source": [
    "ohe = OneHotEncoder()\n",
    "vehicle_arr = ohe.fit_transform(test_data[['Type_of_vehicle']]).toarray()\n",
    "vehicle_labels = ohe.categories_[0]\n",
    "vehicle = pd.DataFrame(vehicle_arr, columns=vehicle_labels)\n",
    "vehicle.index = test_indices\n",
    "\n",
    "test_data = pd.concat([test_data, vehicle], axis=1)"
   ]
  },
  {
   "cell_type": "markdown",
   "metadata": {},
   "source": [
    "#### Festival"
   ]
  },
  {
   "cell_type": "code",
   "execution_count": 1467,
   "metadata": {},
   "outputs": [
    {
     "data": {
      "image/png": "[encoded data removed]",
      "text/plain": [
       "<Figure size 640x480 with 1 Axes>"
      ]
     },
     "metadata": {},
     "output_type": "display_data"
    }
   ],
   "source": [
    "time_fest = train_data.groupby('Festival', as_index=False)['Time_taken(min)'].mean()\n",
    "time_plot = time_fest.plot(x='Festival', y='Time_taken(min)', kind='bar', label='Time to Deliver')\n",
    "time_plot.set_xlabel('Festival')\n",
    "time_plot.set_ylabel('Time to Deliver')\n",
    "time_plot.set_title('Festival vs Time to Deliver');"
   ]
  },
  {
   "cell_type": "markdown",
   "metadata": {},
   "source": [
    "There is clearly an increase in the time to deliver when a festival is taking place. This also makes sense because **not sure if it's festival going on slowing down car or if it's festival order so more food so take longer but either way it works.**"
   ]
  },
  {
   "cell_type": "code",
   "execution_count": 1468,
   "metadata": {},
   "outputs": [],
   "source": [
    "oe = OrdinalEncoder(categories=[['No ', 'Yes ']])\n",
    "train_data.loc[train_data['Festival'].notna(), ['Festival']] = oe.fit_transform(train_data['Festival'].dropna().values.reshape(-1,1))\n",
    "\n",
    "oe = OrdinalEncoder(categories=[['No ', 'Yes ']])\n",
    "test_data.loc[test_data['Festival'].notna(), ['Festival']] = oe.fit_transform(test_data['Festival'].dropna().values.reshape(-1,1))"
   ]
  },
  {
   "cell_type": "code",
   "execution_count": 1469,
   "metadata": {},
   "outputs": [
    {
     "data": {
      "text/html": [
       "<div>\n",
       "<style scoped>\n",
       "    .dataframe tbody tr th:only-of-type {\n",
       "        vertical-align: middle;\n",
       "    }\n",
       "\n",
       "    .dataframe tbody tr th {\n",
       "        vertical-align: top;\n",
       "    }\n",
       "\n",
       "    .dataframe thead th {\n",
       "        text-align: right;\n",
       "    }\n",
       "</style>\n",
       "<table border=\"1\" class=\"dataframe\">\n",
       "  <thead>\n",
       "    <tr style=\"text-align: right;\">\n",
       "      <th></th>\n",
       "      <th>Delivery_person_Age</th>\n",
       "      <th>Delivery_person_Ratings</th>\n",
       "      <th>Time_Orderd</th>\n",
       "      <th>Weatherconditions</th>\n",
       "      <th>Road_traffic_density</th>\n",
       "      <th>Type_of_vehicle</th>\n",
       "      <th>multiple_deliveries</th>\n",
       "      <th>Festival</th>\n",
       "      <th>City</th>\n",
       "      <th>Time_taken(min)</th>\n",
       "      <th>...</th>\n",
       "      <th>15</th>\n",
       "      <th>20-29</th>\n",
       "      <th>30-39</th>\n",
       "      <th>50</th>\n",
       "      <th>Meal_Time</th>\n",
       "      <th>Not_Meal_Time</th>\n",
       "      <th>Distance</th>\n",
       "      <th>bicycle</th>\n",
       "      <th>motorcycle</th>\n",
       "      <th>scooter</th>\n",
       "    </tr>\n",
       "  </thead>\n",
       "  <tbody>\n",
       "    <tr>\n",
       "      <th>25857</th>\n",
       "      <td>20-29</td>\n",
       "      <td>4.9</td>\n",
       "      <td>Meal_Time</td>\n",
       "      <td>Sunny</td>\n",
       "      <td>2.0</td>\n",
       "      <td>motorcycle</td>\n",
       "      <td>0.0</td>\n",
       "      <td>0.0</td>\n",
       "      <td>Urban</td>\n",
       "      <td>19</td>\n",
       "      <td>...</td>\n",
       "      <td>0.0</td>\n",
       "      <td>1.0</td>\n",
       "      <td>0.0</td>\n",
       "      <td>0.0</td>\n",
       "      <td>1.0</td>\n",
       "      <td>0.0</td>\n",
       "      <td>1.532275</td>\n",
       "      <td>0.0</td>\n",
       "      <td>1.0</td>\n",
       "      <td>0.0</td>\n",
       "    </tr>\n",
       "    <tr>\n",
       "      <th>2575</th>\n",
       "      <td>30-39</td>\n",
       "      <td>4.5</td>\n",
       "      <td>Meal_Time</td>\n",
       "      <td>Sunny</td>\n",
       "      <td>3.0</td>\n",
       "      <td>motorcycle</td>\n",
       "      <td>1.0</td>\n",
       "      <td>0.0</td>\n",
       "      <td>NaN</td>\n",
       "      <td>17</td>\n",
       "      <td>...</td>\n",
       "      <td>0.0</td>\n",
       "      <td>0.0</td>\n",
       "      <td>1.0</td>\n",
       "      <td>0.0</td>\n",
       "      <td>1.0</td>\n",
       "      <td>0.0</td>\n",
       "      <td>4.538408</td>\n",
       "      <td>0.0</td>\n",
       "      <td>1.0</td>\n",
       "      <td>0.0</td>\n",
       "    </tr>\n",
       "  </tbody>\n",
       "</table>\n",
       "<p>2 rows × 26 columns</p>\n",
       "</div>"
      ],
      "text/plain": [
       "      Delivery_person_Age  Delivery_person_Ratings Time_Orderd  \\\n",
       "25857               20-29                      4.9   Meal_Time   \n",
       "2575                30-39                      4.5   Meal_Time   \n",
       "\n",
       "      Weatherconditions  Road_traffic_density Type_of_vehicle  \\\n",
       "25857             Sunny                   2.0      motorcycle   \n",
       "2575              Sunny                   3.0      motorcycle   \n",
       "\n",
       "       multiple_deliveries Festival    City  Time_taken(min)  ...   15  20-29  \\\n",
       "25857                  0.0      0.0  Urban                19  ...  0.0    1.0   \n",
       "2575                   1.0      0.0     NaN               17  ...  0.0    0.0   \n",
       "\n",
       "       30-39   50  Meal_Time  Not_Meal_Time  Distance  bicycle  motorcycle  \\\n",
       "25857    0.0  0.0        1.0            0.0  1.532275      0.0         1.0   \n",
       "2575     1.0  0.0        1.0            0.0  4.538408      0.0         1.0   \n",
       "\n",
       "       scooter  \n",
       "25857      0.0  \n",
       "2575       0.0  \n",
       "\n",
       "[2 rows x 26 columns]"
      ]
     },
     "execution_count": 1469,
     "metadata": {},
     "output_type": "execute_result"
    }
   ],
   "source": [
    "train_data.head(2)"
   ]
  },
  {
   "cell_type": "markdown",
   "metadata": {},
   "source": [
    "#### City"
   ]
  },
  {
   "cell_type": "code",
   "execution_count": 1470,
   "metadata": {},
   "outputs": [
    {
     "data": {
      "text/plain": [
       "City\n",
       "Metropolitian     27297\n",
       "Urban              8093\n",
       "Semi-Urban          131\n",
       "Name: count, dtype: int64"
      ]
     },
     "execution_count": 1470,
     "metadata": {},
     "output_type": "execute_result"
    }
   ],
   "source": [
    "train_data.City.value_counts()"
   ]
  },
  {
   "cell_type": "code",
   "execution_count": 1471,
   "metadata": {},
   "outputs": [
    {
     "data": {
      "image/png": "[encoded data removed]",
      "text/plain": [
       "<Figure size 640x480 with 1 Axes>"
      ]
     },
     "metadata": {},
     "output_type": "display_data"
    }
   ],
   "source": [
    "time_city = train_data.groupby('City', as_index=False)['Time_taken(min)'].mean()\n",
    "time_plot = time_city.plot(x='City', y='Time_taken(min)', kind='bar', label='Time to Deliver')\n",
    "time_plot.set_xlabel('City')\n",
    "time_plot.set_ylabel('Time to Deliver')\n",
    "time_plot.set_title('City vs Time to Deliver');"
   ]
  },
  {
   "cell_type": "code",
   "execution_count": 1472,
   "metadata": {},
   "outputs": [
    {
     "data": {
      "text/html": [
       "<div>\n",
       "<style scoped>\n",
       "    .dataframe tbody tr th:only-of-type {\n",
       "        vertical-align: middle;\n",
       "    }\n",
       "\n",
       "    .dataframe tbody tr th {\n",
       "        vertical-align: top;\n",
       "    }\n",
       "\n",
       "    .dataframe thead th {\n",
       "        text-align: right;\n",
       "    }\n",
       "</style>\n",
       "<table border=\"1\" class=\"dataframe\">\n",
       "  <thead>\n",
       "    <tr style=\"text-align: right;\">\n",
       "      <th></th>\n",
       "      <th>City</th>\n",
       "      <th>Time_taken(min)</th>\n",
       "    </tr>\n",
       "  </thead>\n",
       "  <tbody>\n",
       "    <tr>\n",
       "      <th>0</th>\n",
       "      <td>Metropolitian</td>\n",
       "      <td>27.325787</td>\n",
       "    </tr>\n",
       "    <tr>\n",
       "      <th>1</th>\n",
       "      <td>Semi-Urban</td>\n",
       "      <td>49.717557</td>\n",
       "    </tr>\n",
       "    <tr>\n",
       "      <th>2</th>\n",
       "      <td>Urban</td>\n",
       "      <td>22.978994</td>\n",
       "    </tr>\n",
       "  </tbody>\n",
       "</table>\n",
       "</div>"
      ],
      "text/plain": [
       "             City  Time_taken(min)\n",
       "0  Metropolitian         27.325787\n",
       "1     Semi-Urban         49.717557\n",
       "2          Urban         22.978994"
      ]
     },
     "execution_count": 1472,
     "metadata": {},
     "output_type": "execute_result"
    }
   ],
   "source": [
    "time_city"
   ]
  },
  {
   "cell_type": "markdown",
   "metadata": {},
   "source": [
    "This makes sense since urban areas are the most dense, then metropolitian, then semi-urban, so let's use an ordinal encoder."
   ]
  },
  {
   "cell_type": "code",
   "execution_count": 1473,
   "metadata": {},
   "outputs": [],
   "source": [
    "oe = OrdinalEncoder(categories=[['Urban ', 'Metropolitian ', 'Semi-Urban ']])\n",
    "train_data.loc[train_data['City'].notna(), ['City']] = oe.fit_transform(train_data['City'].dropna().values.reshape(-1,1))\n",
    "\n",
    "oe = OrdinalEncoder(categories=[['Urban ', 'Metropolitian ', 'Semi-Urban ']])\n",
    "test_data.loc[test_data['City'].notna(), ['City']] = oe.fit_transform(test_data['City'].dropna().values.reshape(-1,1))"
   ]
  },
  {
   "cell_type": "code",
   "execution_count": 1474,
   "metadata": {},
   "outputs": [
    {
     "data": {
      "text/html": [
       "<div>\n",
       "<style scoped>\n",
       "    .dataframe tbody tr th:only-of-type {\n",
       "        vertical-align: middle;\n",
       "    }\n",
       "\n",
       "    .dataframe tbody tr th {\n",
       "        vertical-align: top;\n",
       "    }\n",
       "\n",
       "    .dataframe thead th {\n",
       "        text-align: right;\n",
       "    }\n",
       "</style>\n",
       "<table border=\"1\" class=\"dataframe\">\n",
       "  <thead>\n",
       "    <tr style=\"text-align: right;\">\n",
       "      <th></th>\n",
       "      <th>Delivery_person_Age</th>\n",
       "      <th>Delivery_person_Ratings</th>\n",
       "      <th>Time_Orderd</th>\n",
       "      <th>Weatherconditions</th>\n",
       "      <th>Road_traffic_density</th>\n",
       "      <th>Type_of_vehicle</th>\n",
       "      <th>multiple_deliveries</th>\n",
       "      <th>Festival</th>\n",
       "      <th>City</th>\n",
       "      <th>Time_taken(min)</th>\n",
       "      <th>...</th>\n",
       "      <th>15</th>\n",
       "      <th>20-29</th>\n",
       "      <th>30-39</th>\n",
       "      <th>50</th>\n",
       "      <th>Meal_Time</th>\n",
       "      <th>Not_Meal_Time</th>\n",
       "      <th>Distance</th>\n",
       "      <th>bicycle</th>\n",
       "      <th>motorcycle</th>\n",
       "      <th>scooter</th>\n",
       "    </tr>\n",
       "  </thead>\n",
       "  <tbody>\n",
       "    <tr>\n",
       "      <th>25857</th>\n",
       "      <td>20-29</td>\n",
       "      <td>4.9</td>\n",
       "      <td>Meal_Time</td>\n",
       "      <td>Sunny</td>\n",
       "      <td>2.0</td>\n",
       "      <td>motorcycle</td>\n",
       "      <td>0.0</td>\n",
       "      <td>0.0</td>\n",
       "      <td>0.0</td>\n",
       "      <td>19</td>\n",
       "      <td>...</td>\n",
       "      <td>0.0</td>\n",
       "      <td>1.0</td>\n",
       "      <td>0.0</td>\n",
       "      <td>0.0</td>\n",
       "      <td>1.0</td>\n",
       "      <td>0.0</td>\n",
       "      <td>1.532275</td>\n",
       "      <td>0.0</td>\n",
       "      <td>1.0</td>\n",
       "      <td>0.0</td>\n",
       "    </tr>\n",
       "    <tr>\n",
       "      <th>2575</th>\n",
       "      <td>30-39</td>\n",
       "      <td>4.5</td>\n",
       "      <td>Meal_Time</td>\n",
       "      <td>Sunny</td>\n",
       "      <td>3.0</td>\n",
       "      <td>motorcycle</td>\n",
       "      <td>1.0</td>\n",
       "      <td>0.0</td>\n",
       "      <td>NaN</td>\n",
       "      <td>17</td>\n",
       "      <td>...</td>\n",
       "      <td>0.0</td>\n",
       "      <td>0.0</td>\n",
       "      <td>1.0</td>\n",
       "      <td>0.0</td>\n",
       "      <td>1.0</td>\n",
       "      <td>0.0</td>\n",
       "      <td>4.538408</td>\n",
       "      <td>0.0</td>\n",
       "      <td>1.0</td>\n",
       "      <td>0.0</td>\n",
       "    </tr>\n",
       "  </tbody>\n",
       "</table>\n",
       "<p>2 rows × 26 columns</p>\n",
       "</div>"
      ],
      "text/plain": [
       "      Delivery_person_Age  Delivery_person_Ratings Time_Orderd  \\\n",
       "25857               20-29                      4.9   Meal_Time   \n",
       "2575                30-39                      4.5   Meal_Time   \n",
       "\n",
       "      Weatherconditions  Road_traffic_density Type_of_vehicle  \\\n",
       "25857             Sunny                   2.0      motorcycle   \n",
       "2575              Sunny                   3.0      motorcycle   \n",
       "\n",
       "       multiple_deliveries Festival City  Time_taken(min)  ...   15  20-29  \\\n",
       "25857                  0.0      0.0  0.0               19  ...  0.0    1.0   \n",
       "2575                   1.0      0.0  NaN               17  ...  0.0    0.0   \n",
       "\n",
       "       30-39   50  Meal_Time  Not_Meal_Time  Distance  bicycle  motorcycle  \\\n",
       "25857    0.0  0.0        1.0            0.0  1.532275      0.0         1.0   \n",
       "2575     1.0  0.0        1.0            0.0  4.538408      0.0         1.0   \n",
       "\n",
       "       scooter  \n",
       "25857      0.0  \n",
       "2575       0.0  \n",
       "\n",
       "[2 rows x 26 columns]"
      ]
     },
     "execution_count": 1474,
     "metadata": {},
     "output_type": "execute_result"
    }
   ],
   "source": [
    "train_data.head(2)"
   ]
  },
  {
   "cell_type": "markdown",
   "metadata": {},
   "source": [
    "#### Delivery Drivers Rating"
   ]
  },
  {
   "cell_type": "code",
   "execution_count": 1475,
   "metadata": {},
   "outputs": [
    {
     "data": {
      "image/png": "[encoded data removed]",
      "text/plain": [
       "<Figure size 640x480 with 1 Axes>"
      ]
     },
     "metadata": {},
     "output_type": "display_data"
    }
   ],
   "source": [
    "time_rating = train_data.groupby('Delivery_person_Ratings')['Time_taken(min)'].mean()\n",
    "time_plot = time_rating.plot(x='Delivery_person_Ratings', y='Time_taken(min)', kind='bar', label='Time to Deliver')\n",
    "time_plot.set_xlabel('Rating')\n",
    "time_plot.set_ylabel('Time to Deliver')\n",
    "time_plot.set_title('Rating vs Time to Deliver');"
   ]
  },
  {
   "cell_type": "code",
   "execution_count": 1476,
   "metadata": {},
   "outputs": [
    {
     "data": {
      "text/plain": [
       "30"
      ]
     },
     "execution_count": 1476,
     "metadata": {},
     "output_type": "execute_result"
    }
   ],
   "source": [
    "(train_data['Delivery_person_Ratings'] == 1).sum()"
   ]
  },
  {
   "cell_type": "markdown",
   "metadata": {},
   "source": [
    "Rating of 2.5 to 4.4 seem to have similar delivery times, ratings 4.5 to 6.0 seem to have similar delivery times, so i will group these together, makes sense cause higher ratings normally means faster shipping times. A rating of 1 seems to be closer to the higher ratings, but if we look at the value counts, i don't believe there to be a big enough sample size for 1 star rating drivers, and it doesn't make sense that a 1 star driver would take the same amount of time as higher rating so i will put 1 star drivers in their own category, resulting in 3 total categories."
   ]
  },
  {
   "cell_type": "code",
   "execution_count": 1477,
   "metadata": {},
   "outputs": [],
   "source": [
    "ratings_dict = {1.0: '1.0'}\n",
    "low_ratings = [2.5, 2.6, 2.7, 2.8, 2.9, 3.0, 3.1, 3.2, 3.3, 3.4, 3.5, 3.6, 3.7, 3.8, 3.9, 4.0, 4.1, 4.2, 4.3, 4.4]\n",
    "high_ratings = [4.5, 4.6, 4.7, 4.8, 4.9, 5.0, 6.0]\n",
    "\n",
    "for rating in low_ratings:\n",
    "    ratings_dict[rating] = '2.5-4.4'\n",
    "\n",
    "for rating in high_ratings:\n",
    "    ratings_dict[rating] = '4.5-6.0'\n",
    "\n",
    "train_data['Delivery_person_Ratings'] = train_data['Delivery_person_Ratings'].map(ratings_dict).fillna(train_data['Delivery_person_Ratings'])\n",
    "\n",
    "test_data['Delivery_person_Ratings'] = test_data['Delivery_person_Ratings'].map(ratings_dict).fillna(test_data['Delivery_person_Ratings'])\n"
   ]
  },
  {
   "cell_type": "code",
   "execution_count": 1478,
   "metadata": {},
   "outputs": [
    {
     "data": {
      "text/plain": [
       "Delivery_person_Ratings\n",
       "4.5-6.0    28534\n",
       "2.5-4.4     6374\n",
       "1.0           30\n",
       "Name: count, dtype: int64"
      ]
     },
     "execution_count": 1478,
     "metadata": {},
     "output_type": "execute_result"
    }
   ],
   "source": [
    "train_data['Delivery_person_Ratings'].value_counts()"
   ]
  },
  {
   "cell_type": "code",
   "execution_count": 1479,
   "metadata": {},
   "outputs": [],
   "source": [
    "# one hot encode the ratings\n",
    "# Note: we are not using ordinal encoder here cause\n",
    "\n",
    "ohe = OneHotEncoder()\n",
    "ratings_arr = ohe.fit_transform(train_data[['Delivery_person_Ratings']]).toarray()\n",
    "ratings_labels = ohe.categories_[0]\n",
    "ratings = pd.DataFrame(ratings_arr, columns=ratings_labels)\n",
    "ratings = ratings.loc[:, ratings.columns.notna()]\n",
    "ratings.index = train_indices"
   ]
  },
  {
   "cell_type": "code",
   "execution_count": 1480,
   "metadata": {},
   "outputs": [
    {
     "data": {
      "text/html": [
       "<div>\n",
       "<style scoped>\n",
       "    .dataframe tbody tr th:only-of-type {\n",
       "        vertical-align: middle;\n",
       "    }\n",
       "\n",
       "    .dataframe tbody tr th {\n",
       "        vertical-align: top;\n",
       "    }\n",
       "\n",
       "    .dataframe thead th {\n",
       "        text-align: right;\n",
       "    }\n",
       "</style>\n",
       "<table border=\"1\" class=\"dataframe\">\n",
       "  <thead>\n",
       "    <tr style=\"text-align: right;\">\n",
       "      <th></th>\n",
       "      <th>Delivery_person_Age</th>\n",
       "      <th>Delivery_person_Ratings</th>\n",
       "      <th>Time_Orderd</th>\n",
       "      <th>Weatherconditions</th>\n",
       "      <th>Road_traffic_density</th>\n",
       "      <th>Type_of_vehicle</th>\n",
       "      <th>multiple_deliveries</th>\n",
       "      <th>Festival</th>\n",
       "      <th>City</th>\n",
       "      <th>Time_taken(min)</th>\n",
       "      <th>...</th>\n",
       "      <th>50</th>\n",
       "      <th>Meal_Time</th>\n",
       "      <th>Not_Meal_Time</th>\n",
       "      <th>Distance</th>\n",
       "      <th>bicycle</th>\n",
       "      <th>motorcycle</th>\n",
       "      <th>scooter</th>\n",
       "      <th>1.0</th>\n",
       "      <th>2.5-4.4</th>\n",
       "      <th>4.5-6.0</th>\n",
       "    </tr>\n",
       "  </thead>\n",
       "  <tbody>\n",
       "    <tr>\n",
       "      <th>25857</th>\n",
       "      <td>20-29</td>\n",
       "      <td>4.5-6.0</td>\n",
       "      <td>Meal_Time</td>\n",
       "      <td>Sunny</td>\n",
       "      <td>2.0</td>\n",
       "      <td>motorcycle</td>\n",
       "      <td>0.0</td>\n",
       "      <td>0.0</td>\n",
       "      <td>0.0</td>\n",
       "      <td>19</td>\n",
       "      <td>...</td>\n",
       "      <td>0.0</td>\n",
       "      <td>1.0</td>\n",
       "      <td>0.0</td>\n",
       "      <td>1.532275</td>\n",
       "      <td>0.0</td>\n",
       "      <td>1.0</td>\n",
       "      <td>0.0</td>\n",
       "      <td>0.0</td>\n",
       "      <td>0.0</td>\n",
       "      <td>1.0</td>\n",
       "    </tr>\n",
       "    <tr>\n",
       "      <th>2575</th>\n",
       "      <td>30-39</td>\n",
       "      <td>4.5-6.0</td>\n",
       "      <td>Meal_Time</td>\n",
       "      <td>Sunny</td>\n",
       "      <td>3.0</td>\n",
       "      <td>motorcycle</td>\n",
       "      <td>1.0</td>\n",
       "      <td>0.0</td>\n",
       "      <td>NaN</td>\n",
       "      <td>17</td>\n",
       "      <td>...</td>\n",
       "      <td>0.0</td>\n",
       "      <td>1.0</td>\n",
       "      <td>0.0</td>\n",
       "      <td>4.538408</td>\n",
       "      <td>0.0</td>\n",
       "      <td>1.0</td>\n",
       "      <td>0.0</td>\n",
       "      <td>0.0</td>\n",
       "      <td>0.0</td>\n",
       "      <td>1.0</td>\n",
       "    </tr>\n",
       "    <tr>\n",
       "      <th>37903</th>\n",
       "      <td>20-29</td>\n",
       "      <td>2.5-4.4</td>\n",
       "      <td>Meal_Time</td>\n",
       "      <td>Sunny</td>\n",
       "      <td>2.0</td>\n",
       "      <td>motorcycle</td>\n",
       "      <td>2.0</td>\n",
       "      <td>0.0</td>\n",
       "      <td>1.0</td>\n",
       "      <td>46</td>\n",
       "      <td>...</td>\n",
       "      <td>0.0</td>\n",
       "      <td>1.0</td>\n",
       "      <td>0.0</td>\n",
       "      <td>1.536752</td>\n",
       "      <td>0.0</td>\n",
       "      <td>1.0</td>\n",
       "      <td>0.0</td>\n",
       "      <td>0.0</td>\n",
       "      <td>1.0</td>\n",
       "      <td>0.0</td>\n",
       "    </tr>\n",
       "  </tbody>\n",
       "</table>\n",
       "<p>3 rows × 29 columns</p>\n",
       "</div>"
      ],
      "text/plain": [
       "      Delivery_person_Age Delivery_person_Ratings Time_Orderd  \\\n",
       "25857               20-29                 4.5-6.0   Meal_Time   \n",
       "2575                30-39                 4.5-6.0   Meal_Time   \n",
       "37903               20-29                 2.5-4.4   Meal_Time   \n",
       "\n",
       "      Weatherconditions  Road_traffic_density Type_of_vehicle  \\\n",
       "25857             Sunny                   2.0      motorcycle   \n",
       "2575              Sunny                   3.0      motorcycle   \n",
       "37903             Sunny                   2.0      motorcycle   \n",
       "\n",
       "       multiple_deliveries Festival City  Time_taken(min)  ...   50  \\\n",
       "25857                  0.0      0.0  0.0               19  ...  0.0   \n",
       "2575                   1.0      0.0  NaN               17  ...  0.0   \n",
       "37903                  2.0      0.0  1.0               46  ...  0.0   \n",
       "\n",
       "       Meal_Time  Not_Meal_Time  Distance  bicycle  motorcycle  scooter  1.0  \\\n",
       "25857        1.0            0.0  1.532275      0.0         1.0      0.0  0.0   \n",
       "2575         1.0            0.0  4.538408      0.0         1.0      0.0  0.0   \n",
       "37903        1.0            0.0  1.536752      0.0         1.0      0.0  0.0   \n",
       "\n",
       "       2.5-4.4  4.5-6.0  \n",
       "25857      0.0      1.0  \n",
       "2575       0.0      1.0  \n",
       "37903      1.0      0.0  \n",
       "\n",
       "[3 rows x 29 columns]"
      ]
     },
     "execution_count": 1480,
     "metadata": {},
     "output_type": "execute_result"
    }
   ],
   "source": [
    "train_data = pd.concat([train_data, ratings], axis=1)\n",
    "train_data.head(3)"
   ]
  },
  {
   "cell_type": "code",
   "execution_count": 1481,
   "metadata": {},
   "outputs": [],
   "source": [
    "ohe = OneHotEncoder()\n",
    "ratings_arr = ohe.fit_transform(test_data[['Delivery_person_Ratings']]).toarray()\n",
    "ratings_labels = ohe.categories_[0]\n",
    "ratings = pd.DataFrame(ratings_arr, columns=ratings_labels)\n",
    "ratings = ratings.loc[:, ratings.columns.notna()]\n",
    "ratings.index = test_indices\n",
    "\n",
    "test_data = pd.concat([test_data, ratings], axis=1)"
   ]
  },
  {
   "cell_type": "markdown",
   "metadata": {},
   "source": [
    "#### Multiple Deliveries"
   ]
  },
  {
   "cell_type": "code",
   "execution_count": 1482,
   "metadata": {},
   "outputs": [
    {
     "data": {
      "text/plain": [
       "multiple_deliveries\n",
       "1.0    22556\n",
       "0.0    11265\n",
       "2.0     1570\n",
       "3.0      289\n",
       "Name: count, dtype: int64"
      ]
     },
     "execution_count": 1482,
     "metadata": {},
     "output_type": "execute_result"
    }
   ],
   "source": [
    "train_data['multiple_deliveries'].value_counts()"
   ]
  },
  {
   "cell_type": "code",
   "execution_count": 1483,
   "metadata": {},
   "outputs": [
    {
     "data": {
      "image/png": "[encoded data removed]",
      "text/plain": [
       "<Figure size 640x480 with 1 Axes>"
      ]
     },
     "metadata": {},
     "output_type": "display_data"
    }
   ],
   "source": [
    "time_mult_deliv = train_data.groupby('multiple_deliveries')['Time_taken(min)'].mean()\n",
    "time_plot = time_mult_deliv.plot(x='multiple_deliveries', y='Time_taken(min)', kind='bar', label='Time to Deliver')\n",
    "time_plot.set_xlabel('Current Number of Deliveries')\n",
    "time_plot.set_ylabel('Time to Deliver')\n",
    "time_plot.set_title('Current Number of Deliveries vs Time to Deliver');"
   ]
  },
  {
   "cell_type": "markdown",
   "metadata": {},
   "source": [
    "We see that there is clearly a steady increase in the time it takes to deliver relative to the number of deliveries, which also makes sense since if a driver has to make multiple deliveries, they will take longer for the later deliveries. We can just keep multiple_deliveries as is."
   ]
  },
  {
   "cell_type": "markdown",
   "metadata": {},
   "source": [
    "Let's convert festival and city values to floats so that our model can work with them."
   ]
  },
  {
   "cell_type": "code",
   "execution_count": 1484,
   "metadata": {},
   "outputs": [],
   "source": [
    "train_data['Festival'] = train_data['Festival'].astype(float)\n",
    "train_data['City'] = train_data['City'].astype(float)\n",
    "\n",
    "test_data['Festival'] = test_data['Festival'].astype(float)\n",
    "test_data['City'] = test_data['City'].astype(float)"
   ]
  },
  {
   "cell_type": "markdown",
   "metadata": {},
   "source": [
    "#### Replace Missing Values\n",
    "\n",
    "Now let us check how to replace the NaN values for the different columns."
   ]
  },
  {
   "cell_type": "code",
   "execution_count": 1485,
   "metadata": {},
   "outputs": [
    {
     "data": {
      "text/plain": [
       "Delivery_person_Age        1490\n",
       "Delivery_person_Ratings    1536\n",
       "Time_Orderd                1388\n",
       "Weatherconditions           487\n",
       "Road_traffic_density        476\n",
       "multiple_deliveries         794\n",
       "Festival                    181\n",
       "City                        953\n",
       "dtype: int64"
      ]
     },
     "execution_count": 1485,
     "metadata": {},
     "output_type": "execute_result"
    }
   ],
   "source": [
    "nan_count = train_data.isna().sum()\n",
    "nan_count[nan_count > 0]"
   ]
  },
  {
   "cell_type": "code",
   "execution_count": 1486,
   "metadata": {},
   "outputs": [
    {
     "data": {
      "text/plain": [
       "9"
      ]
     },
     "execution_count": 1486,
     "metadata": {},
     "output_type": "execute_result"
    }
   ],
   "source": [
    "train_data[(train_data['Time_Orderd'].isna()) & (train_data['Delivery_person_Age'].isna()) & (train_data['Delivery_person_Ratings'].isna()) & (train_data['Road_traffic_density'].isna()) & (train_data['multiple_deliveries'].isna())].shape[0]"
   ]
  },
  {
   "cell_type": "markdown",
   "metadata": {},
   "source": [
    "Without the time ordered, or the age, rating, road traffic, and multiple deliveries, it's really tough to guess for these entries so i will remove these rows from the training data since they are outliers in the sense that they are lacking too much information."
   ]
  },
  {
   "cell_type": "code",
   "execution_count": 1487,
   "metadata": {},
   "outputs": [],
   "source": [
    "columns_check = ['Time_Orderd', 'Delivery_person_Age', 'Delivery_person_Ratings', 'Road_traffic_density', 'multiple_deliveries']\n",
    "train_data = train_data.dropna(subset=columns_check, how='all')\n",
    "test_data = test_data.dropna(subset=columns_check, how='all')"
   ]
  },
  {
   "cell_type": "code",
   "execution_count": 1488,
   "metadata": {},
   "outputs": [
    {
     "data": {
      "text/html": [
       "<div>\n",
       "<style scoped>\n",
       "    .dataframe tbody tr th:only-of-type {\n",
       "        vertical-align: middle;\n",
       "    }\n",
       "\n",
       "    .dataframe tbody tr th {\n",
       "        vertical-align: top;\n",
       "    }\n",
       "\n",
       "    .dataframe thead th {\n",
       "        text-align: right;\n",
       "    }\n",
       "</style>\n",
       "<table border=\"1\" class=\"dataframe\">\n",
       "  <thead>\n",
       "    <tr style=\"text-align: right;\">\n",
       "      <th></th>\n",
       "      <th>Road_traffic_density</th>\n",
       "      <th>multiple_deliveries</th>\n",
       "      <th>Festival</th>\n",
       "      <th>City</th>\n",
       "      <th>Time_taken(min)</th>\n",
       "      <th>Cloudy</th>\n",
       "      <th>Fog</th>\n",
       "      <th>Sandstorms</th>\n",
       "      <th>Stormy</th>\n",
       "      <th>Sunny</th>\n",
       "      <th>...</th>\n",
       "      <th>50</th>\n",
       "      <th>Meal_Time</th>\n",
       "      <th>Not_Meal_Time</th>\n",
       "      <th>Distance</th>\n",
       "      <th>bicycle</th>\n",
       "      <th>motorcycle</th>\n",
       "      <th>scooter</th>\n",
       "      <th>1.0</th>\n",
       "      <th>2.5-4.4</th>\n",
       "      <th>4.5-6.0</th>\n",
       "    </tr>\n",
       "  </thead>\n",
       "  <tbody>\n",
       "    <tr>\n",
       "      <th>Road_traffic_density</th>\n",
       "      <td>1.000000</td>\n",
       "      <td>0.157125</td>\n",
       "      <td>0.121690</td>\n",
       "      <td>0.085213</td>\n",
       "      <td>0.419270</td>\n",
       "      <td>0.003845</td>\n",
       "      <td>0.000788</td>\n",
       "      <td>-0.003171</td>\n",
       "      <td>-0.011175</td>\n",
       "      <td>0.004406</td>\n",
       "      <td>...</td>\n",
       "      <td>NaN</td>\n",
       "      <td>0.747065</td>\n",
       "      <td>-0.753520</td>\n",
       "      <td>-0.002859</td>\n",
       "      <td>NaN</td>\n",
       "      <td>-0.004260</td>\n",
       "      <td>0.004260</td>\n",
       "      <td>NaN</td>\n",
       "      <td>0.107830</td>\n",
       "      <td>-0.098039</td>\n",
       "    </tr>\n",
       "    <tr>\n",
       "      <th>multiple_deliveries</th>\n",
       "      <td>0.157125</td>\n",
       "      <td>1.000000</td>\n",
       "      <td>0.139731</td>\n",
       "      <td>0.088635</td>\n",
       "      <td>0.383759</td>\n",
       "      <td>0.045172</td>\n",
       "      <td>0.052281</td>\n",
       "      <td>-0.012445</td>\n",
       "      <td>-0.006968</td>\n",
       "      <td>-0.073888</td>\n",
       "      <td>...</td>\n",
       "      <td>-0.007470</td>\n",
       "      <td>0.135841</td>\n",
       "      <td>-0.140579</td>\n",
       "      <td>-0.001975</td>\n",
       "      <td>0.002505</td>\n",
       "      <td>0.070862</td>\n",
       "      <td>-0.071106</td>\n",
       "      <td>-0.003948</td>\n",
       "      <td>0.146335</td>\n",
       "      <td>-0.138953</td>\n",
       "    </tr>\n",
       "    <tr>\n",
       "      <th>Festival</th>\n",
       "      <td>0.121690</td>\n",
       "      <td>0.139731</td>\n",
       "      <td>1.000000</td>\n",
       "      <td>0.050999</td>\n",
       "      <td>0.291210</td>\n",
       "      <td>0.041805</td>\n",
       "      <td>0.045805</td>\n",
       "      <td>-0.024608</td>\n",
       "      <td>-0.020075</td>\n",
       "      <td>-0.029559</td>\n",
       "      <td>...</td>\n",
       "      <td>0.001356</td>\n",
       "      <td>0.084479</td>\n",
       "      <td>-0.086295</td>\n",
       "      <td>0.007366</td>\n",
       "      <td>-0.000845</td>\n",
       "      <td>0.057664</td>\n",
       "      <td>-0.057625</td>\n",
       "      <td>0.002775</td>\n",
       "      <td>0.071275</td>\n",
       "      <td>-0.066222</td>\n",
       "    </tr>\n",
       "    <tr>\n",
       "      <th>City</th>\n",
       "      <td>0.085213</td>\n",
       "      <td>0.088635</td>\n",
       "      <td>0.050999</td>\n",
       "      <td>1.000000</td>\n",
       "      <td>0.217589</td>\n",
       "      <td>0.024601</td>\n",
       "      <td>0.023553</td>\n",
       "      <td>-0.007122</td>\n",
       "      <td>-0.004197</td>\n",
       "      <td>-0.045296</td>\n",
       "      <td>...</td>\n",
       "      <td>0.003478</td>\n",
       "      <td>0.082565</td>\n",
       "      <td>-0.085782</td>\n",
       "      <td>-0.004694</td>\n",
       "      <td>0.001873</td>\n",
       "      <td>0.041900</td>\n",
       "      <td>-0.042068</td>\n",
       "      <td>-0.007457</td>\n",
       "      <td>0.080738</td>\n",
       "      <td>-0.077933</td>\n",
       "    </tr>\n",
       "    <tr>\n",
       "      <th>Time_taken(min)</th>\n",
       "      <td>0.419270</td>\n",
       "      <td>0.383759</td>\n",
       "      <td>0.291210</td>\n",
       "      <td>0.217589</td>\n",
       "      <td>1.000000</td>\n",
       "      <td>0.128639</td>\n",
       "      <td>0.123596</td>\n",
       "      <td>-0.017747</td>\n",
       "      <td>-0.023133</td>\n",
       "      <td>-0.208578</td>\n",
       "      <td>...</td>\n",
       "      <td>-0.008852</td>\n",
       "      <td>0.367098</td>\n",
       "      <td>-0.373656</td>\n",
       "      <td>-0.002128</td>\n",
       "      <td>-0.000738</td>\n",
       "      <td>0.164454</td>\n",
       "      <td>-0.164480</td>\n",
       "      <td>-0.003489</td>\n",
       "      <td>0.428013</td>\n",
       "      <td>-0.394639</td>\n",
       "    </tr>\n",
       "    <tr>\n",
       "      <th>Cloudy</th>\n",
       "      <td>0.003845</td>\n",
       "      <td>0.045172</td>\n",
       "      <td>0.041805</td>\n",
       "      <td>0.024601</td>\n",
       "      <td>0.128639</td>\n",
       "      <td>1.000000</td>\n",
       "      <td>-0.201022</td>\n",
       "      <td>-0.198698</td>\n",
       "      <td>-0.199506</td>\n",
       "      <td>-0.192285</td>\n",
       "      <td>...</td>\n",
       "      <td>-0.014607</td>\n",
       "      <td>0.007591</td>\n",
       "      <td>0.002672</td>\n",
       "      <td>-0.013271</td>\n",
       "      <td>-0.017971</td>\n",
       "      <td>-0.000569</td>\n",
       "      <td>0.002033</td>\n",
       "      <td>-0.012809</td>\n",
       "      <td>-0.007003</td>\n",
       "      <td>0.015325</td>\n",
       "    </tr>\n",
       "    <tr>\n",
       "      <th>Fog</th>\n",
       "      <td>0.000788</td>\n",
       "      <td>0.052281</td>\n",
       "      <td>0.045805</td>\n",
       "      <td>0.023553</td>\n",
       "      <td>0.123596</td>\n",
       "      <td>-0.201022</td>\n",
       "      <td>1.000000</td>\n",
       "      <td>-0.200445</td>\n",
       "      <td>-0.201261</td>\n",
       "      <td>-0.193976</td>\n",
       "      <td>...</td>\n",
       "      <td>-0.014735</td>\n",
       "      <td>0.005501</td>\n",
       "      <td>0.007677</td>\n",
       "      <td>-0.021454</td>\n",
       "      <td>-0.018129</td>\n",
       "      <td>0.002786</td>\n",
       "      <td>-0.001312</td>\n",
       "      <td>-0.012922</td>\n",
       "      <td>-0.015170</td>\n",
       "      <td>0.028970</td>\n",
       "    </tr>\n",
       "    <tr>\n",
       "      <th>Sandstorms</th>\n",
       "      <td>-0.003171</td>\n",
       "      <td>-0.012445</td>\n",
       "      <td>-0.024608</td>\n",
       "      <td>-0.007122</td>\n",
       "      <td>-0.017747</td>\n",
       "      <td>-0.198698</td>\n",
       "      <td>-0.200445</td>\n",
       "      <td>1.000000</td>\n",
       "      <td>-0.198934</td>\n",
       "      <td>-0.191733</td>\n",
       "      <td>...</td>\n",
       "      <td>-0.014565</td>\n",
       "      <td>-0.000179</td>\n",
       "      <td>0.008598</td>\n",
       "      <td>-0.016310</td>\n",
       "      <td>-0.017919</td>\n",
       "      <td>0.004771</td>\n",
       "      <td>-0.003315</td>\n",
       "      <td>-0.012772</td>\n",
       "      <td>0.051694</td>\n",
       "      <td>-0.039454</td>\n",
       "    </tr>\n",
       "    <tr>\n",
       "      <th>Stormy</th>\n",
       "      <td>-0.011175</td>\n",
       "      <td>-0.006968</td>\n",
       "      <td>-0.020075</td>\n",
       "      <td>-0.004197</td>\n",
       "      <td>-0.023133</td>\n",
       "      <td>-0.199506</td>\n",
       "      <td>-0.201261</td>\n",
       "      <td>-0.198934</td>\n",
       "      <td>1.000000</td>\n",
       "      <td>-0.192513</td>\n",
       "      <td>...</td>\n",
       "      <td>-0.014624</td>\n",
       "      <td>-0.005316</td>\n",
       "      <td>0.018158</td>\n",
       "      <td>-0.019259</td>\n",
       "      <td>-0.017992</td>\n",
       "      <td>0.003764</td>\n",
       "      <td>-0.002301</td>\n",
       "      <td>-0.012824</td>\n",
       "      <td>0.042411</td>\n",
       "      <td>-0.024194</td>\n",
       "    </tr>\n",
       "    <tr>\n",
       "      <th>Sunny</th>\n",
       "      <td>0.004406</td>\n",
       "      <td>-0.073888</td>\n",
       "      <td>-0.029559</td>\n",
       "      <td>-0.045296</td>\n",
       "      <td>-0.208578</td>\n",
       "      <td>-0.192285</td>\n",
       "      <td>-0.193976</td>\n",
       "      <td>-0.191733</td>\n",
       "      <td>-0.192513</td>\n",
       "      <td>1.000000</td>\n",
       "      <td>...</td>\n",
       "      <td>-0.014095</td>\n",
       "      <td>0.017687</td>\n",
       "      <td>-0.005524</td>\n",
       "      <td>-0.020678</td>\n",
       "      <td>-0.017341</td>\n",
       "      <td>0.004652</td>\n",
       "      <td>-0.003243</td>\n",
       "      <td>-0.012360</td>\n",
       "      <td>-0.095902</td>\n",
       "      <td>0.101770</td>\n",
       "    </tr>\n",
       "    <tr>\n",
       "      <th>Windy</th>\n",
       "      <td>0.005814</td>\n",
       "      <td>-0.005985</td>\n",
       "      <td>-0.017069</td>\n",
       "      <td>0.004518</td>\n",
       "      <td>-0.009027</td>\n",
       "      <td>-0.197552</td>\n",
       "      <td>-0.199289</td>\n",
       "      <td>-0.196984</td>\n",
       "      <td>-0.197786</td>\n",
       "      <td>-0.190627</td>\n",
       "      <td>...</td>\n",
       "      <td>-0.014481</td>\n",
       "      <td>0.017669</td>\n",
       "      <td>-0.004808</td>\n",
       "      <td>-0.020110</td>\n",
       "      <td>-0.017816</td>\n",
       "      <td>0.010115</td>\n",
       "      <td>-0.008669</td>\n",
       "      <td>-0.012699</td>\n",
       "      <td>0.038264</td>\n",
       "      <td>-0.020498</td>\n",
       "    </tr>\n",
       "    <tr>\n",
       "      <th>15</th>\n",
       "      <td>NaN</td>\n",
       "      <td>-0.003948</td>\n",
       "      <td>0.002775</td>\n",
       "      <td>-0.007457</td>\n",
       "      <td>-0.003489</td>\n",
       "      <td>-0.012809</td>\n",
       "      <td>-0.012922</td>\n",
       "      <td>-0.012772</td>\n",
       "      <td>-0.012824</td>\n",
       "      <td>-0.012360</td>\n",
       "      <td>...</td>\n",
       "      <td>-0.000939</td>\n",
       "      <td>-0.034594</td>\n",
       "      <td>-0.021980</td>\n",
       "      <td>0.104666</td>\n",
       "      <td>0.165432</td>\n",
       "      <td>-0.029672</td>\n",
       "      <td>0.016220</td>\n",
       "      <td>1.000000</td>\n",
       "      <td>-0.013207</td>\n",
       "      <td>-0.054428</td>\n",
       "    </tr>\n",
       "    <tr>\n",
       "      <th>20-29</th>\n",
       "      <td>0.000286</td>\n",
       "      <td>-0.129592</td>\n",
       "      <td>-0.071400</td>\n",
       "      <td>-0.086477</td>\n",
       "      <td>-0.337500</td>\n",
       "      <td>0.001839</td>\n",
       "      <td>0.013219</td>\n",
       "      <td>0.009055</td>\n",
       "      <td>0.001144</td>\n",
       "      <td>0.001350</td>\n",
       "      <td>...</td>\n",
       "      <td>-0.031170</td>\n",
       "      <td>0.048161</td>\n",
       "      <td>0.025601</td>\n",
       "      <td>-0.060904</td>\n",
       "      <td>-0.038349</td>\n",
       "      <td>0.007032</td>\n",
       "      <td>-0.003914</td>\n",
       "      <td>-0.027335</td>\n",
       "      <td>-0.162279</td>\n",
       "      <td>0.244798</td>\n",
       "    </tr>\n",
       "    <tr>\n",
       "      <th>30-39</th>\n",
       "      <td>0.001826</td>\n",
       "      <td>0.126547</td>\n",
       "      <td>0.070422</td>\n",
       "      <td>0.083405</td>\n",
       "      <td>0.336800</td>\n",
       "      <td>0.006647</td>\n",
       "      <td>-0.000557</td>\n",
       "      <td>-0.001765</td>\n",
       "      <td>0.012125</td>\n",
       "      <td>0.011126</td>\n",
       "      <td>...</td>\n",
       "      <td>-0.031548</td>\n",
       "      <td>0.041800</td>\n",
       "      <td>0.032980</td>\n",
       "      <td>-0.060225</td>\n",
       "      <td>-0.038813</td>\n",
       "      <td>0.011977</td>\n",
       "      <td>-0.008824</td>\n",
       "      <td>-0.027666</td>\n",
       "      <td>0.201349</td>\n",
       "      <td>-0.088502</td>\n",
       "    </tr>\n",
       "    <tr>\n",
       "      <th>50</th>\n",
       "      <td>NaN</td>\n",
       "      <td>-0.007470</td>\n",
       "      <td>0.001356</td>\n",
       "      <td>0.003478</td>\n",
       "      <td>-0.008852</td>\n",
       "      <td>-0.014607</td>\n",
       "      <td>-0.014735</td>\n",
       "      <td>-0.014565</td>\n",
       "      <td>-0.014624</td>\n",
       "      <td>-0.014095</td>\n",
       "      <td>...</td>\n",
       "      <td>1.000000</td>\n",
       "      <td>-0.039448</td>\n",
       "      <td>-0.025064</td>\n",
       "      <td>0.200256</td>\n",
       "      <td>0.123933</td>\n",
       "      <td>-0.033156</td>\n",
       "      <td>0.023084</td>\n",
       "      <td>-0.000939</td>\n",
       "      <td>-0.015060</td>\n",
       "      <td>0.017251</td>\n",
       "    </tr>\n",
       "    <tr>\n",
       "      <th>Meal_Time</th>\n",
       "      <td>0.747065</td>\n",
       "      <td>0.135841</td>\n",
       "      <td>0.084479</td>\n",
       "      <td>0.082565</td>\n",
       "      <td>0.367098</td>\n",
       "      <td>0.007591</td>\n",
       "      <td>0.005501</td>\n",
       "      <td>-0.000179</td>\n",
       "      <td>-0.005316</td>\n",
       "      <td>0.017687</td>\n",
       "      <td>...</td>\n",
       "      <td>-0.039448</td>\n",
       "      <td>1.000000</td>\n",
       "      <td>-0.923461</td>\n",
       "      <td>-0.075498</td>\n",
       "      <td>-0.048533</td>\n",
       "      <td>0.003249</td>\n",
       "      <td>0.000700</td>\n",
       "      <td>-0.034594</td>\n",
       "      <td>0.100806</td>\n",
       "      <td>0.013440</td>\n",
       "    </tr>\n",
       "    <tr>\n",
       "      <th>Not_Meal_Time</th>\n",
       "      <td>-0.753520</td>\n",
       "      <td>-0.140579</td>\n",
       "      <td>-0.086295</td>\n",
       "      <td>-0.085782</td>\n",
       "      <td>-0.373656</td>\n",
       "      <td>0.002672</td>\n",
       "      <td>0.007677</td>\n",
       "      <td>0.008598</td>\n",
       "      <td>0.018158</td>\n",
       "      <td>-0.005524</td>\n",
       "      <td>...</td>\n",
       "      <td>-0.025064</td>\n",
       "      <td>-0.923461</td>\n",
       "      <td>1.000000</td>\n",
       "      <td>-0.049264</td>\n",
       "      <td>-0.030836</td>\n",
       "      <td>0.015475</td>\n",
       "      <td>-0.012972</td>\n",
       "      <td>-0.021980</td>\n",
       "      <td>-0.066557</td>\n",
       "      <td>0.129538</td>\n",
       "    </tr>\n",
       "    <tr>\n",
       "      <th>Distance</th>\n",
       "      <td>-0.002859</td>\n",
       "      <td>-0.001975</td>\n",
       "      <td>0.007366</td>\n",
       "      <td>-0.004694</td>\n",
       "      <td>-0.002128</td>\n",
       "      <td>-0.013271</td>\n",
       "      <td>-0.021454</td>\n",
       "      <td>-0.016310</td>\n",
       "      <td>-0.019259</td>\n",
       "      <td>-0.020678</td>\n",
       "      <td>...</td>\n",
       "      <td>0.200256</td>\n",
       "      <td>-0.075498</td>\n",
       "      <td>-0.049264</td>\n",
       "      <td>1.000000</td>\n",
       "      <td>0.135196</td>\n",
       "      <td>-0.028731</td>\n",
       "      <td>0.017740</td>\n",
       "      <td>0.104666</td>\n",
       "      <td>-0.030121</td>\n",
       "      <td>-0.103943</td>\n",
       "    </tr>\n",
       "    <tr>\n",
       "      <th>bicycle</th>\n",
       "      <td>NaN</td>\n",
       "      <td>0.002505</td>\n",
       "      <td>-0.000845</td>\n",
       "      <td>0.001873</td>\n",
       "      <td>-0.000738</td>\n",
       "      <td>-0.017971</td>\n",
       "      <td>-0.018129</td>\n",
       "      <td>-0.017919</td>\n",
       "      <td>-0.017992</td>\n",
       "      <td>-0.017341</td>\n",
       "      <td>...</td>\n",
       "      <td>0.123933</td>\n",
       "      <td>-0.048533</td>\n",
       "      <td>-0.030836</td>\n",
       "      <td>0.135196</td>\n",
       "      <td>1.000000</td>\n",
       "      <td>-0.047061</td>\n",
       "      <td>-0.034322</td>\n",
       "      <td>0.165432</td>\n",
       "      <td>-0.018528</td>\n",
       "      <td>-0.066435</td>\n",
       "    </tr>\n",
       "    <tr>\n",
       "      <th>motorcycle</th>\n",
       "      <td>-0.004260</td>\n",
       "      <td>0.070862</td>\n",
       "      <td>0.057664</td>\n",
       "      <td>0.041900</td>\n",
       "      <td>0.164454</td>\n",
       "      <td>-0.000569</td>\n",
       "      <td>0.002786</td>\n",
       "      <td>0.004771</td>\n",
       "      <td>0.003764</td>\n",
       "      <td>0.004652</td>\n",
       "      <td>...</td>\n",
       "      <td>-0.033156</td>\n",
       "      <td>0.003249</td>\n",
       "      <td>0.015475</td>\n",
       "      <td>-0.028731</td>\n",
       "      <td>-0.047061</td>\n",
       "      <td>1.000000</td>\n",
       "      <td>-0.996688</td>\n",
       "      <td>-0.029672</td>\n",
       "      <td>0.076054</td>\n",
       "      <td>-0.049682</td>\n",
       "    </tr>\n",
       "    <tr>\n",
       "      <th>scooter</th>\n",
       "      <td>0.004260</td>\n",
       "      <td>-0.071106</td>\n",
       "      <td>-0.057625</td>\n",
       "      <td>-0.042068</td>\n",
       "      <td>-0.164480</td>\n",
       "      <td>0.002033</td>\n",
       "      <td>-0.001312</td>\n",
       "      <td>-0.003315</td>\n",
       "      <td>-0.002301</td>\n",
       "      <td>-0.003243</td>\n",
       "      <td>...</td>\n",
       "      <td>0.023084</td>\n",
       "      <td>0.000700</td>\n",
       "      <td>-0.012972</td>\n",
       "      <td>0.017740</td>\n",
       "      <td>-0.034322</td>\n",
       "      <td>-0.996688</td>\n",
       "      <td>1.000000</td>\n",
       "      <td>0.016220</td>\n",
       "      <td>-0.074585</td>\n",
       "      <td>0.055116</td>\n",
       "    </tr>\n",
       "    <tr>\n",
       "      <th>1.0</th>\n",
       "      <td>NaN</td>\n",
       "      <td>-0.003948</td>\n",
       "      <td>0.002775</td>\n",
       "      <td>-0.007457</td>\n",
       "      <td>-0.003489</td>\n",
       "      <td>-0.012809</td>\n",
       "      <td>-0.012922</td>\n",
       "      <td>-0.012772</td>\n",
       "      <td>-0.012824</td>\n",
       "      <td>-0.012360</td>\n",
       "      <td>...</td>\n",
       "      <td>-0.000939</td>\n",
       "      <td>-0.034594</td>\n",
       "      <td>-0.021980</td>\n",
       "      <td>0.104666</td>\n",
       "      <td>0.165432</td>\n",
       "      <td>-0.029672</td>\n",
       "      <td>0.016220</td>\n",
       "      <td>1.000000</td>\n",
       "      <td>-0.013207</td>\n",
       "      <td>-0.054428</td>\n",
       "    </tr>\n",
       "    <tr>\n",
       "      <th>2.5-4.4</th>\n",
       "      <td>0.107830</td>\n",
       "      <td>0.146335</td>\n",
       "      <td>0.071275</td>\n",
       "      <td>0.080738</td>\n",
       "      <td>0.428013</td>\n",
       "      <td>-0.007003</td>\n",
       "      <td>-0.015170</td>\n",
       "      <td>0.051694</td>\n",
       "      <td>0.042411</td>\n",
       "      <td>-0.095902</td>\n",
       "      <td>...</td>\n",
       "      <td>-0.015060</td>\n",
       "      <td>0.100806</td>\n",
       "      <td>-0.066557</td>\n",
       "      <td>-0.030121</td>\n",
       "      <td>-0.018528</td>\n",
       "      <td>0.076054</td>\n",
       "      <td>-0.074585</td>\n",
       "      <td>-0.013207</td>\n",
       "      <td>1.000000</td>\n",
       "      <td>-0.872982</td>\n",
       "    </tr>\n",
       "    <tr>\n",
       "      <th>4.5-6.0</th>\n",
       "      <td>-0.098039</td>\n",
       "      <td>-0.138953</td>\n",
       "      <td>-0.066222</td>\n",
       "      <td>-0.077933</td>\n",
       "      <td>-0.394639</td>\n",
       "      <td>0.015325</td>\n",
       "      <td>0.028970</td>\n",
       "      <td>-0.039454</td>\n",
       "      <td>-0.024194</td>\n",
       "      <td>0.101770</td>\n",
       "      <td>...</td>\n",
       "      <td>0.017251</td>\n",
       "      <td>0.013440</td>\n",
       "      <td>0.129538</td>\n",
       "      <td>-0.103943</td>\n",
       "      <td>-0.066435</td>\n",
       "      <td>-0.049682</td>\n",
       "      <td>0.055116</td>\n",
       "      <td>-0.054428</td>\n",
       "      <td>-0.872982</td>\n",
       "      <td>1.000000</td>\n",
       "    </tr>\n",
       "  </tbody>\n",
       "</table>\n",
       "<p>24 rows × 24 columns</p>\n",
       "</div>"
      ],
      "text/plain": [
       "                      Road_traffic_density  multiple_deliveries  Festival  \\\n",
       "Road_traffic_density              1.000000             0.157125  0.121690   \n",
       "multiple_deliveries               0.157125             1.000000  0.139731   \n",
       "Festival                          0.121690             0.139731  1.000000   \n",
       "City                              0.085213             0.088635  0.050999   \n",
       "Time_taken(min)                   0.419270             0.383759  0.291210   \n",
       "Cloudy                            0.003845             0.045172  0.041805   \n",
       "Fog                               0.000788             0.052281  0.045805   \n",
       "Sandstorms                       -0.003171            -0.012445 -0.024608   \n",
       "Stormy                           -0.011175            -0.006968 -0.020075   \n",
       "Sunny                             0.004406            -0.073888 -0.029559   \n",
       "Windy                             0.005814            -0.005985 -0.017069   \n",
       "15                                     NaN            -0.003948  0.002775   \n",
       "20-29                             0.000286            -0.129592 -0.071400   \n",
       "30-39                             0.001826             0.126547  0.070422   \n",
       "50                                     NaN            -0.007470  0.001356   \n",
       "Meal_Time                         0.747065             0.135841  0.084479   \n",
       "Not_Meal_Time                    -0.753520            -0.140579 -0.086295   \n",
       "Distance                         -0.002859            -0.001975  0.007366   \n",
       "bicycle                                NaN             0.002505 -0.000845   \n",
       "motorcycle                       -0.004260             0.070862  0.057664   \n",
       "scooter                           0.004260            -0.071106 -0.057625   \n",
       "1.0                                    NaN            -0.003948  0.002775   \n",
       "2.5-4.4                           0.107830             0.146335  0.071275   \n",
       "4.5-6.0                          -0.098039            -0.138953 -0.066222   \n",
       "\n",
       "                          City  Time_taken(min)    Cloudy       Fog  \\\n",
       "Road_traffic_density  0.085213         0.419270  0.003845  0.000788   \n",
       "multiple_deliveries   0.088635         0.383759  0.045172  0.052281   \n",
       "Festival              0.050999         0.291210  0.041805  0.045805   \n",
       "City                  1.000000         0.217589  0.024601  0.023553   \n",
       "Time_taken(min)       0.217589         1.000000  0.128639  0.123596   \n",
       "Cloudy                0.024601         0.128639  1.000000 -0.201022   \n",
       "Fog                   0.023553         0.123596 -0.201022  1.000000   \n",
       "Sandstorms           -0.007122        -0.017747 -0.198698 -0.200445   \n",
       "Stormy               -0.004197        -0.023133 -0.199506 -0.201261   \n",
       "Sunny                -0.045296        -0.208578 -0.192285 -0.193976   \n",
       "Windy                 0.004518        -0.009027 -0.197552 -0.199289   \n",
       "15                   -0.007457        -0.003489 -0.012809 -0.012922   \n",
       "20-29                -0.086477        -0.337500  0.001839  0.013219   \n",
       "30-39                 0.083405         0.336800  0.006647 -0.000557   \n",
       "50                    0.003478        -0.008852 -0.014607 -0.014735   \n",
       "Meal_Time             0.082565         0.367098  0.007591  0.005501   \n",
       "Not_Meal_Time        -0.085782        -0.373656  0.002672  0.007677   \n",
       "Distance             -0.004694        -0.002128 -0.013271 -0.021454   \n",
       "bicycle               0.001873        -0.000738 -0.017971 -0.018129   \n",
       "motorcycle            0.041900         0.164454 -0.000569  0.002786   \n",
       "scooter              -0.042068        -0.164480  0.002033 -0.001312   \n",
       "1.0                  -0.007457        -0.003489 -0.012809 -0.012922   \n",
       "2.5-4.4               0.080738         0.428013 -0.007003 -0.015170   \n",
       "4.5-6.0              -0.077933        -0.394639  0.015325  0.028970   \n",
       "\n",
       "                      Sandstorms    Stormy     Sunny  ...        50  \\\n",
       "Road_traffic_density   -0.003171 -0.011175  0.004406  ...       NaN   \n",
       "multiple_deliveries    -0.012445 -0.006968 -0.073888  ... -0.007470   \n",
       "Festival               -0.024608 -0.020075 -0.029559  ...  0.001356   \n",
       "City                   -0.007122 -0.004197 -0.045296  ...  0.003478   \n",
       "Time_taken(min)        -0.017747 -0.023133 -0.208578  ... -0.008852   \n",
       "Cloudy                 -0.198698 -0.199506 -0.192285  ... -0.014607   \n",
       "Fog                    -0.200445 -0.201261 -0.193976  ... -0.014735   \n",
       "Sandstorms              1.000000 -0.198934 -0.191733  ... -0.014565   \n",
       "Stormy                 -0.198934  1.000000 -0.192513  ... -0.014624   \n",
       "Sunny                  -0.191733 -0.192513  1.000000  ... -0.014095   \n",
       "Windy                  -0.196984 -0.197786 -0.190627  ... -0.014481   \n",
       "15                     -0.012772 -0.012824 -0.012360  ... -0.000939   \n",
       "20-29                   0.009055  0.001144  0.001350  ... -0.031170   \n",
       "30-39                  -0.001765  0.012125  0.011126  ... -0.031548   \n",
       "50                     -0.014565 -0.014624 -0.014095  ...  1.000000   \n",
       "Meal_Time              -0.000179 -0.005316  0.017687  ... -0.039448   \n",
       "Not_Meal_Time           0.008598  0.018158 -0.005524  ... -0.025064   \n",
       "Distance               -0.016310 -0.019259 -0.020678  ...  0.200256   \n",
       "bicycle                -0.017919 -0.017992 -0.017341  ...  0.123933   \n",
       "motorcycle              0.004771  0.003764  0.004652  ... -0.033156   \n",
       "scooter                -0.003315 -0.002301 -0.003243  ...  0.023084   \n",
       "1.0                    -0.012772 -0.012824 -0.012360  ... -0.000939   \n",
       "2.5-4.4                 0.051694  0.042411 -0.095902  ... -0.015060   \n",
       "4.5-6.0                -0.039454 -0.024194  0.101770  ...  0.017251   \n",
       "\n",
       "                      Meal_Time  Not_Meal_Time  Distance   bicycle  \\\n",
       "Road_traffic_density   0.747065      -0.753520 -0.002859       NaN   \n",
       "multiple_deliveries    0.135841      -0.140579 -0.001975  0.002505   \n",
       "Festival               0.084479      -0.086295  0.007366 -0.000845   \n",
       "City                   0.082565      -0.085782 -0.004694  0.001873   \n",
       "Time_taken(min)        0.367098      -0.373656 -0.002128 -0.000738   \n",
       "Cloudy                 0.007591       0.002672 -0.013271 -0.017971   \n",
       "Fog                    0.005501       0.007677 -0.021454 -0.018129   \n",
       "Sandstorms            -0.000179       0.008598 -0.016310 -0.017919   \n",
       "Stormy                -0.005316       0.018158 -0.019259 -0.017992   \n",
       "Sunny                  0.017687      -0.005524 -0.020678 -0.017341   \n",
       "Windy                  0.017669      -0.004808 -0.020110 -0.017816   \n",
       "15                    -0.034594      -0.021980  0.104666  0.165432   \n",
       "20-29                  0.048161       0.025601 -0.060904 -0.038349   \n",
       "30-39                  0.041800       0.032980 -0.060225 -0.038813   \n",
       "50                    -0.039448      -0.025064  0.200256  0.123933   \n",
       "Meal_Time              1.000000      -0.923461 -0.075498 -0.048533   \n",
       "Not_Meal_Time         -0.923461       1.000000 -0.049264 -0.030836   \n",
       "Distance              -0.075498      -0.049264  1.000000  0.135196   \n",
       "bicycle               -0.048533      -0.030836  0.135196  1.000000   \n",
       "motorcycle             0.003249       0.015475 -0.028731 -0.047061   \n",
       "scooter                0.000700      -0.012972  0.017740 -0.034322   \n",
       "1.0                   -0.034594      -0.021980  0.104666  0.165432   \n",
       "2.5-4.4                0.100806      -0.066557 -0.030121 -0.018528   \n",
       "4.5-6.0                0.013440       0.129538 -0.103943 -0.066435   \n",
       "\n",
       "                      motorcycle   scooter       1.0   2.5-4.4   4.5-6.0  \n",
       "Road_traffic_density   -0.004260  0.004260       NaN  0.107830 -0.098039  \n",
       "multiple_deliveries     0.070862 -0.071106 -0.003948  0.146335 -0.138953  \n",
       "Festival                0.057664 -0.057625  0.002775  0.071275 -0.066222  \n",
       "City                    0.041900 -0.042068 -0.007457  0.080738 -0.077933  \n",
       "Time_taken(min)         0.164454 -0.164480 -0.003489  0.428013 -0.394639  \n",
       "Cloudy                 -0.000569  0.002033 -0.012809 -0.007003  0.015325  \n",
       "Fog                     0.002786 -0.001312 -0.012922 -0.015170  0.028970  \n",
       "Sandstorms              0.004771 -0.003315 -0.012772  0.051694 -0.039454  \n",
       "Stormy                  0.003764 -0.002301 -0.012824  0.042411 -0.024194  \n",
       "Sunny                   0.004652 -0.003243 -0.012360 -0.095902  0.101770  \n",
       "Windy                   0.010115 -0.008669 -0.012699  0.038264 -0.020498  \n",
       "15                     -0.029672  0.016220  1.000000 -0.013207 -0.054428  \n",
       "20-29                   0.007032 -0.003914 -0.027335 -0.162279  0.244798  \n",
       "30-39                   0.011977 -0.008824 -0.027666  0.201349 -0.088502  \n",
       "50                     -0.033156  0.023084 -0.000939 -0.015060  0.017251  \n",
       "Meal_Time               0.003249  0.000700 -0.034594  0.100806  0.013440  \n",
       "Not_Meal_Time           0.015475 -0.012972 -0.021980 -0.066557  0.129538  \n",
       "Distance               -0.028731  0.017740  0.104666 -0.030121 -0.103943  \n",
       "bicycle                -0.047061 -0.034322  0.165432 -0.018528 -0.066435  \n",
       "motorcycle              1.000000 -0.996688 -0.029672  0.076054 -0.049682  \n",
       "scooter                -0.996688  1.000000  0.016220 -0.074585  0.055116  \n",
       "1.0                    -0.029672  0.016220  1.000000 -0.013207 -0.054428  \n",
       "2.5-4.4                 0.076054 -0.074585 -0.013207  1.000000 -0.872982  \n",
       "4.5-6.0                -0.049682  0.055116 -0.054428 -0.872982  1.000000  \n",
       "\n",
       "[24 rows x 24 columns]"
      ]
     },
     "execution_count": 1488,
     "metadata": {},
     "output_type": "execute_result"
    }
   ],
   "source": [
    "train_data.corr(numeric_only=True)"
   ]
  },
  {
   "cell_type": "markdown",
   "metadata": {},
   "source": [
    "The first thing I've noticed is that road traffic density seems to be heavily related to meal times, which makes sense since there would be more cars on the road during break / meal times."
   ]
  },
  {
   "cell_type": "code",
   "execution_count": 1489,
   "metadata": {},
   "outputs": [
    {
     "data": {
      "text/plain": [
       "467"
      ]
     },
     "execution_count": 1489,
     "metadata": {},
     "output_type": "execute_result"
    }
   ],
   "source": [
    "train_data[(train_data['Road_traffic_density'].isna()) & (train_data['Time_Orderd'].isna())].shape[0]"
   ]
  },
  {
   "cell_type": "code",
   "execution_count": 1490,
   "metadata": {},
   "outputs": [
    {
     "data": {
      "text/plain": [
       "467"
      ]
     },
     "execution_count": 1490,
     "metadata": {},
     "output_type": "execute_result"
    }
   ],
   "source": [
    "train_data[(train_data['Road_traffic_density'].isna())].shape[0]"
   ]
  },
  {
   "cell_type": "markdown",
   "metadata": {},
   "source": [
    "We can also see here that every single nan value in traffic density also has a nan value in time ordered / meal time."
   ]
  },
  {
   "cell_type": "code",
   "execution_count": 1491,
   "metadata": {},
   "outputs": [
    {
     "data": {
      "text/plain": [
       "Road_traffic_density\n",
       "0.0    0.012898\n",
       "1.0    0.839267\n",
       "2.0    0.954904\n",
       "3.0    0.947563\n",
       "Name: Meal_Time, dtype: float64"
      ]
     },
     "execution_count": 1491,
     "metadata": {},
     "output_type": "execute_result"
    }
   ],
   "source": [
    "train_data.groupby('Road_traffic_density')['Meal_Time'].mean()"
   ]
  },
  {
   "cell_type": "markdown",
   "metadata": {},
   "source": [
    "We see here that as long as there is even 1 amount of traffic density, then there's a very likely chance that it is a meal time. So let's replace the meal times with 1 if the traffic density is 1 to 3 and otherwise if density is 0, then replace the not meal time with 1."
   ]
  },
  {
   "cell_type": "code",
   "execution_count": 1492,
   "metadata": {},
   "outputs": [],
   "source": [
    "# dictionary to map values\n",
    "traffic_dict = {0:0, 1:1, 2:1, 3:1}\n",
    "oppo_traf_dict = {0:1, 1:0, 2:0, 3:0}\n",
    "\n",
    "# get the rows that have time ordered missing\n",
    "nan_meal_rows = train_data[train_data['Time_Orderd'].isna()]\n",
    "train_data.loc[nan_meal_rows.index, 'Meal_Time'] = train_data.loc[nan_meal_rows.index, 'Road_traffic_density'].map(traffic_dict).fillna(train_data['Meal_Time'])\n",
    "train_data.loc[nan_meal_rows.index, 'Not_Meal_Time'] = train_data.loc[nan_meal_rows.index, 'Road_traffic_density'].map(oppo_traf_dict).fillna(train_data['Not_Meal_Time'])\n",
    "\n",
    "nan_meal_rows = test_data[test_data['Time_Orderd'].isna()]\n",
    "test_data.loc[nan_meal_rows.index, 'Meal_Time'] = test_data.loc[nan_meal_rows.index, 'Road_traffic_density'].map(traffic_dict).fillna(test_data['Meal_Time'])\n",
    "test_data.loc[nan_meal_rows.index, 'Not_Meal_Time'] = test_data.loc[nan_meal_rows.index, 'Road_traffic_density'].map(oppo_traf_dict).fillna(test_data['Not_Meal_Time'])"
   ]
  },
  {
   "cell_type": "markdown",
   "metadata": {},
   "source": [
    "The only other slight correlation is the younger drivers getting rated higher compared to the older drivers which also makes sense since the younger drivers probably understand the delivery apps more and probably move around a little faster."
   ]
  },
  {
   "cell_type": "code",
   "execution_count": 1493,
   "metadata": {},
   "outputs": [
    {
     "data": {
      "text/plain": [
       "1481"
      ]
     },
     "execution_count": 1493,
     "metadata": {},
     "output_type": "execute_result"
    }
   ],
   "source": [
    "train_data[(train_data['Delivery_person_Age'].isna())].shape[0]"
   ]
  },
  {
   "cell_type": "code",
   "execution_count": 1494,
   "metadata": {},
   "outputs": [
    {
     "data": {
      "text/plain": [
       "1527"
      ]
     },
     "execution_count": 1494,
     "metadata": {},
     "output_type": "execute_result"
    }
   ],
   "source": [
    "train_data[(train_data['Delivery_person_Ratings'].isna())].shape[0]"
   ]
  },
  {
   "cell_type": "code",
   "execution_count": 1495,
   "metadata": {},
   "outputs": [
    {
     "data": {
      "text/plain": [
       "1481"
      ]
     },
     "execution_count": 1495,
     "metadata": {},
     "output_type": "execute_result"
    }
   ],
   "source": [
    "train_data[(train_data['Delivery_person_Age'].isna()) & (train_data['Delivery_person_Ratings'].isna())].shape[0]\n"
   ]
  },
  {
   "cell_type": "markdown",
   "metadata": {},
   "source": [
    "It seems that every missing age, also has a missing rating. So let's just fix the 54 missing ratings that have ages present."
   ]
  },
  {
   "cell_type": "code",
   "execution_count": 1496,
   "metadata": {},
   "outputs": [],
   "source": [
    "nan_rating_rows = train_data[train_data['Delivery_person_Ratings'].isna()]\n",
    "\n",
    "young_dict = {'20-29':1}\n",
    "old_dict = {'30-39':1}\n",
    "\n",
    "train_data.loc[nan_rating_rows.index, '2.5-4.4'] = train_data.loc[nan_rating_rows.index, 'Delivery_person_Age'].map(old_dict).fillna(train_data['2.5-4.4'])\n",
    "train_data.loc[nan_rating_rows.index, '4.5-6.0'] = train_data.loc[nan_rating_rows.index, 'Delivery_person_Age'].map(young_dict).fillna(train_data['4.5-6.0'])\n",
    "\n",
    "\n",
    "nan_rating_rows = test_data[test_data['Delivery_person_Ratings'].isna()]\n",
    "test_data.loc[nan_rating_rows.index, '2.5-4.4'] = test_data.loc[nan_rating_rows.index, 'Delivery_person_Age'].map(old_dict).fillna(test_data['2.5-4.4'])\n",
    "test_data.loc[nan_rating_rows.index, '4.5-6.0'] = test_data.loc[nan_rating_rows.index, 'Delivery_person_Age'].map(young_dict).fillna(test_data['4.5-6.0'])"
   ]
  },
  {
   "cell_type": "code",
   "execution_count": 1497,
   "metadata": {},
   "outputs": [
    {
     "data": {
      "text/plain": [
       "Festival\n",
       "0.0    35563\n",
       "1.0      721\n",
       "Name: count, dtype: int64"
      ]
     },
     "execution_count": 1497,
     "metadata": {},
     "output_type": "execute_result"
    }
   ],
   "source": [
    "train_data['Festival'].value_counts()"
   ]
  },
  {
   "cell_type": "markdown",
   "metadata": {},
   "source": [
    "Festival is very likely chance no festival so let's replace nan values in festival with 0."
   ]
  },
  {
   "cell_type": "code",
   "execution_count": 1498,
   "metadata": {},
   "outputs": [],
   "source": [
    "train_data['Festival'] = train_data['Festival'].fillna(0)\n",
    "test_data['Festival'] = test_data['Festival'].fillna(0)"
   ]
  },
  {
   "cell_type": "code",
   "execution_count": 1499,
   "metadata": {},
   "outputs": [
    {
     "data": {
      "text/plain": [
       "Festival\n",
       "0.0    35744\n",
       "1.0      721\n",
       "Name: count, dtype: int64"
      ]
     },
     "execution_count": 1499,
     "metadata": {},
     "output_type": "execute_result"
    }
   ],
   "source": [
    "train_data['Festival'].value_counts()"
   ]
  },
  {
   "cell_type": "markdown",
   "metadata": {},
   "source": [
    "For the remaning age / rating missing values, we can just use other features and leave those missing. Weather conditions can also just stay missing, since we've one hot encoded these features already. Same with time ordered and road traffic density, since taking the mean of these wouldn't really make sense."
   ]
  },
  {
   "cell_type": "code",
   "execution_count": 1500,
   "metadata": {},
   "outputs": [],
   "source": [
    "train_data.drop(['Delivery_person_Age', 'Delivery_person_Ratings', 'Weatherconditions', 'Time_Orderd', 'Road_traffic_density'], axis=1, inplace=True)\n",
    "test_data.drop(['Delivery_person_Age', 'Delivery_person_Ratings', 'Weatherconditions', 'Time_Orderd', 'Road_traffic_density'], axis=1, inplace=True)"
   ]
  },
  {
   "cell_type": "code",
   "execution_count": 1501,
   "metadata": {},
   "outputs": [
    {
     "data": {
      "text/plain": [
       "0.74"
      ]
     },
     "execution_count": 1501,
     "metadata": {},
     "output_type": "execute_result"
    }
   ],
   "source": [
    "mult_delv_mean = round(train_data['multiple_deliveries'].mean(), 2)\n",
    "mult_delv_mean"
   ]
  },
  {
   "cell_type": "markdown",
   "metadata": {},
   "source": [
    "Multiple deliveries makes sense to take the mean so we'll replace nan values with 0.74."
   ]
  },
  {
   "cell_type": "code",
   "execution_count": 1502,
   "metadata": {},
   "outputs": [
    {
     "data": {
      "text/plain": [
       "multiple_deliveries\n",
       "1.00    22556\n",
       "0.00    11265\n",
       "2.00     1570\n",
       "0.74      785\n",
       "3.00      289\n",
       "Name: count, dtype: int64"
      ]
     },
     "execution_count": 1502,
     "metadata": {},
     "output_type": "execute_result"
    }
   ],
   "source": [
    "train_data['multiple_deliveries'] = train_data['multiple_deliveries'].fillna(mult_delv_mean)\n",
    "train_data['multiple_deliveries'].value_counts()"
   ]
  },
  {
   "cell_type": "code",
   "execution_count": 1503,
   "metadata": {},
   "outputs": [],
   "source": [
    "mult_delv_mean_test = round(test_data['multiple_deliveries'].mean(), 2)\n",
    "test_data['multiple_deliveries'] = test_data['multiple_deliveries'].fillna(mult_delv_mean_test)"
   ]
  },
  {
   "cell_type": "markdown",
   "metadata": {},
   "source": [
    "Let's also use mean for city (mean of how populated a place is basically)."
   ]
  },
  {
   "cell_type": "code",
   "execution_count": 1504,
   "metadata": {},
   "outputs": [
    {
     "data": {
      "text/plain": [
       "0.78"
      ]
     },
     "execution_count": 1504,
     "metadata": {},
     "output_type": "execute_result"
    }
   ],
   "source": [
    "city_mean = round(train_data['City'].mean(), 2)\n",
    "city_mean"
   ]
  },
  {
   "cell_type": "code",
   "execution_count": 1505,
   "metadata": {},
   "outputs": [
    {
     "data": {
      "text/plain": [
       "City\n",
       "1.00    27291\n",
       "0.00     8091\n",
       "0.78      952\n",
       "2.00      131\n",
       "Name: count, dtype: int64"
      ]
     },
     "execution_count": 1505,
     "metadata": {},
     "output_type": "execute_result"
    }
   ],
   "source": [
    "train_data['City'] = train_data['City'].fillna(city_mean)\n",
    "train_data['City'].value_counts()"
   ]
  },
  {
   "cell_type": "code",
   "execution_count": 1506,
   "metadata": {},
   "outputs": [
    {
     "data": {
      "text/plain": [
       "0.7733934611048479"
      ]
     },
     "execution_count": 1506,
     "metadata": {},
     "output_type": "execute_result"
    }
   ],
   "source": [
    "test_data['City'].mean()"
   ]
  },
  {
   "cell_type": "code",
   "execution_count": 1507,
   "metadata": {},
   "outputs": [],
   "source": [
    "city_mean_test = round(test_data['City'].mean(), 2)\n",
    "test_data['City'] = test_data['City'].fillna(city_mean_test)"
   ]
  },
  {
   "cell_type": "code",
   "execution_count": 1508,
   "metadata": {},
   "outputs": [
    {
     "data": {
      "text/plain": [
       "Type_of_vehicle        0\n",
       "multiple_deliveries    0\n",
       "Festival               0\n",
       "City                   0\n",
       "Time_taken(min)        0\n",
       "Cloudy                 0\n",
       "Fog                    0\n",
       "Sandstorms             0\n",
       "Stormy                 0\n",
       "Sunny                  0\n",
       "Windy                  0\n",
       "15                     0\n",
       "20-29                  0\n",
       "30-39                  0\n",
       "50                     0\n",
       "Meal_Time              0\n",
       "Not_Meal_Time          0\n",
       "Distance               0\n",
       "bicycle                0\n",
       "motorcycle             0\n",
       "scooter                0\n",
       "1.0                    0\n",
       "2.5-4.4                0\n",
       "4.5-6.0                0\n",
       "dtype: int64"
      ]
     },
     "execution_count": 1508,
     "metadata": {},
     "output_type": "execute_result"
    }
   ],
   "source": [
    "train_data.isna().sum()"
   ]
  },
  {
   "cell_type": "code",
   "execution_count": 1509,
   "metadata": {},
   "outputs": [
    {
     "data": {
      "text/plain": [
       "Type_of_vehicle        0\n",
       "multiple_deliveries    0\n",
       "Festival               0\n",
       "City                   0\n",
       "Time_taken(min)        0\n",
       "Cloudy                 0\n",
       "Fog                    0\n",
       "Sandstorms             0\n",
       "Stormy                 0\n",
       "Sunny                  0\n",
       "Windy                  0\n",
       "15                     0\n",
       "20-29                  0\n",
       "30-39                  0\n",
       "50                     0\n",
       "Meal_Time              0\n",
       "Not_Meal_Time          0\n",
       "Distance               0\n",
       "bicycle                0\n",
       "motorcycle             0\n",
       "scooter                0\n",
       "1.0                    0\n",
       "2.5-4.4                0\n",
       "4.5-6.0                0\n",
       "dtype: int64"
      ]
     },
     "execution_count": 1509,
     "metadata": {},
     "output_type": "execute_result"
    }
   ],
   "source": [
    "test_data.isna().sum()"
   ]
  },
  {
   "cell_type": "code",
   "execution_count": 1510,
   "metadata": {},
   "outputs": [
    {
     "data": {
      "text/html": [
       "<div>\n",
       "<style scoped>\n",
       "    .dataframe tbody tr th:only-of-type {\n",
       "        vertical-align: middle;\n",
       "    }\n",
       "\n",
       "    .dataframe tbody tr th {\n",
       "        vertical-align: top;\n",
       "    }\n",
       "\n",
       "    .dataframe thead th {\n",
       "        text-align: right;\n",
       "    }\n",
       "</style>\n",
       "<table border=\"1\" class=\"dataframe\">\n",
       "  <thead>\n",
       "    <tr style=\"text-align: right;\">\n",
       "      <th></th>\n",
       "      <th>Type_of_vehicle</th>\n",
       "      <th>multiple_deliveries</th>\n",
       "      <th>Festival</th>\n",
       "      <th>City</th>\n",
       "      <th>Time_taken(min)</th>\n",
       "      <th>Cloudy</th>\n",
       "      <th>Fog</th>\n",
       "      <th>Sandstorms</th>\n",
       "      <th>Stormy</th>\n",
       "      <th>Sunny</th>\n",
       "      <th>...</th>\n",
       "      <th>50</th>\n",
       "      <th>Meal_Time</th>\n",
       "      <th>Not_Meal_Time</th>\n",
       "      <th>Distance</th>\n",
       "      <th>bicycle</th>\n",
       "      <th>motorcycle</th>\n",
       "      <th>scooter</th>\n",
       "      <th>1.0</th>\n",
       "      <th>2.5-4.4</th>\n",
       "      <th>4.5-6.0</th>\n",
       "    </tr>\n",
       "  </thead>\n",
       "  <tbody>\n",
       "    <tr>\n",
       "      <th>22766</th>\n",
       "      <td>scooter</td>\n",
       "      <td>1.0</td>\n",
       "      <td>0.0</td>\n",
       "      <td>1.00</td>\n",
       "      <td>23</td>\n",
       "      <td>1.0</td>\n",
       "      <td>0.0</td>\n",
       "      <td>0.0</td>\n",
       "      <td>0.0</td>\n",
       "      <td>0.0</td>\n",
       "      <td>...</td>\n",
       "      <td>0.0</td>\n",
       "      <td>1.0</td>\n",
       "      <td>0.0</td>\n",
       "      <td>6.050103</td>\n",
       "      <td>0.0</td>\n",
       "      <td>0.0</td>\n",
       "      <td>1.0</td>\n",
       "      <td>0.0</td>\n",
       "      <td>0.0</td>\n",
       "      <td>1.0</td>\n",
       "    </tr>\n",
       "    <tr>\n",
       "      <th>26061</th>\n",
       "      <td>motorcycle</td>\n",
       "      <td>0.0</td>\n",
       "      <td>0.0</td>\n",
       "      <td>1.00</td>\n",
       "      <td>25</td>\n",
       "      <td>0.0</td>\n",
       "      <td>0.0</td>\n",
       "      <td>0.0</td>\n",
       "      <td>0.0</td>\n",
       "      <td>1.0</td>\n",
       "      <td>...</td>\n",
       "      <td>0.0</td>\n",
       "      <td>0.0</td>\n",
       "      <td>1.0</td>\n",
       "      <td>11.007735</td>\n",
       "      <td>0.0</td>\n",
       "      <td>1.0</td>\n",
       "      <td>0.0</td>\n",
       "      <td>0.0</td>\n",
       "      <td>0.0</td>\n",
       "      <td>1.0</td>\n",
       "    </tr>\n",
       "    <tr>\n",
       "      <th>32517</th>\n",
       "      <td>scooter</td>\n",
       "      <td>1.0</td>\n",
       "      <td>0.0</td>\n",
       "      <td>1.00</td>\n",
       "      <td>32</td>\n",
       "      <td>0.0</td>\n",
       "      <td>0.0</td>\n",
       "      <td>0.0</td>\n",
       "      <td>0.0</td>\n",
       "      <td>0.0</td>\n",
       "      <td>...</td>\n",
       "      <td>0.0</td>\n",
       "      <td>1.0</td>\n",
       "      <td>0.0</td>\n",
       "      <td>10.867909</td>\n",
       "      <td>0.0</td>\n",
       "      <td>0.0</td>\n",
       "      <td>1.0</td>\n",
       "      <td>0.0</td>\n",
       "      <td>1.0</td>\n",
       "      <td>0.0</td>\n",
       "    </tr>\n",
       "    <tr>\n",
       "      <th>6101</th>\n",
       "      <td>motorcycle</td>\n",
       "      <td>1.0</td>\n",
       "      <td>0.0</td>\n",
       "      <td>0.00</td>\n",
       "      <td>36</td>\n",
       "      <td>0.0</td>\n",
       "      <td>0.0</td>\n",
       "      <td>0.0</td>\n",
       "      <td>0.0</td>\n",
       "      <td>1.0</td>\n",
       "      <td>...</td>\n",
       "      <td>0.0</td>\n",
       "      <td>1.0</td>\n",
       "      <td>0.0</td>\n",
       "      <td>13.620607</td>\n",
       "      <td>0.0</td>\n",
       "      <td>1.0</td>\n",
       "      <td>0.0</td>\n",
       "      <td>0.0</td>\n",
       "      <td>1.0</td>\n",
       "      <td>0.0</td>\n",
       "    </tr>\n",
       "    <tr>\n",
       "      <th>25324</th>\n",
       "      <td>scooter</td>\n",
       "      <td>0.0</td>\n",
       "      <td>0.0</td>\n",
       "      <td>1.00</td>\n",
       "      <td>17</td>\n",
       "      <td>0.0</td>\n",
       "      <td>0.0</td>\n",
       "      <td>1.0</td>\n",
       "      <td>0.0</td>\n",
       "      <td>0.0</td>\n",
       "      <td>...</td>\n",
       "      <td>0.0</td>\n",
       "      <td>0.0</td>\n",
       "      <td>1.0</td>\n",
       "      <td>3413.453269</td>\n",
       "      <td>0.0</td>\n",
       "      <td>0.0</td>\n",
       "      <td>1.0</td>\n",
       "      <td>0.0</td>\n",
       "      <td>0.0</td>\n",
       "      <td>1.0</td>\n",
       "    </tr>\n",
       "    <tr>\n",
       "      <th>...</th>\n",
       "      <td>...</td>\n",
       "      <td>...</td>\n",
       "      <td>...</td>\n",
       "      <td>...</td>\n",
       "      <td>...</td>\n",
       "      <td>...</td>\n",
       "      <td>...</td>\n",
       "      <td>...</td>\n",
       "      <td>...</td>\n",
       "      <td>...</td>\n",
       "      <td>...</td>\n",
       "      <td>...</td>\n",
       "      <td>...</td>\n",
       "      <td>...</td>\n",
       "      <td>...</td>\n",
       "      <td>...</td>\n",
       "      <td>...</td>\n",
       "      <td>...</td>\n",
       "      <td>...</td>\n",
       "      <td>...</td>\n",
       "      <td>...</td>\n",
       "    </tr>\n",
       "    <tr>\n",
       "      <th>43055</th>\n",
       "      <td>motorcycle</td>\n",
       "      <td>1.0</td>\n",
       "      <td>0.0</td>\n",
       "      <td>1.00</td>\n",
       "      <td>30</td>\n",
       "      <td>0.0</td>\n",
       "      <td>0.0</td>\n",
       "      <td>0.0</td>\n",
       "      <td>1.0</td>\n",
       "      <td>0.0</td>\n",
       "      <td>...</td>\n",
       "      <td>0.0</td>\n",
       "      <td>1.0</td>\n",
       "      <td>0.0</td>\n",
       "      <td>6.036610</td>\n",
       "      <td>0.0</td>\n",
       "      <td>1.0</td>\n",
       "      <td>0.0</td>\n",
       "      <td>0.0</td>\n",
       "      <td>0.0</td>\n",
       "      <td>1.0</td>\n",
       "    </tr>\n",
       "    <tr>\n",
       "      <th>23705</th>\n",
       "      <td>motorcycle</td>\n",
       "      <td>1.0</td>\n",
       "      <td>0.0</td>\n",
       "      <td>1.00</td>\n",
       "      <td>20</td>\n",
       "      <td>0.0</td>\n",
       "      <td>0.0</td>\n",
       "      <td>0.0</td>\n",
       "      <td>0.0</td>\n",
       "      <td>1.0</td>\n",
       "      <td>...</td>\n",
       "      <td>0.0</td>\n",
       "      <td>0.0</td>\n",
       "      <td>1.0</td>\n",
       "      <td>12.116906</td>\n",
       "      <td>0.0</td>\n",
       "      <td>1.0</td>\n",
       "      <td>0.0</td>\n",
       "      <td>0.0</td>\n",
       "      <td>0.0</td>\n",
       "      <td>1.0</td>\n",
       "    </tr>\n",
       "    <tr>\n",
       "      <th>6608</th>\n",
       "      <td>scooter</td>\n",
       "      <td>0.0</td>\n",
       "      <td>0.0</td>\n",
       "      <td>0.77</td>\n",
       "      <td>15</td>\n",
       "      <td>0.0</td>\n",
       "      <td>0.0</td>\n",
       "      <td>1.0</td>\n",
       "      <td>0.0</td>\n",
       "      <td>0.0</td>\n",
       "      <td>...</td>\n",
       "      <td>0.0</td>\n",
       "      <td>1.0</td>\n",
       "      <td>0.0</td>\n",
       "      <td>13.583332</td>\n",
       "      <td>0.0</td>\n",
       "      <td>0.0</td>\n",
       "      <td>1.0</td>\n",
       "      <td>0.0</td>\n",
       "      <td>0.0</td>\n",
       "      <td>1.0</td>\n",
       "    </tr>\n",
       "    <tr>\n",
       "      <th>45397</th>\n",
       "      <td>motorcycle</td>\n",
       "      <td>1.0</td>\n",
       "      <td>0.0</td>\n",
       "      <td>1.00</td>\n",
       "      <td>24</td>\n",
       "      <td>1.0</td>\n",
       "      <td>0.0</td>\n",
       "      <td>0.0</td>\n",
       "      <td>0.0</td>\n",
       "      <td>0.0</td>\n",
       "      <td>...</td>\n",
       "      <td>0.0</td>\n",
       "      <td>1.0</td>\n",
       "      <td>0.0</td>\n",
       "      <td>4.610614</td>\n",
       "      <td>0.0</td>\n",
       "      <td>1.0</td>\n",
       "      <td>0.0</td>\n",
       "      <td>0.0</td>\n",
       "      <td>0.0</td>\n",
       "      <td>1.0</td>\n",
       "    </tr>\n",
       "    <tr>\n",
       "      <th>4029</th>\n",
       "      <td>motorcycle</td>\n",
       "      <td>1.0</td>\n",
       "      <td>0.0</td>\n",
       "      <td>1.00</td>\n",
       "      <td>24</td>\n",
       "      <td>0.0</td>\n",
       "      <td>0.0</td>\n",
       "      <td>0.0</td>\n",
       "      <td>0.0</td>\n",
       "      <td>0.0</td>\n",
       "      <td>...</td>\n",
       "      <td>0.0</td>\n",
       "      <td>0.0</td>\n",
       "      <td>1.0</td>\n",
       "      <td>5986.451621</td>\n",
       "      <td>0.0</td>\n",
       "      <td>1.0</td>\n",
       "      <td>0.0</td>\n",
       "      <td>0.0</td>\n",
       "      <td>0.0</td>\n",
       "      <td>0.0</td>\n",
       "    </tr>\n",
       "  </tbody>\n",
       "</table>\n",
       "<p>9117 rows × 24 columns</p>\n",
       "</div>"
      ],
      "text/plain": [
       "      Type_of_vehicle  multiple_deliveries  Festival  City  Time_taken(min)  \\\n",
       "22766         scooter                  1.0       0.0  1.00               23   \n",
       "26061      motorcycle                  0.0       0.0  1.00               25   \n",
       "32517         scooter                  1.0       0.0  1.00               32   \n",
       "6101       motorcycle                  1.0       0.0  0.00               36   \n",
       "25324         scooter                  0.0       0.0  1.00               17   \n",
       "...               ...                  ...       ...   ...              ...   \n",
       "43055      motorcycle                  1.0       0.0  1.00               30   \n",
       "23705      motorcycle                  1.0       0.0  1.00               20   \n",
       "6608          scooter                  0.0       0.0  0.77               15   \n",
       "45397      motorcycle                  1.0       0.0  1.00               24   \n",
       "4029       motorcycle                  1.0       0.0  1.00               24   \n",
       "\n",
       "       Cloudy  Fog  Sandstorms  Stormy  Sunny  ...   50  Meal_Time  \\\n",
       "22766     1.0  0.0         0.0     0.0    0.0  ...  0.0        1.0   \n",
       "26061     0.0  0.0         0.0     0.0    1.0  ...  0.0        0.0   \n",
       "32517     0.0  0.0         0.0     0.0    0.0  ...  0.0        1.0   \n",
       "6101      0.0  0.0         0.0     0.0    1.0  ...  0.0        1.0   \n",
       "25324     0.0  0.0         1.0     0.0    0.0  ...  0.0        0.0   \n",
       "...       ...  ...         ...     ...    ...  ...  ...        ...   \n",
       "43055     0.0  0.0         0.0     1.0    0.0  ...  0.0        1.0   \n",
       "23705     0.0  0.0         0.0     0.0    1.0  ...  0.0        0.0   \n",
       "6608      0.0  0.0         1.0     0.0    0.0  ...  0.0        1.0   \n",
       "45397     1.0  0.0         0.0     0.0    0.0  ...  0.0        1.0   \n",
       "4029      0.0  0.0         0.0     0.0    0.0  ...  0.0        0.0   \n",
       "\n",
       "       Not_Meal_Time     Distance  bicycle  motorcycle  scooter  1.0  2.5-4.4  \\\n",
       "22766            0.0     6.050103      0.0         0.0      1.0  0.0      0.0   \n",
       "26061            1.0    11.007735      0.0         1.0      0.0  0.0      0.0   \n",
       "32517            0.0    10.867909      0.0         0.0      1.0  0.0      1.0   \n",
       "6101             0.0    13.620607      0.0         1.0      0.0  0.0      1.0   \n",
       "25324            1.0  3413.453269      0.0         0.0      1.0  0.0      0.0   \n",
       "...              ...          ...      ...         ...      ...  ...      ...   \n",
       "43055            0.0     6.036610      0.0         1.0      0.0  0.0      0.0   \n",
       "23705            1.0    12.116906      0.0         1.0      0.0  0.0      0.0   \n",
       "6608             0.0    13.583332      0.0         0.0      1.0  0.0      0.0   \n",
       "45397            0.0     4.610614      0.0         1.0      0.0  0.0      0.0   \n",
       "4029             1.0  5986.451621      0.0         1.0      0.0  0.0      0.0   \n",
       "\n",
       "       4.5-6.0  \n",
       "22766      1.0  \n",
       "26061      1.0  \n",
       "32517      0.0  \n",
       "6101       0.0  \n",
       "25324      1.0  \n",
       "...        ...  \n",
       "43055      1.0  \n",
       "23705      1.0  \n",
       "6608       1.0  \n",
       "45397      1.0  \n",
       "4029       0.0  \n",
       "\n",
       "[9117 rows x 24 columns]"
      ]
     },
     "execution_count": 1510,
     "metadata": {},
     "output_type": "execute_result"
    }
   ],
   "source": [
    "test_data"
   ]
  },
  {
   "cell_type": "markdown",
   "metadata": {},
   "source": [
    "We see that all NaN values are now gone."
   ]
  },
  {
   "cell_type": "code",
   "execution_count": 1511,
   "metadata": {},
   "outputs": [],
   "source": [
    "# we already one hot encoded this\n",
    "train_data.drop('Type_of_vehicle', inplace=True, axis=1)\n",
    "test_data.drop('Type_of_vehicle', inplace=True, axis=1)"
   ]
  },
  {
   "cell_type": "code",
   "execution_count": 1512,
   "metadata": {},
   "outputs": [
    {
     "data": {
      "text/html": [
       "<div>\n",
       "<style scoped>\n",
       "    .dataframe tbody tr th:only-of-type {\n",
       "        vertical-align: middle;\n",
       "    }\n",
       "\n",
       "    .dataframe tbody tr th {\n",
       "        vertical-align: top;\n",
       "    }\n",
       "\n",
       "    .dataframe thead th {\n",
       "        text-align: right;\n",
       "    }\n",
       "</style>\n",
       "<table border=\"1\" class=\"dataframe\">\n",
       "  <thead>\n",
       "    <tr style=\"text-align: right;\">\n",
       "      <th></th>\n",
       "      <th>multiple_deliveries</th>\n",
       "      <th>Festival</th>\n",
       "      <th>City</th>\n",
       "      <th>Time_taken(min)</th>\n",
       "      <th>Cloudy</th>\n",
       "      <th>Fog</th>\n",
       "      <th>Sandstorms</th>\n",
       "      <th>Stormy</th>\n",
       "      <th>Sunny</th>\n",
       "      <th>Windy</th>\n",
       "      <th>...</th>\n",
       "      <th>50</th>\n",
       "      <th>Meal_Time</th>\n",
       "      <th>Not_Meal_Time</th>\n",
       "      <th>Distance</th>\n",
       "      <th>bicycle</th>\n",
       "      <th>motorcycle</th>\n",
       "      <th>scooter</th>\n",
       "      <th>1.0</th>\n",
       "      <th>2.5-4.4</th>\n",
       "      <th>4.5-6.0</th>\n",
       "    </tr>\n",
       "  </thead>\n",
       "  <tbody>\n",
       "    <tr>\n",
       "      <th>25857</th>\n",
       "      <td>0.0</td>\n",
       "      <td>0.0</td>\n",
       "      <td>0.00</td>\n",
       "      <td>19</td>\n",
       "      <td>0.0</td>\n",
       "      <td>0.0</td>\n",
       "      <td>0.0</td>\n",
       "      <td>0.0</td>\n",
       "      <td>1.0</td>\n",
       "      <td>0.0</td>\n",
       "      <td>...</td>\n",
       "      <td>0.0</td>\n",
       "      <td>1.0</td>\n",
       "      <td>0.0</td>\n",
       "      <td>1.532275</td>\n",
       "      <td>0.0</td>\n",
       "      <td>1.0</td>\n",
       "      <td>0.0</td>\n",
       "      <td>0.0</td>\n",
       "      <td>0.0</td>\n",
       "      <td>1.0</td>\n",
       "    </tr>\n",
       "    <tr>\n",
       "      <th>2575</th>\n",
       "      <td>1.0</td>\n",
       "      <td>0.0</td>\n",
       "      <td>0.78</td>\n",
       "      <td>17</td>\n",
       "      <td>0.0</td>\n",
       "      <td>0.0</td>\n",
       "      <td>0.0</td>\n",
       "      <td>0.0</td>\n",
       "      <td>1.0</td>\n",
       "      <td>0.0</td>\n",
       "      <td>...</td>\n",
       "      <td>0.0</td>\n",
       "      <td>1.0</td>\n",
       "      <td>0.0</td>\n",
       "      <td>4.538408</td>\n",
       "      <td>0.0</td>\n",
       "      <td>1.0</td>\n",
       "      <td>0.0</td>\n",
       "      <td>0.0</td>\n",
       "      <td>0.0</td>\n",
       "      <td>1.0</td>\n",
       "    </tr>\n",
       "  </tbody>\n",
       "</table>\n",
       "<p>2 rows × 23 columns</p>\n",
       "</div>"
      ],
      "text/plain": [
       "       multiple_deliveries  Festival  City  Time_taken(min)  Cloudy  Fog  \\\n",
       "25857                  0.0       0.0  0.00               19     0.0  0.0   \n",
       "2575                   1.0       0.0  0.78               17     0.0  0.0   \n",
       "\n",
       "       Sandstorms  Stormy  Sunny  Windy  ...   50  Meal_Time  Not_Meal_Time  \\\n",
       "25857         0.0     0.0    1.0    0.0  ...  0.0        1.0            0.0   \n",
       "2575          0.0     0.0    1.0    0.0  ...  0.0        1.0            0.0   \n",
       "\n",
       "       Distance  bicycle  motorcycle  scooter  1.0  2.5-4.4  4.5-6.0  \n",
       "25857  1.532275      0.0         1.0      0.0  0.0      0.0      1.0  \n",
       "2575   4.538408      0.0         1.0      0.0  0.0      0.0      1.0  \n",
       "\n",
       "[2 rows x 23 columns]"
      ]
     },
     "execution_count": 1512,
     "metadata": {},
     "output_type": "execute_result"
    }
   ],
   "source": [
    "train_data.head(2)"
   ]
  },
  {
   "cell_type": "markdown",
   "metadata": {},
   "source": [
    "Now there are no NaN (missing) values, and they are all floats or integers so we can begin building the model!"
   ]
  },
  {
   "cell_type": "markdown",
   "metadata": {},
   "source": [
    "#### Split training so we have validation data\n",
    "I want a 10% validation data split of the whole dataset, so we will split the current training data into a 70/10 train/validation split which means that validation data makes up 12.5% ($10/80$) of the current training data."
   ]
  },
  {
   "cell_type": "code",
   "execution_count": 1513,
   "metadata": {},
   "outputs": [],
   "source": [
    "train_data, valid_data = train_test_split(train_data, test_size=0.125, random_state=1)"
   ]
  },
  {
   "cell_type": "code",
   "execution_count": 1514,
   "metadata": {},
   "outputs": [],
   "source": [
    "from xgboost import XGBRegressor\n",
    "\n",
    "my_model = XGBRegressor(random_state=1)\n",
    "\n",
    "train_y = train_data['Time_taken(min)']\n",
    "train_X = train_data.drop('Time_taken(min)', axis=1)\n",
    "valid_y = valid_data['Time_taken(min)']\n",
    "valid_X = valid_data.drop('Time_taken(min)', axis=1)\n",
    "test_y = test_data['Time_taken(min)']\n",
    "test_X = test_data.drop('Time_taken(min)', axis=1)\n",
    "\n",
    "# use kaggle's thing to fit model etc, split data into X and y\n",
    "# then figure out how to make the neural networks thingy\n",
    "# either you built those layers in kaggle or coursera, pretty sure kaggle"
   ]
  },
  {
   "cell_type": "code",
   "execution_count": 1515,
   "metadata": {},
   "outputs": [],
   "source": [
    "my_model.fit(train_X, train_y);"
   ]
  },
  {
   "cell_type": "code",
   "execution_count": 1516,
   "metadata": {},
   "outputs": [],
   "source": [
    "predict_valid = my_model.predict(valid_X)"
   ]
  },
  {
   "cell_type": "code",
   "execution_count": 1517,
   "metadata": {},
   "outputs": [
    {
     "data": {
      "text/plain": [
       "array([34.342533, 45.37122 , 22.734089, ..., 14.48668 , 38.428043,\n",
       "       16.066624], dtype=float32)"
      ]
     },
     "execution_count": 1517,
     "metadata": {},
     "output_type": "execute_result"
    }
   ],
   "source": [
    "predict_valid"
   ]
  },
  {
   "cell_type": "code",
   "execution_count": 1518,
   "metadata": {},
   "outputs": [],
   "source": [
    "from sklearn.metrics import mean_absolute_error"
   ]
  },
  {
   "cell_type": "code",
   "execution_count": 1519,
   "metadata": {},
   "outputs": [],
   "source": [
    "time_mae = mean_absolute_error(valid_y, predict_valid)"
   ]
  },
  {
   "cell_type": "code",
   "execution_count": 1520,
   "metadata": {},
   "outputs": [
    {
     "name": "stdout",
     "output_type": "stream",
     "text": [
      "8.43%\n"
     ]
    }
   ],
   "source": [
    "max_time = valid_y.max()\n",
    "min_time = valid_y.min()\n",
    "percent_err = time_mae / (max_time - min_time)\n",
    "print(f\"{percent_err:.2%}\")"
   ]
  },
  {
   "cell_type": "code",
   "execution_count": 1521,
   "metadata": {},
   "outputs": [
    {
     "data": {
      "text/plain": [
       "\"\\nfrom sklearn.model_selection import GridSearchCV\\nmy_model = XGBRegressor(random_state=1, n_jobs=-1)\\nparam_grid = {\\n    'n_estimators': [50, 100, 500, 1000],\\n    'learning_rate': [0.001, 0.01, 0.1, 0.2],\\n    'max_depth': [3, 7, 10]\\n}\\n\\ngrid_search = GridSearchCV(estimator=my_model, param_grid=param_grid, scoring='neg_mean_absolute_error')\\ngrid_search.fit(train_X, train_y, eval_set=[(valid_X, valid_y)], verbose=False)\\n\\nbest_parms = grid_search.best_params_\\nbest_model = grid_search.best_estimator_\\n\""
      ]
     },
     "execution_count": 1521,
     "metadata": {},
     "output_type": "execute_result"
    }
   ],
   "source": [
    "'''\n",
    "from sklearn.model_selection import GridSearchCV\n",
    "my_model = XGBRegressor(random_state=1, n_jobs=-1)\n",
    "param_grid = {\n",
    "    'n_estimators': [50, 100, 500, 1000],\n",
    "    'learning_rate': [0.001, 0.01, 0.1, 0.2],\n",
    "    'max_depth': [3, 7, 10]\n",
    "}\n",
    "\n",
    "grid_search = GridSearchCV(estimator=my_model, param_grid=param_grid, scoring='neg_mean_absolute_error')\n",
    "grid_search.fit(train_X, train_y, eval_set=[(valid_X, valid_y)], verbose=False)\n",
    "\n",
    "best_parms = grid_search.best_params_\n",
    "best_model = grid_search.best_estimator_\n",
    "'''\n",
    "\n",
    "# already ran this, got learning_rate = 0.01, max_depth = 10,\n",
    "# n_estimators = 500 as best parameters in the dict format:\n",
    "# {'learning_rate': 0.01, 'max_depth': 10, 'n_estimators': 500}\n",
    "# default is learning_rate = 0.3, max_depth = 6, n_estimators = 100"
   ]
  },
  {
   "cell_type": "code",
   "execution_count": 1522,
   "metadata": {},
   "outputs": [
    {
     "name": "stdout",
     "output_type": "stream",
     "text": [
      "Mean Absolute Error in Minutes: 3.718\n"
     ]
    }
   ],
   "source": [
    "best_model = XGBRegressor(random_state=1, n_jobs=-1, learning_rate=0.01, max_depth=10, n_estimators=500)\n",
    "best_model.fit(train_X, train_y)\n",
    "predict_test = best_model.predict(test_X)\n",
    "time_mae_test = mean_absolute_error(test_y, predict_test)\n",
    "print('Mean Absolute Error in Minutes:', round(time_mae_test, 3))"
   ]
  },
  {
   "cell_type": "code",
   "execution_count": 1523,
   "metadata": {},
   "outputs": [
    {
     "name": "stdout",
     "output_type": "stream",
     "text": [
      "Percent Error Based on Range: 8.45%\n"
     ]
    }
   ],
   "source": [
    "percent_err_test = time_mae_test / (max_time - min_time)\n",
    "print('Percent Error Based on Range:', f\"{percent_err_test:.2%}\")"
   ]
  },
  {
   "cell_type": "code",
   "execution_count": 1524,
   "metadata": {},
   "outputs": [
    {
     "name": "stdout",
     "output_type": "stream",
     "text": [
      "Mean Absolute Error in Minutes with no Tuning: 3.763\n"
     ]
    }
   ],
   "source": [
    "# without hypertuning\n",
    "norm_model = XGBRegressor(random_state=1)\n",
    "norm_model.fit(train_X, train_y)\n",
    "predict_test_norm = norm_model.predict(test_X)\n",
    "time_mae_test_norm = mean_absolute_error(test_y, predict_test_norm)\n",
    "print('Mean Absolute Error in Minutes with no Tuning:', round(time_mae_test_norm, 3))"
   ]
  },
  {
   "cell_type": "code",
   "execution_count": 1525,
   "metadata": {},
   "outputs": [
    {
     "name": "stdout",
     "output_type": "stream",
     "text": [
      "Percent Error Based on Range with no Tuning: 8.55%\n"
     ]
    }
   ],
   "source": [
    "percent_err_test_norm = time_mae_test_norm / (max_time - min_time)\n",
    "print('Percent Error Based on Range with no Tuning:', f\"{percent_err_test_norm:.2%}\")"
   ]
  },
  {
   "cell_type": "markdown",
   "metadata": {},
   "source": [
    "We see that with the hyper tuning with the validation set, the model does slightly better on the test set."
   ]
  },
  {
   "cell_type": "code",
   "execution_count": 1526,
   "metadata": {},
   "outputs": [],
   "source": [
    "# next steps: build your own neural network, choosing number of layers and nodes etc"
   ]
  }
 ],
 "metadata": {
  "kernelspec": {
   "display_name": "basic-ml-ai",
   "language": "python",
   "name": "python3"
  },
  "language_info": {
   "codemirror_mode": {
    "name": "ipython",
    "version": 3
   },
   "file_extension": ".py",
   "mimetype": "text/x-python",
   "name": "python",
   "nbconvert_exporter": "python",
   "pygments_lexer": "ipython3",
   "version": "3.12.0"
  }
 },
 "nbformat": 4,
 "nbformat_minor": 2
}
